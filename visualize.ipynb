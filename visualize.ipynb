{
 "nbformat": 4,
 "nbformat_minor": 0,
 "metadata": {
  "colab": {
   "name": "eval.ipynb",
   "provenance": [],
   "collapsed_sections": [],
   "authorship_tag": "ABX9TyPdtmgwZeUA2bMOASBThtkM"
  },
  "kernelspec": {
   "name": "python3",
   "display_name": "Python 3"
  },
  "language_info": {
   "name": "python"
  },
  "accelerator": "GPU"
 },
 "cells": [
  {
   "cell_type": "code",
   "execution_count": 1,
   "metadata": {
    "id": "CqXS_yTSVGPh",
    "executionInfo": {
     "status": "ok",
     "timestamp": 1651655914962,
     "user_tz": -120,
     "elapsed": 270,
     "user": {
      "displayName": "david horsky",
      "userId": "15225206442244274917"
     }
    },
    "pycharm": {
     "name": "#%%\n"
    }
   },
   "outputs": [],
   "source": [
    "import os"
   ]
  },
  {
   "cell_type": "code",
   "source": [
    "try:\n",
    "    import google.colab\n",
    "\n",
    "    IN_COLAB = True\n",
    "except:\n",
    "    IN_COLAB = False\n",
    "print(IN_COLAB)"
   ],
   "metadata": {
    "colab": {
     "base_uri": "https://localhost:8080/"
    },
    "id": "Jy8Opmh-VYhf",
    "executionInfo": {
     "status": "ok",
     "timestamp": 1651655915635,
     "user_tz": -120,
     "elapsed": 361,
     "user": {
      "displayName": "david horsky",
      "userId": "15225206442244274917"
     }
    },
    "outputId": "e2c184e8-5ab0-422f-9de4-e625a4703ea8",
    "pycharm": {
     "name": "#%%\n"
    }
   },
   "execution_count": 2,
   "outputs": [
    {
     "output_type": "stream",
     "name": "stdout",
     "text": [
      "True\n"
     ]
    }
   ]
  },
  {
   "cell_type": "code",
   "source": [
    "!pip install graph_nets  dm-sonnet tensorflow_probability"
   ],
   "metadata": {
    "colab": {
     "base_uri": "https://localhost:8080/"
    },
    "id": "2tHxTw2kVaSN",
    "executionInfo": {
     "status": "ok",
     "timestamp": 1651655926171,
     "user_tz": -120,
     "elapsed": 10538,
     "user": {
      "displayName": "david horsky",
      "userId": "15225206442244274917"
     }
    },
    "outputId": "3121be3e-0f32-4e2f-a2f8-0df245f3b609",
    "pycharm": {
     "name": "#%%\n"
    }
   },
   "execution_count": 3,
   "outputs": [
    {
     "output_type": "stream",
     "name": "stdout",
     "text": [
      "Collecting graph_nets\n",
      "  Downloading graph_nets-1.1.0.tar.gz (76 kB)\n",
      "\u001B[K     |████████████████████████████████| 76 kB 2.2 MB/s \n",
      "\u001B[?25hCollecting dm-sonnet\n",
      "  Downloading dm_sonnet-2.0.0-py3-none-any.whl (254 kB)\n",
      "\u001B[K     |████████████████████████████████| 254 kB 9.4 MB/s \n",
      "\u001B[?25hRequirement already satisfied: tensorflow_probability in /usr/local/lib/python3.7/dist-packages (0.16.0)\n",
      "Requirement already satisfied: absl-py in /usr/local/lib/python3.7/dist-packages (from graph_nets) (1.0.0)\n",
      "Requirement already satisfied: dm-tree in /usr/local/lib/python3.7/dist-packages (from graph_nets) (0.1.7)\n",
      "Requirement already satisfied: future in /usr/local/lib/python3.7/dist-packages (from graph_nets) (0.16.0)\n",
      "Requirement already satisfied: networkx in /usr/local/lib/python3.7/dist-packages (from graph_nets) (2.6.3)\n",
      "Requirement already satisfied: numpy in /usr/local/lib/python3.7/dist-packages (from graph_nets) (1.21.6)\n",
      "Requirement already satisfied: setuptools in /usr/local/lib/python3.7/dist-packages (from graph_nets) (57.4.0)\n",
      "Requirement already satisfied: six in /usr/local/lib/python3.7/dist-packages (from graph_nets) (1.15.0)\n",
      "Requirement already satisfied: tabulate>=0.7.5 in /usr/local/lib/python3.7/dist-packages (from dm-sonnet) (0.8.9)\n",
      "Requirement already satisfied: wrapt>=1.11.1 in /usr/local/lib/python3.7/dist-packages (from dm-sonnet) (1.14.0)\n",
      "Requirement already satisfied: gast>=0.3.2 in /usr/local/lib/python3.7/dist-packages (from tensorflow_probability) (0.5.3)\n",
      "Requirement already satisfied: decorator in /usr/local/lib/python3.7/dist-packages (from tensorflow_probability) (4.4.2)\n",
      "Requirement already satisfied: cloudpickle>=1.3 in /usr/local/lib/python3.7/dist-packages (from tensorflow_probability) (1.3.0)\n",
      "Building wheels for collected packages: graph-nets\n",
      "  Building wheel for graph-nets (setup.py) ... \u001B[?25l\u001B[?25hdone\n",
      "  Created wheel for graph-nets: filename=graph_nets-1.1.0-py3-none-any.whl size=91857 sha256=e6477832b1ef4738b7f6530ab16559ce96c4847b85d6d31bb8a31e874f416970\n",
      "  Stored in directory: /root/.cache/pip/wheels/44/3d/65/f2e8f0a8d0b28bea5f168fc717261a67303d2183a3e450c812\n",
      "Successfully built graph-nets\n",
      "Installing collected packages: dm-sonnet, graph-nets\n",
      "Successfully installed dm-sonnet-2.0.0 graph-nets-1.1.0\n"
     ]
    }
   ]
  },
  {
   "cell_type": "code",
   "source": [
    "if IN_COLAB and 'drive' not in os.listdir(\"/content\"):\n",
    "    from google.colab import drive\n",
    "\n",
    "    drive.mount('/content/drive')"
   ],
   "metadata": {
    "colab": {
     "base_uri": "https://localhost:8080/"
    },
    "id": "ytSCCNvTVcQA",
    "executionInfo": {
     "status": "ok",
     "timestamp": 1651655962200,
     "user_tz": -120,
     "elapsed": 36034,
     "user": {
      "displayName": "david horsky",
      "userId": "15225206442244274917"
     }
    },
    "outputId": "88effe39-4d92-4411-8291-4614a9144803",
    "pycharm": {
     "name": "#%%\n"
    }
   },
   "execution_count": 4,
   "outputs": [
    {
     "output_type": "stream",
     "name": "stdout",
     "text": [
      "Mounted at /content/drive\n"
     ]
    }
   ]
  },
  {
   "cell_type": "code",
   "source": [
    "if IN_COLAB:\n",
    "    os.chdir('/content/drive/MyDrive/bakalarka')"
   ],
   "metadata": {
    "id": "QCHZ1gzPVe0t",
    "executionInfo": {
     "status": "ok",
     "timestamp": 1651655962201,
     "user_tz": -120,
     "elapsed": 5,
     "user": {
      "displayName": "david horsky",
      "userId": "15225206442244274917"
     }
    },
    "pycharm": {
     "name": "#%%\n"
    }
   },
   "execution_count": 5,
   "outputs": []
  },
  {
   "cell_type": "code",
   "source": [
    "import tensorflow as tf\n",
    "\n",
    "import time\n",
    "import sys\n",
    "import re\n",
    "import pickle\n",
    "\n",
    "from graph_nets import utils_tf\n",
    "\n",
    "import dataset\n",
    "\n",
    "from common import NodeType\n",
    "from dataset import load_dataset, add_targets, triangles_to_edges, prepare,split_dataset ,add_targets, add_batch"
   ],
   "metadata": {
    "id": "wJ-Eu0OAVj0i",
    "executionInfo": {
     "status": "ok",
     "timestamp": 1651657309859,
     "user_tz": -120,
     "elapsed": 4,
     "user": {
      "displayName": "david horsky",
      "userId": "15225206442244274917"
     }
    },
    "pycharm": {
     "name": "#%%\n"
    }
   },
   "execution_count": 52,
   "outputs": []
  },
  {
   "cell_type": "code",
   "source": [
    "from EncodeProcessDecodeBasic import EncodeProcessDecode\n",
    "from EncodeProcessDecodeNorm import EncodeProcessDecode as EncodeProcessDecodeNorm\n",
    "from EncodeProcessDecodeAddNorm import EncodeProcessDecode as EncodeProcessDecodeAddNorm\n",
    "from EncodeProcessDecodeNoLib import EncodeProcessDecode as EncodeProcessDecodeNoLib\n",
    "from EncodeProcessDecodeMultinet import EncodeProcessDecode as EncodeProcessDecodeMultinet\n",
    "from EncodeProcessDecodeNamedMultinet import EncodeProcessDecode as EncodeProcessDecodeNamedMultinet"
   ],
   "metadata": {
    "id": "JAhLAh35WLDp",
    "executionInfo": {
     "status": "ok",
     "timestamp": 1651655967734,
     "user_tz": -120,
     "elapsed": 1437,
     "user": {
      "displayName": "david horsky",
      "userId": "15225206442244274917"
     }
    },
    "pycharm": {
     "name": "#%%\n"
    }
   },
   "execution_count": 7,
   "outputs": []
  },
  {
   "cell_type": "code",
   "source": [
    "data_path = 'data/airfoil'\n",
    "data_train = 'small' if IN_COLAB else 'train'\n",
    "data_valid = 'small' if IN_COLAB else 'valid'\n",
    "data_test = 'small' if IN_COLAB else 'test'"
   ],
   "metadata": {
    "id": "FF-CgkoFoDrV",
    "executionInfo": {
     "status": "ok",
     "timestamp": 1651655967734,
     "user_tz": -120,
     "elapsed": 2,
     "user": {
      "displayName": "david horsky",
      "userId": "15225206442244274917"
     }
    },
    "pycharm": {
     "name": "#%%\n"
    }
   },
   "execution_count": 8,
   "outputs": []
  },
  {
   "cell_type": "code",
   "source": [
    "mod = \"named\"\n",
    "models = {\"named\": {\"model\": EncodeProcessDecodeNamedMultinet,\n",
    "                    \"args\": {\"steps\": 15,\n",
    "                             \"learn_features\": 2,\n",
    "                             \"n_layers\": 2,\n",
    "                             \"lat_size\": 128,\n",
    "                             \"edge_feat_cnt\": 3,\n",
    "                             \"node_feat_cnt\": 5},\n",
    "                    \"params\": [dict(noise=0.02, gamma=1.0, field='velocity', history=False,\n",
    "                                    size=2, batch=2)],\n",
    "                    \"path\": \"namednet\"},\n",
    "          \"named18\": {\"model\": EncodeProcessDecodeNamedMultinet,\n",
    "                      \"args\": {\"steps\": 18,\n",
    "                               \"learn_features\": 2,\n",
    "                               \"n_layers\": 2,\n",
    "                               \"lat_size\": 128,\n",
    "                               \"edge_feat_cnt\": 3,\n",
    "                               \"node_feat_cnt\": 5},\n",
    "                      \"params\": [dict(noise=0.02, gamma=1.0, field='velocity', history=False,\n",
    "                                      size=2, batch=2)],\n",
    "                      \"path\": \"namednet18\"},\n",
    "          \"named12\": {\"model\": EncodeProcessDecodeNamedMultinet,\n",
    "                      \"args\": {\"steps\": 12,\n",
    "                               \"learn_features\": 2,\n",
    "                               \"n_layers\": 2,\n",
    "                               \"lat_size\": 128,\n",
    "                               \"edge_feat_cnt\": 3,\n",
    "                               \"node_feat_cnt\": 5},\n",
    "                      \"params\": [dict(noise=0.02, gamma=1.0, field='velocity', history=False,\n",
    "                                      size=2, batch=2)],\n",
    "                      \"path\": \"namednet12\"\n",
    "                      },\n",
    "          \"named-full\": {\"model\": EncodeProcessDecodeNamedMultinet,\n",
    "                         \"args\": {\"steps\": 12,\n",
    "                                  \"learn_features\": 4,\n",
    "                                  \"n_layers\": 2,\n",
    "                                  \"lat_size\": 128,\n",
    "                                  \"edge_feat_cnt\": 3,\n",
    "                                  \"node_feat_cnt\": 7},\n",
    "                         \"params\": [dict(noise=0.02, gamma=1.0, field='velocity', history=False,\n",
    "                                         size=2, batch=2),\n",
    "                                    dict(noise=0.02, gamma=1.0, field='pressure', history=False,\n",
    "                                         size=1, batch=2),\n",
    "                                    dict(noise=0.02, gamma=1.0, field='density', history=False,\n",
    "                                         size=1, batch=2)],\n",
    "                         \"path\": \"fullnet\"},\n",
    "          \"named12n\": {\"model\": EncodeProcessDecodeNamedMultinet,\n",
    "                    \"args\": {\"steps\": 12,\n",
    "                             \"learn_features\": 2,\n",
    "                             \"n_layers\": 2,\n",
    "                             \"lat_size\": 128,\n",
    "                             \"edge_feat_cnt\": 3,\n",
    "                             \"node_feat_cnt\": 5},\n",
    "                    \"params\": [dict(noise=1.0, gamma=1.0, field='velocity', history=False,\n",
    "                                    size=2, batch=2)]},\n",
    "                    \"path\": \"namednet12n\"}"
   ],
   "metadata": {
    "id": "OLBajzSanVoC",
    "executionInfo": {
     "status": "ok",
     "timestamp": 1651655967735,
     "user_tz": -120,
     "elapsed": 3,
     "user": {
      "displayName": "david horsky",
      "userId": "15225206442244274917"
     }
    },
    "pycharm": {
     "name": "#%%\n"
    }
   },
   "execution_count": 9,
   "outputs": []
  },
  {
   "cell_type": "code",
   "source": [
    "params = models[mod][\"params\"]\n",
    "targets = tuple([x[\"field\"] for x in params])"
   ],
   "metadata": {
    "id": "-13vHRFfoM2K",
    "executionInfo": {
     "status": "ok",
     "timestamp": 1651655967735,
     "user_tz": -120,
     "elapsed": 2,
     "user": {
      "displayName": "david horsky",
      "userId": "15225206442244274917"
     }
    },
    "pycharm": {
     "name": "#%%\n"
    }
   },
   "execution_count": 10,
   "outputs": []
  },
  {
   "cell_type": "code",
   "source": [
    "dt2 = load_dataset(data_path, data_train)\n",
    "dt2 = add_targets(dt2, targets, add_history=params[0]['history'])\n",
    "qq = iter(dt2).next()"
   ],
   "metadata": {
    "id": "j39ykYSuqvre",
    "executionInfo": {
     "status": "ok",
     "timestamp": 1651655978061,
     "user_tz": -120,
     "elapsed": 10328,
     "user": {
      "displayName": "david horsky",
      "userId": "15225206442244274917"
     }
    },
    "pycharm": {
     "name": "#%%\n"
    }
   },
   "execution_count": 11,
   "outputs": []
  },
  {
   "cell_type": "code",
   "source": [
    "NodeTypeCnt = tf.unique(tf.reshape(qq['node_type'][0], qq['node_type'][0].shape[:1])).y.shape[0]"
   ],
   "metadata": {
    "id": "vTuvGvQeqm4y",
    "executionInfo": {
     "status": "ok",
     "timestamp": 1651655978062,
     "user_tz": -120,
     "elapsed": 7,
     "user": {
      "displayName": "david horsky",
      "userId": "15225206442244274917"
     }
    },
    "pycharm": {
     "name": "#%%\n"
    }
   },
   "execution_count": 12,
   "outputs": []
  },
  {
   "cell_type": "code",
   "source": [
    "@tf.function\n",
    "def toGraphsTuple(d, targets=('velocity',)):\n",
    "    send, recive = triangles_to_edges(d['cells'])\n",
    "    rel_pos = (tf.gather(d['mesh_pos'], send) - tf.gather(d['mesh_pos'], recive))\n",
    "    nodes_unique = tf.unique_with_counts(tf.reshape(d[\"node_type\"], [-1]))\n",
    "    one_hot = tf.one_hot(nodes_unique.idx, NodeTypeCnt, dtype=tf.float32)\n",
    "    dd = {\n",
    "        \"nodes\": tf.concat([*[d[x] for x in targets], one_hot], 1),\n",
    "        # on change update loss function ^\n",
    "        \"senders\": send,\n",
    "        \"receivers\": recive,\n",
    "        \"edges\": tf.concat([\n",
    "            rel_pos,\n",
    "            tf.norm(rel_pos, axis=-1, keepdims=True)], 1)\n",
    "    }\n",
    "    return utils_tf.data_dicts_to_graphs_tuple([dd])"
   ],
   "metadata": {
    "id": "1ztTwvVrVlnz",
    "executionInfo": {
     "status": "ok",
     "timestamp": 1651655978062,
     "user_tz": -120,
     "elapsed": 5,
     "user": {
      "displayName": "david horsky",
      "userId": "15225206442244274917"
     }
    },
    "pycharm": {
     "name": "#%%\n"
    }
   },
   "execution_count": 13,
   "outputs": []
  },
  {
   "cell_type": "code",
   "source": [
    "def get_init_grp(qq,targets=('velocity',)):\n",
    "  qqq = {}\n",
    "  for i, j in qq.items():\n",
    "      qqq[i] = j[0]\n",
    "  return toGraphsTuple(qqq, targets)"
   ],
   "metadata": {
    "id": "OOTRTcrZnmcN",
    "executionInfo": {
     "status": "ok",
     "timestamp": 1651655978062,
     "user_tz": -120,
     "elapsed": 4,
     "user": {
      "displayName": "david horsky",
      "userId": "15225206442244274917"
     }
    },
    "pycharm": {
     "name": "#%%\n"
    }
   },
   "execution_count": 14,
   "outputs": []
  },
  {
   "cell_type": "code",
   "source": [
    "@tf.function\n",
    "def rollout(model, grp_,length, loss_mask):\n",
    "  res = [grp_, ]\n",
    "  for i in range(length):\n",
    "      grp2_ = model(grp_, False)\n",
    "      grp_ = grp_.replace(nodes=tf.where(loss_mask, grp2_.nodes, grp_.nodes))\n",
    "      res.append(grp_)\n",
    "  return res"
   ],
   "metadata": {
    "id": "CPCxfD6GrnZm",
    "executionInfo": {
     "status": "ok",
     "timestamp": 1651655978062,
     "user_tz": -120,
     "elapsed": 4,
     "user": {
      "displayName": "david horsky",
      "userId": "15225206442244274917"
     }
    },
    "pycharm": {
     "name": "#%%\n"
    }
   },
   "execution_count": 15,
   "outputs": []
  },
  {
   "cell_type": "code",
   "source": [
    "md = models[mod]\n",
    "model = md[\"model\"](**md[\"args\"])\n",
    "bsize = 5\n",
    "mx_iter = 10"
   ],
   "metadata": {
    "id": "ku_ZW60suI_m",
    "executionInfo": {
     "status": "ok",
     "timestamp": 1651655978445,
     "user_tz": -120,
     "elapsed": 387,
     "user": {
      "displayName": "david horsky",
      "userId": "15225206442244274917"
     }
    },
    "pycharm": {
     "name": "#%%\n"
    }
   },
   "execution_count": 16,
   "outputs": []
  },
  {
   "cell_type": "code",
   "source": [
    "dtTrain = load_dataset(data_path,data_train)\n",
    "dtValid = load_dataset(data_path,data_valid)\n",
    "dtTrain = add_batch(prepare(split_dataset(add_targets(dtTrain,targets,False)),100 if IN_COLAB else 1000),bsize)"
   ],
   "metadata": {
    "id": "MAtX8UOs6jG5",
    "executionInfo": {
     "status": "ok",
     "timestamp": 1651655978713,
     "user_tz": -120,
     "elapsed": 271,
     "user": {
      "displayName": "david horsky",
      "userId": "15225206442244274917"
     }
    },
    "pycharm": {
     "name": "#%%\n"
    }
   },
   "execution_count": 17,
   "outputs": []
  },
  {
   "cell_type": "code",
   "source": [
    "chck_root = \"models/\" + md[\"path\"] + \"/\"\n",
    "chck_name = mod\n",
    "\n",
    "chck = tf.train.Checkpoint(module=model)\n",
    "\n",
    "latest = tf.train.latest_checkpoint(chck_root)\n",
    "if latest is not None:\n",
    "    print(\"loading\", latest)\n",
    "    chck.restore(latest)"
   ],
   "metadata": {
    "colab": {
     "base_uri": "https://localhost:8080/"
    },
    "id": "ZQgHH1iDumlq",
    "executionInfo": {
     "status": "ok",
     "timestamp": 1651655980203,
     "user_tz": -120,
     "elapsed": 1491,
     "user": {
      "displayName": "david horsky",
      "userId": "15225206442244274917"
     }
    },
    "outputId": "07ecc1b2-cc77-4c49-a313-10c2edd91a58",
    "pycharm": {
     "name": "#%%\n"
    }
   },
   "execution_count": 18,
   "outputs": [
    {
     "output_type": "stream",
     "name": "stdout",
     "text": [
      "loading models/namednet/named-197\n"
     ]
    }
   ]
  },
  {
   "cell_type": "code",
   "source": [
    "models_ = [re.match('\\w+-\\d+',x)[0] for x in filter(lambda x: x !=\"checkpoint\", os.listdir(chck_root))]"
   ],
   "metadata": {
    "id": "dQSuneH_1TMa",
    "executionInfo": {
     "status": "ok",
     "timestamp": 1651655980204,
     "user_tz": -120,
     "elapsed": 5,
     "user": {
      "displayName": "david horsky",
      "userId": "15225206442244274917"
     }
    },
    "pycharm": {
     "name": "#%%\n"
    }
   },
   "execution_count": 20,
   "outputs": []
  },
  {
   "cell_type": "code",
   "source": [
    "itTrain = iter(dtTrain)\n",
    "itValid = iter(dtValid)"
   ],
   "metadata": {
    "id": "mPDWjGW_7-fM",
    "executionInfo": {
     "status": "ok",
     "timestamp": 1651655980568,
     "user_tz": -120,
     "elapsed": 368,
     "user": {
      "displayName": "david horsky",
      "userId": "15225206442244274917"
     }
    },
    "pycharm": {
     "name": "#%%\n"
    }
   },
   "execution_count": 21,
   "outputs": []
  },
  {
   "cell_type": "code",
   "source": [
    "kk = itValid.next()"
   ],
   "metadata": {
    "id": "owFoWW4_AXiy",
    "executionInfo": {
     "status": "ok",
     "timestamp": 1651655980880,
     "user_tz": -120,
     "elapsed": 315,
     "user": {
      "displayName": "david horsky",
      "userId": "15225206442244274917"
     }
    },
    "pycharm": {
     "name": "#%%\n"
    }
   },
   "execution_count": 22,
   "outputs": []
  },
  {
   "cell_type": "code",
   "source": [
    "loss_mask = tf.logical_or(tf.equal(kk['node_type'][0,:,0], NodeType.NORMAL),\n",
    "                            tf.equal(kk['node_type'][0,:,0], NodeType.OUTFLOW))\n",
    "loss_mask = tf.reshape(tf.concat([loss_mask for _ in range(md['args']['node_feat_cnt'])], -1), [-1, md['args']['node_feat_cnt']])"
   ],
   "metadata": {
    "id": "OnNnGgKlEUgd",
    "executionInfo": {
     "status": "ok",
     "timestamp": 1651655982148,
     "user_tz": -120,
     "elapsed": 1003,
     "user": {
      "displayName": "david horsky",
      "userId": "15225206442244274917"
     }
    },
    "pycharm": {
     "name": "#%%\n"
    }
   },
   "execution_count": 24,
   "outputs": []
  },
  {
   "cell_type": "code",
   "source": [
    "chck = tf.train.Checkpoint(module=model)\n",
    "poss_steps = [x for x in [1, 10, 20, 50, 100, 200] if x <= mx_iter]\n",
    "stats = {}\n",
    "losses = {}\n",
    "for mid in models_:\n",
    "  chck.restore(chck_root + mid)\n",
    "  tr = itTrain.next()\n",
    "  gr = toGraphsTuple(tr,targets)\n",
    "  loss = model.loss(gr,tr,targets) / bsize\n",
    "  losses[mid] = loss\n",
    "  itValid = iter(dtValid)\n",
    "  eval = {x:0 for x in poss_steps}\n",
    "  for val in itValid:\n",
    "    rr = rollout(model,get_init_grp(val,targets), mx_iter,loss_mask)\n",
    "    pred = tf.concat([x.nodes[...,:model.learn_features] for x in rr], axis=0)\n",
    "    correct = tf.concat([val[x] for x in targets],axis=2)\n",
    "    pred = tf.reshape(pred,[mx_iter+1,*correct.shape[1:]])\n",
    "    error = tf.reduce_mean((pred - correct[:mx_iter+1])**2, axis=-1)\n",
    "    for x in poss_steps:\n",
    "      eval[x] += tf.reduce_mean(error[1:x+1])\n",
    "  stats[mid] = eval\n",
    "  print(mid)\n",
    "  "
   ],
   "metadata": {
    "id": "7ukAT9JM5cgj",
    "colab": {
     "base_uri": "https://localhost:8080/"
    },
    "executionInfo": {
     "status": "ok",
     "timestamp": 1651656388267,
     "user_tz": -120,
     "elapsed": 406121,
     "user": {
      "displayName": "david horsky",
      "userId": "15225206442244274917"
     }
    },
    "outputId": "b466115c-4e29-440b-a357-ab8f01417105",
    "pycharm": {
     "name": "#%%\n"
    }
   },
   "execution_count": 26,
   "outputs": [
    {
     "output_type": "stream",
     "name": "stdout",
     "text": [
      "named-11\n",
      "named-11\n",
      "named-17\n",
      "named-17\n",
      "named-26\n",
      "named-26\n",
      "named-27\n",
      "named-27\n",
      "named-128\n",
      "named-128\n",
      "named-42\n",
      "named-42\n",
      "named-81\n",
      "named-81\n",
      "named-129\n",
      "named-129\n",
      "named-156\n",
      "named-156\n",
      "named-197\n",
      "named-197\n"
     ]
    }
   ]
  },
  {
   "cell_type": "code",
   "source": [
    "ref = [{\"name\": k,\n",
    " \"i\": int(re.search(\"\\d+\",k)[0])*40000,\n",
    " \"loss\": losses[k].numpy(),\n",
    " \"stat\": {i: j.numpy() for i,j in v.items()}} for k,v in stats.items()]"
   ],
   "metadata": {
    "id": "bwA-F3RvbX-h",
    "executionInfo": {
     "status": "ok",
     "timestamp": 1651657201139,
     "user_tz": -120,
     "elapsed": 286,
     "user": {
      "displayName": "david horsky",
      "userId": "15225206442244274917"
     }
    },
    "pycharm": {
     "name": "#%%\n"
    }
   },
   "execution_count": 49,
   "outputs": []
  },
  {
   "cell_type": "code",
   "source": [
    "with open(\"results/\" + mod + \".txt\",'wb') as x:\n",
    "  pickle.dump(ref,x)"
   ],
   "metadata": {
    "id": "2k3z68mxYhm6",
    "executionInfo": {
     "status": "ok",
     "timestamp": 1651657317171,
     "user_tz": -120,
     "elapsed": 313,
     "user": {
      "displayName": "david horsky",
      "userId": "15225206442244274917"
     }
    },
    "pycharm": {
     "name": "#%%\n"
    }
   },
   "execution_count": 53,
   "outputs": []
  }
 ]
}