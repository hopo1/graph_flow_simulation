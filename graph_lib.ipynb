{
 "cells": [
  {
   "cell_type": "markdown",
   "metadata": {
    "id": "9REjiR7FxLky"
   },
   "source": [
    "## Setup"
   ]
  },
  {
   "cell_type": "code",
   "execution_count": 1,
   "metadata": {
    "executionInfo": {
     "elapsed": 326,
     "status": "ok",
     "timestamp": 1645173967605,
     "user": {
      "displayName": "david horsky",
      "photoUrl": "https://lh3.googleusercontent.com/a/default-user=s64",
      "userId": "15225206442244274917"
     },
     "user_tz": -60
    },
    "id": "9uKD3smEvSec"
   },
   "outputs": [],
   "source": [
    "import os"
   ]
  },
  {
   "cell_type": "code",
   "source": [
    "try:\n",
    "  import google.colab\n",
    "  IN_COLAB = True\n",
    "except:\n",
    "  IN_COLAB = False\n",
    "print(IN_COLAB)"
   ],
   "metadata": {
    "colab": {
     "base_uri": "https://localhost:8080/"
    },
    "id": "SRn5zviK9mab",
    "executionInfo": {
     "status": "ok",
     "timestamp": 1645173967836,
     "user_tz": -60,
     "elapsed": 4,
     "user": {
      "displayName": "david horsky",
      "photoUrl": "https://lh3.googleusercontent.com/a/default-user=s64",
      "userId": "15225206442244274917"
     }
    },
    "outputId": "969c8d69-db3f-484e-f784-3d538dafd186"
   },
   "execution_count": 2,
   "outputs": [
    {
     "name": "stdout",
     "output_type": "stream",
     "text": [
      "False\n"
     ]
    }
   ]
  },
  {
   "cell_type": "code",
   "source": [
    "!pip install graph_nets>=1.1 dm-sonnet>=2.0.0 tensorflow_probability"
   ],
   "metadata": {
    "id": "F8Gbla5EAnuT",
    "executionInfo": {
     "status": "ok",
     "timestamp": 1645173979052,
     "user_tz": -60,
     "elapsed": 10955,
     "user": {
      "displayName": "david horsky",
      "photoUrl": "https://lh3.googleusercontent.com/a/default-user=s64",
      "userId": "15225206442244274917"
     }
    }
   },
   "execution_count": 3,
   "outputs": [
    {
     "name": "stderr",
     "output_type": "stream",
     "text": [
      "WARNING: You are using pip version 21.2.3; however, version 22.0.3 is available.\n",
      "You should consider upgrading via the 'C:\\Users\\david\\AppData\\Local\\Programs\\Python\\Python39\\python.exe -m pip install --upgrade pip' command.\n"
     ]
    }
   ]
  },
  {
   "cell_type": "code",
   "execution_count": 4,
   "metadata": {
    "executionInfo": {
     "elapsed": 4,
     "status": "ok",
     "timestamp": 1645173979307,
     "user": {
      "displayName": "david horsky",
      "photoUrl": "https://lh3.googleusercontent.com/a/default-user=s64",
      "userId": "15225206442244274917"
     },
     "user_tz": -60
    },
    "id": "dmcb7EBvvoyF"
   },
   "outputs": [],
   "source": [
    "if IN_COLAB and 'drive' not in os.listdir(\"/content\"):\n",
    "  from google.colab import drive\n",
    "  drive.mount('/content/drive')"
   ]
  },
  {
   "cell_type": "code",
   "source": [
    "if IN_COLAB:\n",
    "  os.chdir('/content/drive/MyDrive/bakalarka')"
   ],
   "metadata": {
    "id": "kSW2Lvxg86fC",
    "executionInfo": {
     "status": "ok",
     "timestamp": 1645173979308,
     "user_tz": -60,
     "elapsed": 4,
     "user": {
      "displayName": "david horsky",
      "photoUrl": "https://lh3.googleusercontent.com/a/default-user=s64",
      "userId": "15225206442244274917"
     }
    }
   },
   "execution_count": 5,
   "outputs": []
  },
  {
   "cell_type": "code",
   "execution_count": 6,
   "metadata": {
    "executionInfo": {
     "elapsed": 8058,
     "status": "ok",
     "timestamp": 1645174016349,
     "user": {
      "displayName": "david horsky",
      "photoUrl": "https://lh3.googleusercontent.com/a/default-user=s64",
      "userId": "15225206442244274917"
     },
     "user_tz": -60
    },
    "id": "VciOHpBLwvLT"
   },
   "outputs": [],
   "source": [
    "import tensorflow as tf\n",
    "import matplotlib.pyplot as plt\n",
    "import sonnet as snt\n",
    "import networkx as nx\n",
    "import numpy as np\n",
    "\n",
    "import functools\n",
    "import json\n",
    "import os\n",
    "import enum\n",
    "import collections\n",
    "import time\n",
    "\n",
    "from graph_nets import blocks\n",
    "\n",
    "from graph_nets import graphs\n",
    "from graph_nets import modules\n",
    "from graph_nets import utils_np\n",
    "from graph_nets import utils_tf\n"
   ]
  },
  {
   "cell_type": "code",
   "execution_count": 7,
   "metadata": {
    "executionInfo": {
     "elapsed": 5,
     "status": "ok",
     "timestamp": 1645174016349,
     "user": {
      "displayName": "david horsky",
      "photoUrl": "https://lh3.googleusercontent.com/a/default-user=s64",
      "userId": "15225206442244274917"
     },
     "user_tz": -60
    },
    "id": "FaXyDwZGx59F"
   },
   "outputs": [],
   "source": [
    "params = dict(noise=0.02, gamma=1.0, field='velocity', history=False,\n",
    "                size=2, batch=2)"
   ]
  },
  {
   "cell_type": "code",
   "execution_count": 8,
   "metadata": {
    "executionInfo": {
     "elapsed": 4,
     "status": "ok",
     "timestamp": 1645174016349,
     "user": {
      "displayName": "david horsky",
      "photoUrl": "https://lh3.googleusercontent.com/a/default-user=s64",
      "userId": "15225206442244274917"
     },
     "user_tz": -60
    },
    "id": "_na6wHrgyG8F"
   },
   "outputs": [],
   "source": [
    "class NodeType(enum.IntEnum):\n",
    "  NORMAL = 0\n",
    "  OBSTACLE = 1\n",
    "  AIRFOIL = 2\n",
    "  HANDLE = 3\n",
    "  INFLOW = 4\n",
    "  OUTFLOW = 5\n",
    "  WALL_BOUNDARY = 6\n",
    "  SIZE = 9"
   ]
  },
  {
   "cell_type": "markdown",
   "metadata": {
    "id": "tVLsMSLjxSQz"
   },
   "source": [
    "## Data Loading"
   ]
  },
  {
   "cell_type": "code",
   "execution_count": 9,
   "metadata": {
    "executionInfo": {
     "elapsed": 3,
     "status": "ok",
     "timestamp": 1645174016349,
     "user": {
      "displayName": "david horsky",
      "photoUrl": "https://lh3.googleusercontent.com/a/default-user=s64",
      "userId": "15225206442244274917"
     },
     "user_tz": -60
    },
    "id": "FYCTQTvKxrOv"
   },
   "outputs": [],
   "source": [
    "data_path = 'data/airfoil'"
   ]
  },
  {
   "cell_type": "code",
   "execution_count": 10,
   "metadata": {
    "executionInfo": {
     "elapsed": 4,
     "status": "ok",
     "timestamp": 1645174016350,
     "user": {
      "displayName": "david horsky",
      "photoUrl": "https://lh3.googleusercontent.com/a/default-user=s64",
      "userId": "15225206442244274917"
     },
     "user_tz": -60
    },
    "id": "tTyok3lVxQvs"
   },
   "outputs": [],
   "source": [
    "# todo add citation\n",
    "def _parse(proto, meta):\n",
    "  \"\"\"Parses a trajectory from tf.Example.\"\"\"\n",
    "  feature_lists = {k: tf.io.VarLenFeature(tf.string)\n",
    "                   for k in meta['field_names']}\n",
    "  features = tf.io.parse_single_example(proto, feature_lists)\n",
    "  out = {}\n",
    "  for key, field in meta['features'].items():\n",
    "    data = tf.io.decode_raw(features[key].values, getattr(tf, field['dtype']))\n",
    "    data = tf.reshape(data, field['shape'])\n",
    "    if field['type'] == 'static':\n",
    "      data = tf.tile(data, [meta['trajectory_length'], 1, 1])\n",
    "    elif field['type'] == 'dynamic_varlen':\n",
    "      length = tf.io.decode_raw(features['length_'+key].values, tf.int32)\n",
    "      length = tf.reshape(length, [-1])\n",
    "      data = tf.RaggedTensor.from_row_lengths(data, row_lengths=length)\n",
    "    elif field['type'] != 'dynamic':\n",
    "      raise ValueError('invalid data format')\n",
    "    out[key] = data\n",
    "  return out"
   ]
  },
  {
   "cell_type": "code",
   "execution_count": 11,
   "metadata": {
    "executionInfo": {
     "elapsed": 4,
     "status": "ok",
     "timestamp": 1645174016350,
     "user": {
      "displayName": "david horsky",
      "photoUrl": "https://lh3.googleusercontent.com/a/default-user=s64",
      "userId": "15225206442244274917"
     },
     "user_tz": -60
    },
    "id": "ZbaDI9QQxdT6"
   },
   "outputs": [],
   "source": [
    "# todo add citation\n",
    "def load_dataset(path, split):\n",
    "  \"\"\"Load dataset.\"\"\"\n",
    "  with open(os.path.join(path, 'meta.json'), 'r') as fp:\n",
    "    meta = json.loads(fp.read())\n",
    "  ds = tf.data.TFRecordDataset(os.path.join(path, split+'.tfrecord'))\n",
    "  ds = ds.map(functools.partial(_parse, meta=meta), num_parallel_calls=8)\n",
    "  ds = ds.prefetch(1)\n",
    "  return ds"
   ]
  },
  {
   "cell_type": "code",
   "execution_count": 12,
   "metadata": {
    "executionInfo": {
     "elapsed": 4,
     "status": "ok",
     "timestamp": 1645174016350,
     "user": {
      "displayName": "david horsky",
      "photoUrl": "https://lh3.googleusercontent.com/a/default-user=s64",
      "userId": "15225206442244274917"
     },
     "user_tz": -60
    },
    "id": "8bfwNXoAxgDJ"
   },
   "outputs": [],
   "source": [
    "# todo add citation\n",
    "def split_and_preprocess(ds, noise_field, noise_scale, noise_gamma):\n",
    "  \"\"\"Splits trajectories into frames, and adds training noise.\"\"\"\n",
    "  def add_noise(frame):\n",
    "    noise = tf.random.normal(tf.shape(frame[noise_field]),\n",
    "                             stddev=noise_scale, dtype=tf.float32)\n",
    "    # don't apply noise to boundary nodes\n",
    "    mask = tf.equal(frame['node_type'], NodeType.NORMAL)\n",
    "    noise = tf.where(mask, noise, tf.zeros_like(noise))\n",
    "    frame[noise_field] += noise\n",
    "    frame['target|'+noise_field] += (1.0 - noise_gamma) * noise\n",
    "    return frame\n",
    "\n",
    "  ds = ds.flat_map(tf.data.Dataset.from_tensor_slices)\n",
    "  ds = ds.map(add_noise, num_parallel_calls=8)\n",
    "  ds = ds.shuffle(10000)\n",
    "  ds = ds.repeat(None)\n",
    "  return ds.prefetch(10)"
   ]
  },
  {
   "cell_type": "code",
   "execution_count": 13,
   "metadata": {
    "executionInfo": {
     "elapsed": 4,
     "status": "ok",
     "timestamp": 1645174016350,
     "user": {
      "displayName": "david horsky",
      "photoUrl": "https://lh3.googleusercontent.com/a/default-user=s64",
      "userId": "15225206442244274917"
     },
     "user_tz": -60
    },
    "id": "qJI-R_UmxiD-"
   },
   "outputs": [],
   "source": [
    "# todo add citation\n",
    "def add_targets(ds, fields, add_history):\n",
    "  \"\"\"Adds target and optionally history fields to dataframe.\"\"\"\n",
    "  def fn(trajectory):\n",
    "    out = {}\n",
    "    for key, val in trajectory.items():\n",
    "      out[key] = val[1:-1]\n",
    "      if key in fields:\n",
    "        if add_history:\n",
    "          out['prev|'+key] = val[0:-2]\n",
    "        out['target|'+key] = val[2:]\n",
    "    return out\n",
    "  return ds.map(fn, num_parallel_calls=8)"
   ]
  },
  {
   "cell_type": "code",
   "execution_count": 14,
   "metadata": {
    "executionInfo": {
     "elapsed": 1950,
     "status": "ok",
     "timestamp": 1645174018297,
     "user": {
      "displayName": "david horsky",
      "photoUrl": "https://lh3.googleusercontent.com/a/default-user=s64",
      "userId": "15225206442244274917"
     },
     "user_tz": -60
    },
    "id": "OHrQFyOExkBA"
   },
   "outputs": [],
   "source": [
    "ds = load_dataset(data_path,\"small\")\n",
    "ds = add_targets(ds, [params['field']], add_history=params['history'])"
   ]
  },
  {
   "cell_type": "code",
   "execution_count": 15,
   "metadata": {
    "executionInfo": {
     "elapsed": 356,
     "status": "ok",
     "timestamp": 1645174018648,
     "user": {
      "displayName": "david horsky",
      "photoUrl": "https://lh3.googleusercontent.com/a/default-user=s64",
      "userId": "15225206442244274917"
     },
     "user_tz": -60
    },
    "id": "lExclsuSxm6J"
   },
   "outputs": [],
   "source": [
    "ds = split_and_preprocess(ds, noise_field=params['field'],\n",
    "                                    noise_scale=params['noise'],\n",
    "                                    noise_gamma=params['gamma'])"
   ]
  },
  {
   "cell_type": "markdown",
   "metadata": {
    "id": "AXfLv7BAFg02"
   },
   "source": [
    "## Prepare for learning"
   ]
  },
  {
   "cell_type": "code",
   "execution_count": 16,
   "metadata": {
    "executionInfo": {
     "elapsed": 34480,
     "status": "ok",
     "timestamp": 1645174053125,
     "user": {
      "displayName": "david horsky",
      "photoUrl": "https://lh3.googleusercontent.com/a/default-user=s64",
      "userId": "15225206442244274917"
     },
     "user_tz": -60
    },
    "id": "C1OvpwV4ymTh"
   },
   "outputs": [],
   "source": [
    "d = iter(ds).next()"
   ]
  },
  {
   "cell_type": "code",
   "execution_count": 17,
   "metadata": {
    "executionInfo": {
     "elapsed": 270,
     "status": "ok",
     "timestamp": 1645174061770,
     "user": {
      "displayName": "david horsky",
      "photoUrl": "https://lh3.googleusercontent.com/a/default-user=s64",
      "userId": "15225206442244274917"
     },
     "user_tz": -60
    },
    "id": "GwjYeXtB1Im7"
   },
   "outputs": [],
   "source": [
    "def triangles_to_edges(faces):\n",
    "  \"\"\"Computes mesh edges from triangles.\"\"\"\n",
    "  # collect edges from triangles\n",
    "  edges = tf.concat([faces[:, 0:2],\n",
    "                     faces[:, 1:3],\n",
    "                     tf.stack([faces[:, 2], faces[:, 0]], axis=1)], axis=0)\n",
    "  # those edges are sometimes duplicated (within the mesh) and sometimes\n",
    "  # single (at the mesh boundary).\n",
    "  # sort & pack edges as single tf.int64\n",
    "  receivers = tf.reduce_min(edges, axis=1)\n",
    "  senders = tf.reduce_max(edges, axis=1)\n",
    "  packed_edges = tf.bitcast(tf.stack([senders, receivers], axis=1), tf.int64)\n",
    "  # remove duplicates and unpack\n",
    "  unique_edges = tf.bitcast(tf.unique(packed_edges)[0], tf.int32)\n",
    "  senders, receivers = tf.unstack(unique_edges, axis=1)\n",
    "  # create two-way connectivity\n",
    "  return (tf.concat([senders, receivers], axis=0),\n",
    "          tf.concat([receivers, senders], axis=0))\n"
   ]
  },
  {
   "cell_type": "code",
   "execution_count": 18,
   "metadata": {
    "executionInfo": {
     "elapsed": 2,
     "status": "ok",
     "timestamp": 1645174062494,
     "user": {
      "displayName": "david horsky",
      "photoUrl": "https://lh3.googleusercontent.com/a/default-user=s64",
      "userId": "15225206442244274917"
     },
     "user_tz": -60
    },
    "id": "Un6sPvfHEmsi"
   },
   "outputs": [],
   "source": [
    "NodeTypeCnt = tf.unique(tf.reshape(d['node_type'],d['node_type'].shape[:1])).y.shape[0]"
   ]
  },
  {
   "cell_type": "code",
   "execution_count": 19,
   "metadata": {
    "executionInfo": {
     "elapsed": 257,
     "status": "ok",
     "timestamp": 1645174066095,
     "user": {
      "displayName": "david horsky",
      "photoUrl": "https://lh3.googleusercontent.com/a/default-user=s64",
      "userId": "15225206442244274917"
     },
     "user_tz": -60
    },
    "id": "BcNR7mtkyTkF"
   },
   "outputs": [],
   "source": [
    "@tf.function\n",
    "def toGraphsTuple(d):\n",
    "  send, recive = triangles_to_edges(d['cells'])\n",
    "  rel_pos = (tf.gather(d['mesh_pos'], send) - tf.gather(d['mesh_pos'], recive))\n",
    "  nodes_unique = tf.unique_with_counts(tf.reshape(d[\"node_type\"],[-1]))\n",
    "  dd = {\n",
    "    #\"nodes\": tf.concat([d[\"velocity\"],d[\"pressure\"],d[\"density\"],tf.cast(d[\"node_type\"],tf.float32),d[\"mesh_pos\"]],1),\n",
    "    \"nodes\": tf.concat([d['velocity'],tf.one_hot(nodes_unique.idx,NodeTypeCnt,dtype=tf.float32)],1), # on change update loss function ^\n",
    "    \"senders\": send,\n",
    "    \"receivers\": recive,\n",
    "    \"edges\": tf.concat([\n",
    "        rel_pos,\n",
    "        tf.norm(rel_pos, axis=-1, keepdims=True)], 1)\n",
    "  }\n",
    "  return utils_tf.data_dicts_to_graphs_tuple([dd])"
   ]
  },
  {
   "cell_type": "code",
   "execution_count": 20,
   "metadata": {
    "executionInfo": {
     "elapsed": 1292,
     "status": "ok",
     "timestamp": 1645174067669,
     "user": {
      "displayName": "david horsky",
      "photoUrl": "https://lh3.googleusercontent.com/a/default-user=s64",
      "userId": "15225206442244274917"
     },
     "user_tz": -60
    },
    "id": "7eQI58ojIgV9"
   },
   "outputs": [],
   "source": [
    "dd = toGraphsTuple(d)\n",
    "LINEAR_FEATURES = dd.nodes.shape[1] - NodeTypeCnt"
   ]
  },
  {
   "cell_type": "code",
   "execution_count": 21,
   "metadata": {
    "executionInfo": {
     "elapsed": 8614,
     "status": "ok",
     "timestamp": 1645174077533,
     "user": {
      "displayName": "david horsky",
      "photoUrl": "https://lh3.googleusercontent.com/a/default-user=s64",
      "userId": "15225206442244274917"
     },
     "user_tz": -60
    },
    "id": "WZkwNIuOtHGv"
   },
   "outputs": [],
   "source": [
    "itr = iter(ds)\n",
    "aa = itr.next()"
   ]
  },
  {
   "cell_type": "markdown",
   "metadata": {
    "id": "kTXnhOskFwed"
   },
   "source": [
    "## Model and loss function"
   ]
  },
  {
   "cell_type": "code",
   "execution_count": 22,
   "metadata": {
    "executionInfo": {
     "elapsed": 9,
     "status": "ok",
     "timestamp": 1645174077534,
     "user": {
      "displayName": "david horsky",
      "photoUrl": "https://lh3.googleusercontent.com/a/default-user=s64",
      "userId": "15225206442244274917"
     },
     "user_tz": -60
    },
    "id": "50-OmxJmhBlD"
   },
   "outputs": [],
   "source": [
    "from Normalizer import Normalizer"
   ]
  },
  {
   "cell_type": "code",
   "execution_count": 23,
   "metadata": {
    "executionInfo": {
     "elapsed": 8,
     "status": "ok",
     "timestamp": 1645174077534,
     "user": {
      "displayName": "david horsky",
      "photoUrl": "https://lh3.googleusercontent.com/a/default-user=s64",
      "userId": "15225206442244274917"
     },
     "user_tz": -60
    },
    "id": "FTRpQehszWPd"
   },
   "outputs": [],
   "source": [
    "from EncodeProcessDecodeBasic import EncodeProcessDecode"
   ]
  },
  {
   "cell_type": "code",
   "execution_count": 24,
   "metadata": {
    "executionInfo": {
     "elapsed": 7,
     "status": "ok",
     "timestamp": 1645174077534,
     "user": {
      "displayName": "david horsky",
      "photoUrl": "https://lh3.googleusercontent.com/a/default-user=s64",
      "userId": "15225206442244274917"
     },
     "user_tz": -60
    },
    "id": "7wzWXTCR0lmC"
   },
   "outputs": [],
   "source": [
    "from EncodeProcessDecodeNorm import EncodeProcessDecode as EncodeProcessDecode2"
   ]
  },
  {
   "cell_type": "code",
   "execution_count": 25,
   "outputs": [],
   "source": [
    "models = {\"basic\":{\"model\":EncodeProcessDecode,\"args\": {\"steps\":15, \"learn_features\":2, \"node_net_sizes\":[128]*2+[2], \"edge_net_sizes\":[128]*2+[4]}},\"small_test\":{\"model\":EncodeProcessDecode,\"args\": {\"steps\":5, \"learn_features\":2, \"node_net_sizes\":[8]*2+[2], \"edge_net_sizes\":[8]*2+[4]}}}"
   ],
   "metadata": {
    "collapsed": false,
    "pycharm": {
     "name": "#%%\n"
    }
   }
  },
  {
   "cell_type": "code",
   "execution_count": 26,
   "metadata": {
    "executionInfo": {
     "elapsed": 7,
     "status": "ok",
     "timestamp": 1645174077535,
     "user": {
      "displayName": "david horsky",
      "photoUrl": "https://lh3.googleusercontent.com/a/default-user=s64",
      "userId": "15225206442244274917"
     },
     "user_tz": -60
    },
    "id": "FU2mWTGZRB3X"
   },
   "outputs": [],
   "source": [
    "def loss(grp,data):\n",
    "  loss_mask = tf.logical_or(tf.equal(data['node_type'][:,0], NodeType.NORMAL),\n",
    "                              tf.equal(data['node_type'][:,0], NodeType.OUTFLOW))\n",
    "  err = tf.reduce_sum((grp.nodes[...,:2] - data['target|velocity'])**2,axis=1)\n",
    "  return tf.reduce_mean(err[loss_mask])\n"
   ]
  },
  {
   "cell_type": "markdown",
   "metadata": {
    "id": "41CWIUw9GQ7m"
   },
   "source": [
    "### Model hyperparameters"
   ]
  },
  {
   "cell_type": "code",
   "execution_count": 44,
   "metadata": {
    "executionInfo": {
     "elapsed": 218,
     "status": "ok",
     "timestamp": 1645174082028,
     "user": {
      "displayName": "david horsky",
      "photoUrl": "https://lh3.googleusercontent.com/a/default-user=s64",
      "userId": "15225206442244274917"
     },
     "user_tz": -60
    },
    "id": "DueyxnKPyCJG"
   },
   "outputs": [],
   "source": [
    "from AdamModLr import Adam\n",
    "lr = 1e-4\n",
    "# opt = snt.optimizers.Adam(lr)\n",
    "opt = Adam(lr)\n",
    "steps = 15\n",
    "#model = EncodeProcessDecode(steps, LINEAR_FEATURES, [128] * 2, [128] * 2 + [4])\n",
    "md = models['basic']\n",
    "model = md[\"model\"](**md[\"args\"])\n",
    "initial_learning_rate = lr\n",
    "decay_rate =0.1\n",
    "decay_steps =5e6\n",
    "learning_increase = 1e-6"
   ]
  },
  {
   "cell_type": "markdown",
   "metadata": {
    "id": "-rmqpvEzGWPJ"
   },
   "source": [
    "## Training"
   ]
  },
  {
   "cell_type": "code",
   "execution_count": 45,
   "outputs": [],
   "source": [
    "def decayed_learning_rate(step):\n",
    "  return initial_learning_rate * decay_rate ** (step / decay_steps) + learning_increase"
   ],
   "metadata": {
    "collapsed": false,
    "pycharm": {
     "name": "#%%\n"
    }
   }
  },
  {
   "cell_type": "code",
   "execution_count": 46,
   "metadata": {
    "executionInfo": {
     "elapsed": 241,
     "status": "ok",
     "timestamp": 1645174105485,
     "user": {
      "displayName": "david horsky",
      "photoUrl": "https://lh3.googleusercontent.com/a/default-user=s64",
      "userId": "15225206442244274917"
     },
     "user_tz": -60
    },
    "id": "pGAd95jfGKyW"
   },
   "outputs": [],
   "source": [
    "@tf.function\n",
    "def update_step(data):\n",
    "  print(\"Tracing!\")\n",
    "  grp = toGraphsTuple(data)\n",
    "  with tf.GradientTape() as tape:\n",
    "    out = model(grp)\n",
    "    los = loss(out,data) #change to loss\n",
    "\n",
    "  gradients = tape.gradient(los,model.trainable_variables)\n",
    "\n",
    "  opt.apply(gradients, model.trainable_variables)  # sonnet optimizer\n",
    "  return grp, los"
   ]
  },
  {
   "cell_type": "code",
   "execution_count": 47,
   "metadata": {
    "colab": {
     "base_uri": "https://localhost:8080/"
    },
    "executionInfo": {
     "elapsed": 20902,
     "status": "ok",
     "timestamp": 1645174126703,
     "user": {
      "displayName": "david horsky",
      "photoUrl": "https://lh3.googleusercontent.com/a/default-user=s64",
      "userId": "15225206442244274917"
     },
     "user_tz": -60
    },
    "id": "-mE7jCletFqn",
    "outputId": "95e73217-4670-4ada-899f-40bbcfd9c4df"
   },
   "outputs": [
    {
     "name": "stdout",
     "output_type": "stream",
     "text": [
      "Tracing!\n",
      "Tracing!\n"
     ]
    }
   ],
   "source": [
    "update_step(aa);"
   ]
  },
  {
   "cell_type": "code",
   "execution_count": 48,
   "metadata": {
    "colab": {
     "base_uri": "https://localhost:8080/"
    },
    "executionInfo": {
     "elapsed": 1482,
     "status": "ok",
     "timestamp": 1645174128171,
     "user": {
      "displayName": "david horsky",
      "photoUrl": "https://lh3.googleusercontent.com/a/default-user=s64",
      "userId": "15225206442244274917"
     },
     "user_tz": -60
    },
    "id": "F4Xnsg7MpzaY",
    "outputId": "dc66c018-3321-49fc-ae22-dc95422daeeb"
   },
   "outputs": [
    {
     "name": "stdout",
     "output_type": "stream",
     "text": [
      "loading models/new/model-131\n"
     ]
    }
   ],
   "source": [
    "chck_root = \"models/new/\"\n",
    "chck_name = \"model\"\n",
    "\n",
    "chck = tf.train.Checkpoint(module=model)\n",
    "\n",
    "latest = tf.train.latest_checkpoint(chck_root)\n",
    "if latest is not None:\n",
    "  print(\"loading\", latest)\n",
    "  chck.restore(latest)"
   ]
  },
  {
   "cell_type": "code",
   "execution_count": 49,
   "metadata": {
    "id": "JgZu39MbJi_z",
    "executionInfo": {
     "status": "ok",
     "timestamp": 1645174128172,
     "user_tz": -60,
     "elapsed": 5,
     "user": {
      "displayName": "david horsky",
      "photoUrl": "https://lh3.googleusercontent.com/a/default-user=s64",
      "userId": "15225206442244274917"
     }
    }
   },
   "outputs": [],
   "source": [
    "if latest is None and callable(getattr(model, \"acumulate\", None)):\n",
    "  print(\"Acumulating\")\n",
    "  for i in range(100):\n",
    "    model.acumulate(toGraphsTuple(itr.next()))\n"
   ]
  },
  {
   "cell_type": "code",
   "execution_count": null,
   "metadata": {
    "colab": {
     "base_uri": "https://localhost:8080/"
    },
    "id": "zCL_h2riGcON",
    "outputId": "d785be18-c5dc-4535-c63c-22382aa5233d",
    "pycharm": {
     "is_executing": true
    }
   },
   "outputs": [
    {
     "name": "stdout",
     "output_type": "stream",
     "text": [
      "2.234708\n",
      "i 0 mse: 2.234708\n",
      "0.033216666\n",
      "20.46269\n"
     ]
    }
   ],
   "source": [
    "for i in range(100):\n",
    "  a = itr.next()\n",
    "  _, m = update_step(a)\n",
    "  opt.learning_rate.assign(decayed_learning_rate(i))\n",
    "  print(m.numpy())\n",
    "  if i % 500 == 0:\n",
    "    print(\"i\",i,\"mse:\",m.numpy())\n",
    "    if i % 40000 == 0:\n",
    "      chck.save(chck_root + chck_name)"
   ]
  },
  {
   "cell_type": "code",
   "execution_count": null,
   "metadata": {
    "id": "n6-zse4oZlLr"
   },
   "outputs": [],
   "source": [
    "m.numpy()"
   ]
  },
  {
   "cell_type": "markdown",
   "metadata": {
    "id": "2sdIk7J4Gn-Z"
   },
   "source": [
    "## Vizualization"
   ]
  },
  {
   "cell_type": "code",
   "execution_count": null,
   "metadata": {
    "id": "B7az1IQah3pZ"
   },
   "outputs": [],
   "source": [
    "dt2 = load_dataset(data_path,\"small\")\n",
    "qq = iter(dt2).next()\n",
    "qqq = {}\n",
    "for i,j in qq.items():\n",
    "  qqq[i] = j[0]\n",
    "grp_ = toGraphsTuple(qqq)"
   ]
  },
  {
   "cell_type": "code",
   "source": [
    "@tf.function\n",
    "def toGraphsTupleOld(d):\n",
    "  send, recive = triangles_to_edges(d['cells'])\n",
    "  rel_pos = (tf.gather(d['mesh_pos'], send) - tf.gather(d['mesh_pos'], recive))\n",
    "  nodes_unique = tf.unique_with_counts(tf.reshape(d[\"node_type\"],[-1]))\n",
    "  dd = {\n",
    "    #\"nodes\": tf.concat([d[\"velocity\"],d[\"pressure\"],d[\"density\"],tf.cast(d[\"node_type\"],tf.float32),d[\"mesh_pos\"]],1),\n",
    "    \"nodes\": tf.concat([d['velocity'],tf.one_hot(tf.reshape(d[\"node_type\"],[-1]),NodeTypeCnt,dtype=tf.float32)],1), # on change update loss function ^\n",
    "    \"senders\": send,\n",
    "    \"receivers\": recive,\n",
    "    \"edges\": tf.concat([\n",
    "        rel_pos,\n",
    "        tf.norm(rel_pos, axis=-1, keepdims=True)], 1)\n",
    "  }\n",
    "  return utils_tf.data_dicts_to_graphs_tuple([dd])"
   ],
   "metadata": {
    "id": "EewpBxU7HoZI"
   },
   "execution_count": null,
   "outputs": []
  },
  {
   "cell_type": "code",
   "execution_count": null,
   "metadata": {
    "id": "W6HE1HO-paOC"
   },
   "outputs": [],
   "source": [
    "# fix mistake in data preparation\n",
    "grp_ = toGraphsTupleOld(qqq)"
   ]
  },
  {
   "cell_type": "code",
   "execution_count": null,
   "metadata": {
    "id": "iYsAa0I3E3E4"
   },
   "outputs": [],
   "source": [
    "res = [grp_,]\n",
    "loss_mask = tf.logical_or(tf.equal(qqq['node_type'][:,0], NodeType.NORMAL),\n",
    "                              tf.equal(qqq['node_type'][:,0], NodeType.OUTFLOW))\n",
    "loss_mask = tf.reshape(tf.concat([loss_mask for _ in range(5)],-1),[-1,5])\n",
    "for i in range(600):\n",
    "  grp2_ = model(grp_)\n",
    "  grp_ = grp_.replace(nodes=tf.where(loss_mask,grp2_.nodes,grp_.nodes))\n",
    "  res.append(grp_)"
   ]
  },
  {
   "cell_type": "code",
   "execution_count": null,
   "metadata": {
    "colab": {
     "base_uri": "https://localhost:8080/"
    },
    "executionInfo": {
     "elapsed": 13,
     "status": "ok",
     "timestamp": 1645088985204,
     "user": {
      "displayName": "david horsky",
      "photoUrl": "https://lh3.googleusercontent.com/a/default-user=s64",
      "userId": "15225206442244274917"
     },
     "user_tz": -60
    },
    "id": "yAvHsrlrNR8Y",
    "outputId": "5133dc15-b8ee-45ac-b024-9d70cb06c45b"
   },
   "outputs": [],
   "source": [
    "grp_.nodes.shape, grp2_.nodes.shape, loss_mask.shape"
   ]
  },
  {
   "cell_type": "code",
   "execution_count": null,
   "metadata": {
    "id": "D_x92ZzOSIFR"
   },
   "outputs": [],
   "source": [
    "from matplotlib import pyplot as plt\n",
    "from matplotlib.animation import FuncAnimation\n",
    "from matplotlib import tri as mtri"
   ]
  },
  {
   "cell_type": "code",
   "execution_count": null,
   "metadata": {
    "colab": {
     "base_uri": "https://localhost:8080/"
    },
    "executionInfo": {
     "elapsed": 11,
     "status": "ok",
     "timestamp": 1645088985205,
     "user": {
      "displayName": "david horsky",
      "photoUrl": "https://lh3.googleusercontent.com/a/default-user=s64",
      "userId": "15225206442244274917"
     },
     "user_tz": -60
    },
    "id": "sojXwyPSCjPn",
    "outputId": "db79b315-3d5c-4a27-bc3a-496b7f57ac7e"
   },
   "outputs": [],
   "source": [
    "res[0]"
   ]
  },
  {
   "cell_type": "code",
   "execution_count": null,
   "metadata": {
    "colab": {
     "base_uri": "https://localhost:8080/",
     "height": 1000
    },
    "id": "xD-mCoFaRV_r",
    "executionInfo": {
     "status": "ok",
     "timestamp": 1645089047445,
     "user_tz": -60,
     "elapsed": 62249,
     "user": {
      "displayName": "david horsky",
      "photoUrl": "https://lh3.googleusercontent.com/a/default-user=s64",
      "userId": "15225206442244274917"
     }
    },
    "outputId": "3e62aca3-d340-49a4-96cb-bc1b1d3dcac5"
   },
   "outputs": [],
   "source": [
    "fig, ax = plt.subplots(1, 1, figsize=(12, 8))\n",
    "skip = 5\n",
    "num_steps = len(res)\n",
    "num_frames = num_steps // skip\n",
    " # compute bounds\n",
    "bounds = []\n",
    "bb_min,bb_max = tf.reduce_min(qq['velocity'][:,0]),tf.reduce_max(qq['velocity'][:,0])\n",
    "\n",
    "\n",
    "def animate(num):\n",
    "    global t\n",
    "    step = (num*skip) % num_steps\n",
    "    traj = (num*skip) // num_steps\n",
    "    ax.cla()\n",
    "    ax.set_xlim(-1,2)\n",
    "    ax.set_ylim(-1.5,1.5)\n",
    "    ax.set_autoscale_on(False)\n",
    "    vmin, vmax = bb_min,bb_max\n",
    "    pos = qqq['mesh_pos']\n",
    "    faces = qqq['cells']\n",
    "    velocity = res[step].nodes[...,:2].numpy()\n",
    "    triang = mtri.Triangulation(pos[:, 0], pos[:, 1], faces)\n",
    "    t = ax.tripcolor(triang, velocity[:, 0], vmin=vmin, vmax=vmax)\n",
    "    ax.triplot(triang, 'ko-', ms=0.5, lw=0.3)\n",
    "    ax.set_title('Trajectory %d Step %d' % (traj, step))\n",
    "    return fig,\n",
    "\n",
    "animate(0)\n",
    "plt.colorbar(t)\n",
    "\n",
    "anim = FuncAnimation(fig, animate, frames=num_frames, interval=200)\n",
    "from IPython.display import HTML\n",
    "HTML(anim.to_html5_video())"
   ]
  },
  {
   "cell_type": "code",
   "execution_count": null,
   "metadata": {
    "colab": {
     "base_uri": "https://localhost:8080/",
     "height": 1000
    },
    "executionInfo": {
     "elapsed": 59361,
     "status": "ok",
     "timestamp": 1645011777387,
     "user": {
      "displayName": "david horsky",
      "photoUrl": "https://lh3.googleusercontent.com/a/default-user=s64",
      "userId": "15225206442244274917"
     },
     "user_tz": -60
    },
    "id": "xAk5i42t-uik",
    "outputId": "d53503c4-f581-46b3-a949-72bb9db4b2c4"
   },
   "outputs": [],
   "source": [
    "fig, ax = plt.subplots(1, 1, figsize=(12, 8))\n",
    "skip = 5\n",
    "num_steps = len(res)\n",
    "num_frames = num_steps // skip\n",
    " # compute bounds\n",
    "bounds = []\n",
    "\n",
    "bb_min,bb_max = tf.reduce_min(qq['velocity'][:,0]),tf.reduce_max(qq['velocity'][:,0])\n",
    "\n",
    "def animate(num):\n",
    "    global t\n",
    "    step = (num*skip) % num_steps\n",
    "    traj = (num*skip) // num_steps\n",
    "    ax.cla()\n",
    "    ax.set_xlim(-1,2)\n",
    "    ax.set_ylim(-1.5,1.5)\n",
    "    ax.set_autoscale_on(False)\n",
    "    vmin, vmax = bb_min,bb_max\n",
    "    pos = qq['mesh_pos'][0]\n",
    "    faces = qq['cells'][0]\n",
    "    velocity = qq['velocity'][step]\n",
    "    triang = mtri.Triangulation(pos[:, 0], pos[:, 1], faces)\n",
    "    t = ax.tripcolor(triang, velocity[:, 0], vmin=vmin, vmax=vmax)\n",
    "    ax.triplot(triang, 'ko-', ms=0.5, lw=0.3)\n",
    "    ax.set_title('Trajectory %d Step %d' % (traj, step))\n",
    "    return fig,\n",
    "\n",
    "animate(0)\n",
    "plt.colorbar(t)\n",
    "\n",
    "anim = FuncAnimation(fig, animate, frames=num_frames, interval=200)\n",
    "from IPython.display import HTML\n",
    "HTML(anim.to_html5_video())"
   ]
  },
  {
   "cell_type": "code",
   "execution_count": null,
   "metadata": {
    "colab": {
     "base_uri": "https://localhost:8080/"
    },
    "executionInfo": {
     "elapsed": 279,
     "status": "ok",
     "timestamp": 1645010155754,
     "user": {
      "displayName": "david horsky",
      "photoUrl": "https://lh3.googleusercontent.com/a/default-user=s64",
      "userId": "15225206442244274917"
     },
     "user_tz": -60
    },
    "id": "RUC2kys8BVfb",
    "outputId": "3c820c7e-ba7b-4dad-fafc-0dca0c7d4408"
   },
   "outputs": [],
   "source": [
    "bb_min, bb_max"
   ]
  },
  {
   "cell_type": "code",
   "execution_count": null,
   "metadata": {
    "id": "RiAHwjRoDqM_"
   },
   "outputs": [],
   "source": [
    ""
   ]
  }
 ],
 "metadata": {
  "colab": {
   "collapsed_sections": [],
   "name": "graph_lib.ipynb",
   "provenance": [],
   "mount_file_id": "1kT6JQ-uOB7X9H1CUbss55QI_6HCNFIUP",
   "authorship_tag": "ABX9TyPbeF68XhOgBwr1xYLIcMSx"
  },
  "kernelspec": {
   "display_name": "Python 3",
   "name": "python3"
  },
  "language_info": {
   "name": "python"
  }
 },
 "nbformat": 4,
 "nbformat_minor": 0
}