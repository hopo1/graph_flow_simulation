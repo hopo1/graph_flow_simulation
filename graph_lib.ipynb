{
 "cells": [
  {
   "cell_type": "markdown",
   "metadata": {
    "id": "9REjiR7FxLky"
   },
   "source": [
    "## Setup"
   ]
  },
  {
   "cell_type": "code",
   "execution_count": 1,
   "metadata": {
    "executionInfo": {
     "elapsed": 5,
     "status": "ok",
     "timestamp": 1647241099114,
     "user": {
      "displayName": "david horsky",
      "photoUrl": "https://lh3.googleusercontent.com/a/default-user=s64",
      "userId": "15225206442244274917"
     },
     "user_tz": -60
    },
    "id": "9uKD3smEvSec"
   },
   "outputs": [],
   "source": [
    "import os"
   ]
  },
  {
   "cell_type": "code",
   "execution_count": 2,
   "metadata": {
    "colab": {
     "base_uri": "https://localhost:8080/"
    },
    "executionInfo": {
     "elapsed": 4,
     "status": "ok",
     "timestamp": 1647241099114,
     "user": {
      "displayName": "david horsky",
      "photoUrl": "https://lh3.googleusercontent.com/a/default-user=s64",
      "userId": "15225206442244274917"
     },
     "user_tz": -60
    },
    "id": "SRn5zviK9mab",
    "outputId": "9eb8c6f4-bc20-41a6-f304-7003884fd70b"
   },
   "outputs": [
    {
     "name": "stdout",
     "output_type": "stream",
     "text": [
      "False\n"
     ]
    }
   ],
   "source": [
    "try:\n",
    "    import google.colab\n",
    "\n",
    "    IN_COLAB = True\n",
    "except:\n",
    "    IN_COLAB = False\n",
    "print(IN_COLAB)"
   ]
  },
  {
   "cell_type": "code",
   "execution_count": 3,
   "metadata": {
    "colab": {
     "base_uri": "https://localhost:8080/"
    },
    "executionInfo": {
     "elapsed": 9454,
     "status": "ok",
     "timestamp": 1647241108565,
     "user": {
      "displayName": "david horsky",
      "photoUrl": "https://lh3.googleusercontent.com/a/default-user=s64",
      "userId": "15225206442244274917"
     },
     "user_tz": -60
    },
    "id": "F8Gbla5EAnuT",
    "outputId": "d2708bef-b2dc-41e6-e34b-7e6d1524f7c6"
   },
   "outputs": [
    {
     "name": "stdout",
     "output_type": "stream",
     "text": [
      "Requirement already satisfied: graph_nets in c:\\users\\david\\appdata\\local\\programs\\python\\python39\\lib\\site-packages (1.1.0)\n",
      "Requirement already satisfied: dm-sonnet in c:\\users\\david\\appdata\\local\\programs\\python\\python39\\lib\\site-packages (2.0.0)\n",
      "Requirement already satisfied: tensorflow_probability in c:\\users\\david\\appdata\\local\\programs\\python\\python39\\lib\\site-packages (0.16.0)\n",
      "Requirement already satisfied: six in c:\\users\\david\\appdata\\local\\programs\\python\\python39\\lib\\site-packages (from graph_nets) (1.16.0)\n",
      "Requirement already satisfied: networkx in c:\\users\\david\\appdata\\local\\programs\\python\\python39\\lib\\site-packages (from graph_nets) (2.6.3)\n",
      "Requirement already satisfied: setuptools in c:\\users\\david\\appdata\\local\\programs\\python\\python39\\lib\\site-packages (from graph_nets) (57.4.0)\n",
      "Requirement already satisfied: dm-tree in c:\\users\\david\\appdata\\local\\programs\\python\\python39\\lib\\site-packages (from graph_nets) (0.1.6)\n",
      "Requirement already satisfied: absl-py in c:\\users\\david\\appdata\\local\\programs\\python\\python39\\lib\\site-packages (from graph_nets) (1.0.0)\n",
      "Requirement already satisfied: future in c:\\users\\david\\appdata\\local\\programs\\python\\python39\\lib\\site-packages (from graph_nets) (0.18.2)\n",
      "Requirement already satisfied: numpy in c:\\users\\david\\appdata\\local\\programs\\python\\python39\\lib\\site-packages (from graph_nets) (1.22.2)\n",
      "Requirement already satisfied: tabulate>=0.7.5 in c:\\users\\david\\appdata\\local\\programs\\python\\python39\\lib\\site-packages (from dm-sonnet) (0.8.9)\n",
      "Requirement already satisfied: wrapt>=1.11.1 in c:\\users\\david\\appdata\\local\\programs\\python\\python39\\lib\\site-packages (from dm-sonnet) (1.13.3)\n",
      "Requirement already satisfied: decorator in c:\\users\\david\\appdata\\local\\programs\\python\\python39\\lib\\site-packages (from tensorflow_probability) (5.1.1)\n",
      "Requirement already satisfied: gast>=0.3.2 in c:\\users\\david\\appdata\\local\\programs\\python\\python39\\lib\\site-packages (from tensorflow_probability) (0.5.3)\n",
      "Requirement already satisfied: cloudpickle>=1.3 in c:\\users\\david\\appdata\\local\\programs\\python\\python39\\lib\\site-packages (from tensorflow_probability) (2.0.0)\n"
     ]
    },
    {
     "name": "stderr",
     "output_type": "stream",
     "text": [
      "WARNING: You are using pip version 21.2.3; however, version 22.0.4 is available.\n",
      "You should consider upgrading via the 'C:\\Users\\david\\AppData\\Local\\Programs\\Python\\Python39\\python.exe -m pip install --upgrade pip' command.\n"
     ]
    }
   ],
   "source": [
    "!pip install graph_nets  dm-sonnet tensorflow_probability"
   ]
  },
  {
   "cell_type": "code",
   "execution_count": 4,
   "metadata": {
    "colab": {
     "base_uri": "https://localhost:8080/"
    },
    "executionInfo": {
     "elapsed": 21709,
     "status": "ok",
     "timestamp": 1647241130269,
     "user": {
      "displayName": "david horsky",
      "photoUrl": "https://lh3.googleusercontent.com/a/default-user=s64",
      "userId": "15225206442244274917"
     },
     "user_tz": -60
    },
    "id": "dmcb7EBvvoyF",
    "outputId": "4aad76ab-d126-4876-d0d6-c3ccc7b673fd"
   },
   "outputs": [],
   "source": [
    "if IN_COLAB and 'drive' not in os.listdir(\"/content\"):\n",
    "    from google.colab import drive\n",
    "\n",
    "    drive.mount('/content/drive')"
   ]
  },
  {
   "cell_type": "code",
   "execution_count": 5,
   "metadata": {
    "executionInfo": {
     "elapsed": 9,
     "status": "ok",
     "timestamp": 1647241130269,
     "user": {
      "displayName": "david horsky",
      "photoUrl": "https://lh3.googleusercontent.com/a/default-user=s64",
      "userId": "15225206442244274917"
     },
     "user_tz": -60
    },
    "id": "kSW2Lvxg86fC"
   },
   "outputs": [],
   "source": [
    "if IN_COLAB:\n",
    "    os.chdir('/content/drive/MyDrive/bakalarka')"
   ]
  },
  {
   "cell_type": "code",
   "execution_count": 6,
   "metadata": {
    "executionInfo": {
     "elapsed": 5834,
     "status": "ok",
     "timestamp": 1647241136095,
     "user": {
      "displayName": "david horsky",
      "photoUrl": "https://lh3.googleusercontent.com/a/default-user=s64",
      "userId": "15225206442244274917"
     },
     "user_tz": -60
    },
    "id": "VciOHpBLwvLT"
   },
   "outputs": [],
   "source": [
    "import tensorflow as tf\n",
    "\n",
    "import functools\n",
    "import json\n",
    "import os\n",
    "\n",
    "import time\n",
    "import sys\n",
    "import re\n",
    "\n",
    "from graph_nets import utils_tf\n"
   ]
  },
  {
   "cell_type": "code",
   "execution_count": 7,
   "metadata": {
    "executionInfo": {
     "elapsed": 7,
     "status": "ok",
     "timestamp": 1647241136096,
     "user": {
      "displayName": "david horsky",
      "photoUrl": "https://lh3.googleusercontent.com/a/default-user=s64",
      "userId": "15225206442244274917"
     },
     "user_tz": -60
    },
    "id": "FaXyDwZGx59F"
   },
   "outputs": [],
   "source": [
    "params = dict(noise=0.02, gamma=1.0, field='velocity', history=False,\n",
    "              size=2, batch=2)"
   ]
  },
  {
   "cell_type": "code",
   "execution_count": 8,
   "metadata": {
    "executionInfo": {
     "elapsed": 418,
     "status": "ok",
     "timestamp": 1647241136510,
     "user": {
      "displayName": "david horsky",
      "photoUrl": "https://lh3.googleusercontent.com/a/default-user=s64",
      "userId": "15225206442244274917"
     },
     "user_tz": -60
    },
    "id": "_na6wHrgyG8F"
   },
   "outputs": [],
   "source": [
    "from common import NodeType"
   ]
  },
  {
   "cell_type": "markdown",
   "metadata": {
    "id": "tVLsMSLjxSQz"
   },
   "source": [
    "## Data Loading"
   ]
  },
  {
   "cell_type": "code",
   "execution_count": 9,
   "metadata": {
    "executionInfo": {
     "elapsed": 5,
     "status": "ok",
     "timestamp": 1647241136510,
     "user": {
      "displayName": "david horsky",
      "photoUrl": "https://lh3.googleusercontent.com/a/default-user=s64",
      "userId": "15225206442244274917"
     },
     "user_tz": -60
    },
    "id": "FYCTQTvKxrOv"
   },
   "outputs": [],
   "source": [
    "data_path = 'data/airfoil'\n",
    "data_train = 'small' if IN_COLAB else 'train'\n",
    "data_valid = 'small' if IN_COLAB else 'valid'\n",
    "data_test = 'small' if IN_COLAB else 'test'"
   ]
  },
  {
   "cell_type": "code",
   "execution_count": 10,
   "metadata": {
    "executionInfo": {
     "elapsed": 5,
     "status": "ok",
     "timestamp": 1647241136511,
     "user": {
      "displayName": "david horsky",
      "photoUrl": "https://lh3.googleusercontent.com/a/default-user=s64",
      "userId": "15225206442244274917"
     },
     "user_tz": -60
    },
    "id": "tTyok3lVxQvs"
   },
   "outputs": [],
   "source": [
    "# todo add citation\n",
    "def _parse(proto, meta):\n",
    "    \"\"\"Parses a trajectory from tf.Example.\"\"\"\n",
    "    feature_lists = {k: tf.io.VarLenFeature(tf.string)\n",
    "                     for k in meta['field_names']}\n",
    "    features = tf.io.parse_single_example(proto, feature_lists)\n",
    "    out = {}\n",
    "    for key, field in meta['features'].items():\n",
    "        data = tf.io.decode_raw(features[key].values, getattr(tf, field['dtype']))\n",
    "        data = tf.reshape(data, field['shape'])\n",
    "        if field['type'] == 'static':\n",
    "            data = tf.tile(data, [meta['trajectory_length'], 1, 1])\n",
    "        elif field['type'] == 'dynamic_varlen':\n",
    "            length = tf.io.decode_raw(features['length_' + key].values, tf.int32)\n",
    "            length = tf.reshape(length, [-1])\n",
    "            data = tf.RaggedTensor.from_row_lengths(data, row_lengths=length)\n",
    "        elif field['type'] != 'dynamic':\n",
    "            raise ValueError('invalid data format')\n",
    "        out[key] = data\n",
    "    return out"
   ]
  },
  {
   "cell_type": "code",
   "execution_count": 11,
   "metadata": {
    "executionInfo": {
     "elapsed": 4,
     "status": "ok",
     "timestamp": 1647241136511,
     "user": {
      "displayName": "david horsky",
      "photoUrl": "https://lh3.googleusercontent.com/a/default-user=s64",
      "userId": "15225206442244274917"
     },
     "user_tz": -60
    },
    "id": "ZbaDI9QQxdT6"
   },
   "outputs": [],
   "source": [
    "# todo add citation\n",
    "def load_dataset(path, split):\n",
    "    \"\"\"Load dataset.\"\"\"\n",
    "    with open(os.path.join(path, 'meta.json'), 'r') as fp:\n",
    "        meta = json.loads(fp.read())\n",
    "    ds = tf.data.TFRecordDataset(os.path.join(path, split + '.tfrecord'))\n",
    "    ds = ds.map(functools.partial(_parse, meta=meta), num_parallel_calls=8)\n",
    "    ds = ds.prefetch(1)\n",
    "    return ds"
   ]
  },
  {
   "cell_type": "code",
   "execution_count": 12,
   "metadata": {
    "executionInfo": {
     "elapsed": 5,
     "status": "ok",
     "timestamp": 1647241136512,
     "user": {
      "displayName": "david horsky",
      "photoUrl": "https://lh3.googleusercontent.com/a/default-user=s64",
      "userId": "15225206442244274917"
     },
     "user_tz": -60
    },
    "id": "8bfwNXoAxgDJ"
   },
   "outputs": [],
   "source": [
    "# todo add citation\n",
    "def split_and_preprocess(ds, noise_field, noise_scale, noise_gamma):\n",
    "    \"\"\"Splits trajectories into frames, and adds training noise.\"\"\"\n",
    "\n",
    "    def add_noise(frame):\n",
    "        noise = tf.random.normal(tf.shape(frame[noise_field]),\n",
    "                                 stddev=noise_scale, dtype=tf.float32)\n",
    "        # don't apply noise to boundary nodes\n",
    "        mask = tf.equal(frame['node_type'], NodeType.NORMAL)\n",
    "        noise = tf.where(mask, noise, tf.zeros_like(noise))\n",
    "        frame[noise_field] += noise\n",
    "        frame['target|' + noise_field] += (1.0 - noise_gamma) * noise\n",
    "        return frame\n",
    "\n",
    "    ds = ds.flat_map(tf.data.Dataset.from_tensor_slices)\n",
    "    ds = ds.map(add_noise, num_parallel_calls=8)\n",
    "    ds = ds.shuffle(10000)\n",
    "    ds = ds.repeat(None)\n",
    "    return ds.prefetch(10)"
   ]
  },
  {
   "cell_type": "code",
   "execution_count": 13,
   "metadata": {
    "executionInfo": {
     "elapsed": 4,
     "status": "ok",
     "timestamp": 1647241136512,
     "user": {
      "displayName": "david horsky",
      "photoUrl": "https://lh3.googleusercontent.com/a/default-user=s64",
      "userId": "15225206442244274917"
     },
     "user_tz": -60
    },
    "id": "qJI-R_UmxiD-"
   },
   "outputs": [],
   "source": [
    "# todo add citation\n",
    "def add_targets(ds, fields, add_history):\n",
    "    \"\"\"Adds target and optionally history fields to dataframe.\"\"\"\n",
    "\n",
    "    def fn(trajectory):\n",
    "        out = {}\n",
    "        for key, val in trajectory.items():\n",
    "            out[key] = val[1:-1]\n",
    "            if key in fields:\n",
    "                if add_history:\n",
    "                    out['prev|' + key] = val[0:-2]\n",
    "                out['target|' + key] = val[2:]\n",
    "        return out\n",
    "\n",
    "    return ds.map(fn, num_parallel_calls=8)"
   ]
  },
  {
   "cell_type": "code",
   "execution_count": 14,
   "metadata": {
    "executionInfo": {
     "elapsed": 5437,
     "status": "ok",
     "timestamp": 1647241141945,
     "user": {
      "displayName": "david horsky",
      "photoUrl": "https://lh3.googleusercontent.com/a/default-user=s64",
      "userId": "15225206442244274917"
     },
     "user_tz": -60
    },
    "id": "OHrQFyOExkBA"
   },
   "outputs": [],
   "source": [
    "ds = load_dataset(data_path, data_train)\n",
    "ds = add_targets(ds, [params['field']], add_history=params['history'])"
   ]
  },
  {
   "cell_type": "code",
   "execution_count": 15,
   "metadata": {
    "executionInfo": {
     "elapsed": 411,
     "status": "ok",
     "timestamp": 1647241142348,
     "user": {
      "displayName": "david horsky",
      "photoUrl": "https://lh3.googleusercontent.com/a/default-user=s64",
      "userId": "15225206442244274917"
     },
     "user_tz": -60
    },
    "id": "lExclsuSxm6J"
   },
   "outputs": [],
   "source": [
    "ds = split_and_preprocess(ds, noise_field=params['field'],\n",
    "                          noise_scale=params['noise'],\n",
    "                          noise_gamma=params['gamma'])"
   ]
  },
  {
   "cell_type": "markdown",
   "metadata": {
    "id": "AXfLv7BAFg02"
   },
   "source": [
    "## Prepare for learning"
   ]
  },
  {
   "cell_type": "code",
   "execution_count": 16,
   "metadata": {
    "executionInfo": {
     "elapsed": 26986,
     "status": "ok",
     "timestamp": 1647241169330,
     "user": {
      "displayName": "david horsky",
      "photoUrl": "https://lh3.googleusercontent.com/a/default-user=s64",
      "userId": "15225206442244274917"
     },
     "user_tz": -60
    },
    "id": "C1OvpwV4ymTh"
   },
   "outputs": [],
   "source": [
    "itr = iter(ds)\n",
    "d = itr.next()"
   ]
  },
  {
   "cell_type": "code",
   "execution_count": 17,
   "metadata": {
    "executionInfo": {
     "elapsed": 8,
     "status": "ok",
     "timestamp": 1647241169330,
     "user": {
      "displayName": "david horsky",
      "photoUrl": "https://lh3.googleusercontent.com/a/default-user=s64",
      "userId": "15225206442244274917"
     },
     "user_tz": -60
    },
    "id": "GwjYeXtB1Im7"
   },
   "outputs": [],
   "source": [
    "def triangles_to_edges(faces):\n",
    "    \"\"\"Computes mesh edges from triangles.\"\"\"\n",
    "    # collect edges from triangles\n",
    "    edges = tf.concat([faces[:, 0:2],\n",
    "                       faces[:, 1:3],\n",
    "                       tf.stack([faces[:, 2], faces[:, 0]], axis=1)], axis=0)\n",
    "    # those edges are sometimes duplicated (within the mesh) and sometimes\n",
    "    # single (at the mesh boundary).\n",
    "    # sort & pack edges as single tf.int64\n",
    "    receivers = tf.reduce_min(edges, axis=1)\n",
    "    senders = tf.reduce_max(edges, axis=1)\n",
    "    packed_edges = tf.bitcast(tf.stack([senders, receivers], axis=1), tf.int64)\n",
    "    # remove duplicates and unpack\n",
    "    unique_edges = tf.bitcast(tf.unique(packed_edges)[0], tf.int32)\n",
    "    senders, receivers = tf.unstack(unique_edges, axis=1)\n",
    "    # create two-way connectivity\n",
    "    return (tf.concat([senders, receivers], axis=0),\n",
    "            tf.concat([receivers, senders], axis=0))\n"
   ]
  },
  {
   "cell_type": "code",
   "execution_count": 18,
   "metadata": {
    "executionInfo": {
     "elapsed": 6,
     "status": "ok",
     "timestamp": 1647241169330,
     "user": {
      "displayName": "david horsky",
      "photoUrl": "https://lh3.googleusercontent.com/a/default-user=s64",
      "userId": "15225206442244274917"
     },
     "user_tz": -60
    },
    "id": "Un6sPvfHEmsi"
   },
   "outputs": [],
   "source": [
    "NodeTypeCnt = tf.unique(tf.reshape(d['node_type'], d['node_type'].shape[:1])).y.shape[0]"
   ]
  },
  {
   "cell_type": "code",
   "execution_count": 19,
   "metadata": {
    "executionInfo": {
     "elapsed": 6,
     "status": "ok",
     "timestamp": 1647241169331,
     "user": {
      "displayName": "david horsky",
      "photoUrl": "https://lh3.googleusercontent.com/a/default-user=s64",
      "userId": "15225206442244274917"
     },
     "user_tz": -60
    },
    "id": "BcNR7mtkyTkF"
   },
   "outputs": [],
   "source": [
    "@tf.function\n",
    "def toGraphsTuple(d):\n",
    "    send, recive = triangles_to_edges(d['cells'])\n",
    "    rel_pos = (tf.gather(d['mesh_pos'], send) - tf.gather(d['mesh_pos'], recive))\n",
    "    nodes_unique = tf.unique_with_counts(tf.reshape(d[\"node_type\"], [-1]))\n",
    "    dd = {\n",
    "        #\"nodes\": tf.concat([d[\"velocity\"],d[\"pressure\"],d[\"density\"],tf.cast(d[\"node_type\"],tf.float32),d[\"mesh_pos\"]],1),\n",
    "        \"nodes\": tf.concat([d['velocity'], tf.one_hot(nodes_unique.idx, NodeTypeCnt, dtype=tf.float32)], 1),\n",
    "        # on change update loss function ^\n",
    "        \"senders\": send,\n",
    "        \"receivers\": recive,\n",
    "        \"edges\": tf.concat([\n",
    "            rel_pos,\n",
    "            tf.norm(rel_pos, axis=-1, keepdims=True)], 1)\n",
    "    }\n",
    "    return utils_tf.data_dicts_to_graphs_tuple([dd])"
   ]
  },
  {
   "cell_type": "code",
   "execution_count": 20,
   "metadata": {
    "executionInfo": {
     "elapsed": 3724,
     "status": "ok",
     "timestamp": 1647241173050,
     "user": {
      "displayName": "david horsky",
      "photoUrl": "https://lh3.googleusercontent.com/a/default-user=s64",
      "userId": "15225206442244274917"
     },
     "user_tz": -60
    },
    "id": "7eQI58ojIgV9"
   },
   "outputs": [],
   "source": [
    "dd = toGraphsTuple(d)\n",
    "LINEAR_FEATURES = dd.nodes.shape[1] - NodeTypeCnt"
   ]
  },
  {
   "cell_type": "code",
   "execution_count": 21,
   "metadata": {
    "colab": {
     "base_uri": "https://localhost:8080/"
    },
    "executionInfo": {
     "elapsed": 11,
     "status": "ok",
     "timestamp": 1647241173050,
     "user": {
      "displayName": "david horsky",
      "photoUrl": "https://lh3.googleusercontent.com/a/default-user=s64",
      "userId": "15225206442244274917"
     },
     "user_tz": -60
    },
    "id": "P2bzriH6yeV5",
    "outputId": "d115ffb3-66b7-4962-c41e-0648a89daf22"
   },
   "outputs": [
    {
     "data": {
      "text/plain": "GraphsTuple(nodes=<tf.Tensor: shape=(5233, 5), dtype=float32, numpy=\narray([[134.2387  ,  15.564914,   1.      ,   0.      ,   0.      ],\n       [135.10149 ,  19.480307,   1.      ,   0.      ,   0.      ],\n       [138.67047 ,  19.996254,   1.      ,   0.      ,   0.      ],\n       ...,\n       [123.68728 ,  48.884678,   0.      ,   0.      ,   1.      ],\n       [123.61211 ,  48.56688 ,   0.      ,   0.      ,   1.      ],\n       [123.5929  ,  48.757984,   0.      ,   0.      ,   1.      ]],\n      dtype=float32)>, edges=<tf.Tensor: shape=(30898, 3), dtype=float32, numpy=\narray([[ 0.00579996, -0.01206488,  0.01338659],\n       [-0.00720367, -0.01440071,  0.01610196],\n       [-0.00630522,  0.0145334 ,  0.0158422 ],\n       ...,\n       [ 0.30951977,  1.4802246 ,  1.5122392 ],\n       [ 1.0828505 ,  1.8325498 ,  2.1285684 ],\n       [-0.43042946,  1.2830333 ,  1.3533084 ]], dtype=float32)>, receivers=<tf.Tensor: shape=(30898,), dtype=int32, numpy=array([  69,   55,  159, ..., 5061, 5106, 5109])>, senders=<tf.Tensor: shape=(30898,), dtype=int32, numpy=array([ 417,  302,  405, ..., 5029, 5097, 5075])>, globals=None, n_node=<tf.Tensor: shape=(1,), dtype=int32, numpy=array([5233])>, n_edge=<tf.Tensor: shape=(1,), dtype=int32, numpy=array([30898])>)"
     },
     "execution_count": 21,
     "metadata": {},
     "output_type": "execute_result"
    }
   ],
   "source": [
    "dd"
   ]
  },
  {
   "cell_type": "code",
   "execution_count": 22,
   "metadata": {
    "executionInfo": {
     "elapsed": 8,
     "status": "ok",
     "timestamp": 1647241173050,
     "user": {
      "displayName": "david horsky",
      "photoUrl": "https://lh3.googleusercontent.com/a/default-user=s64",
      "userId": "15225206442244274917"
     },
     "user_tz": -60
    },
    "id": "WZkwNIuOtHGv"
   },
   "outputs": [],
   "source": [
    "aa = itr.next()"
   ]
  },
  {
   "cell_type": "markdown",
   "metadata": {
    "id": "kTXnhOskFwed"
   },
   "source": [
    "## Model and loss function"
   ]
  },
  {
   "cell_type": "code",
   "execution_count": 23,
   "metadata": {
    "executionInfo": {
     "elapsed": 290,
     "status": "ok",
     "timestamp": 1647241174151,
     "user": {
      "displayName": "david horsky",
      "photoUrl": "https://lh3.googleusercontent.com/a/default-user=s64",
      "userId": "15225206442244274917"
     },
     "user_tz": -60
    },
    "id": "FTRpQehszWPd"
   },
   "outputs": [],
   "source": [
    "from EncodeProcessDecodeBasic import EncodeProcessDecode"
   ]
  },
  {
   "cell_type": "code",
   "execution_count": 24,
   "metadata": {
    "executionInfo": {
     "elapsed": 788,
     "status": "ok",
     "timestamp": 1647241174938,
     "user": {
      "displayName": "david horsky",
      "photoUrl": "https://lh3.googleusercontent.com/a/default-user=s64",
      "userId": "15225206442244274917"
     },
     "user_tz": -60
    },
    "id": "7wzWXTCR0lmC"
   },
   "outputs": [],
   "source": [
    "from EncodeProcessDecodeNorm import EncodeProcessDecode as EncodeProcessDecodeNorm"
   ]
  },
  {
   "cell_type": "code",
   "execution_count": 25,
   "metadata": {
    "executionInfo": {
     "elapsed": 382,
     "status": "ok",
     "timestamp": 1647241175318,
     "user": {
      "displayName": "david horsky",
      "photoUrl": "https://lh3.googleusercontent.com/a/default-user=s64",
      "userId": "15225206442244274917"
     },
     "user_tz": -60
    },
    "id": "DyJGKk7VwvBm"
   },
   "outputs": [],
   "source": [
    "from EncodeProcessDecodeAddNorm import EncodeProcessDecode as EncodeProcessDecodeAddNorm"
   ]
  },
  {
   "cell_type": "code",
   "execution_count": 26,
   "metadata": {
    "executionInfo": {
     "elapsed": 419,
     "status": "ok",
     "timestamp": 1647241175734,
     "user": {
      "displayName": "david horsky",
      "photoUrl": "https://lh3.googleusercontent.com/a/default-user=s64",
      "userId": "15225206442244274917"
     },
     "user_tz": -60
    },
    "id": "oK4Q3OwQyr_W"
   },
   "outputs": [],
   "source": [
    "from EncodeProcessDecodeNoLib import EncodeProcessDecode as EncodeProcessDecodeNoLib"
   ]
  },
  {
   "cell_type": "code",
   "execution_count": 27,
   "outputs": [],
   "source": [
    "from EncodeProcessDecodeMultinet import EncodeProcessDecode as EncodeProcessDecodeMultinet"
   ],
   "metadata": {
    "collapsed": false,
    "pycharm": {
     "name": "#%%\n"
    }
   }
  },
  {
   "cell_type": "code",
   "execution_count": 28,
   "metadata": {
    "executionInfo": {
     "elapsed": 312,
     "status": "ok",
     "timestamp": 1647241176044,
     "user": {
      "displayName": "david horsky",
      "photoUrl": "https://lh3.googleusercontent.com/a/default-user=s64",
      "userId": "15225206442244274917"
     },
     "user_tz": -60
    },
    "id": "p-RbOyWA4SAp"
   },
   "outputs": [],
   "source": [
    "models = {\"basic\": {\"model\": EncodeProcessDecode,\n",
    "                    \"args\": {\"steps\": 15,\n",
    "                             \"learn_features\": 2,\n",
    "                             \"node_net_sizes\": [128] * 2 + [2],\n",
    "                             \"edge_net_sizes\": [128] * 2 + [4]}},\n",
    "          \"small_test\": {\"model\": EncodeProcessDecode,\n",
    "                         \"args\": {\"steps\": 5,\n",
    "                                  \"learn_features\": 2,\n",
    "                                  \"node_net_sizes\": [8] * 2 + [2],\n",
    "                                  \"edge_net_sizes\": [8] * 2 + [4]}},\n",
    "          \"full\": {\"model\": EncodeProcessDecodeNorm,\n",
    "                   \"args\": {\"steps\": 15,\n",
    "                            \"learn_features\": 2,\n",
    "                            \"n_layers\": 2,\n",
    "                            \"lat_size\": 128,\n",
    "                            \"edge_feat_cnt\": 3,\n",
    "                            \"node_feat_cnt\": 5}},\n",
    "          \"no-norm\": {\"model\": EncodeProcessDecodeNorm,\n",
    "                      \"args\": {\"steps\": 15,\n",
    "                               \"learn_features\": 2,\n",
    "                               \"n_layers\": 2,\n",
    "                               \"lat_size\": 128,\n",
    "                               \"edge_feat_cnt\": 3,\n",
    "                               \"node_feat_cnt\": 5,\n",
    "                               \"la_norm\": False}},\n",
    "          \"add\": {\"model\": EncodeProcessDecodeAddNorm,\n",
    "                  \"args\": {\"steps\": 15,\n",
    "                           \"learn_features\": 2,\n",
    "                           \"n_layers\": 2,\n",
    "                           \"lat_size\": 128,\n",
    "                           \"edge_feat_cnt\": 3,\n",
    "                           \"node_feat_cnt\": 5}},\n",
    "          \"no-lib\": {\"model\": EncodeProcessDecodeNoLib,\n",
    "                     \"args\": {\"steps\": 15,\n",
    "                              \"learn_features\": 2,\n",
    "                              \"n_layers\": 2,\n",
    "                              \"lat_size\": 128,\n",
    "                              \"edge_feat_cnt\": 3,\n",
    "                              \"node_feat_cnt\": 5}},\n",
    "          \"multinet\": {\"model\": EncodeProcessDecodeMultinet,\n",
    "                       \"args\": {\"steps\": 15,\n",
    "                                \"learn_features\": 2,\n",
    "                                \"n_layers\": 2,\n",
    "                                \"lat_size\": 128,\n",
    "                                \"edge_feat_cnt\": 3,\n",
    "                                \"node_feat_cnt\": 5}}}"
   ]
  },
  {
   "cell_type": "markdown",
   "metadata": {
    "id": "41CWIUw9GQ7m"
   },
   "source": [
    "### Model hyperparameters"
   ]
  },
  {
   "cell_type": "code",
   "execution_count": 29,
   "metadata": {
    "executionInfo": {
     "elapsed": 389,
     "status": "ok",
     "timestamp": 1647241176431,
     "user": {
      "displayName": "david horsky",
      "photoUrl": "https://lh3.googleusercontent.com/a/default-user=s64",
      "userId": "15225206442244274917"
     },
     "user_tz": -60
    },
    "id": "DueyxnKPyCJG"
   },
   "outputs": [],
   "source": [
    "from AdamModLr import Adam\n",
    "\n",
    "lr = 1e-4\n",
    "# opt = snt.optimizers.Adam(lr)\n",
    "opt = Adam(lr)\n",
    "steps = 15\n",
    "#model = EncodeProcessDecode(steps, LINEAR_FEATURES, [128] * 2, [128] * 2 + [4])\n",
    "mod = \"multinet\"\n",
    "md = models[mod]\n",
    "model = md[\"model\"](**md[\"args\"])\n",
    "initial_learning_rate = lr\n",
    "decay_rate = 0.1\n",
    "decay_steps = 5e6\n",
    "learning_increase = 1e-6"
   ]
  },
  {
   "cell_type": "markdown",
   "metadata": {
    "id": "-rmqpvEzGWPJ"
   },
   "source": [
    "## Training"
   ]
  },
  {
   "cell_type": "code",
   "execution_count": 30,
   "metadata": {
    "executionInfo": {
     "elapsed": 5,
     "status": "ok",
     "timestamp": 1647241176432,
     "user": {
      "displayName": "david horsky",
      "photoUrl": "https://lh3.googleusercontent.com/a/default-user=s64",
      "userId": "15225206442244274917"
     },
     "user_tz": -60
    },
    "id": "T0T9xCRw4SAq"
   },
   "outputs": [],
   "source": [
    "def decayed_learning_rate(step):\n",
    "    return initial_learning_rate * decay_rate ** (step / decay_steps) + learning_increase"
   ]
  },
  {
   "cell_type": "code",
   "execution_count": 31,
   "metadata": {
    "executionInfo": {
     "elapsed": 5,
     "status": "ok",
     "timestamp": 1647241176433,
     "user": {
      "displayName": "david horsky",
      "photoUrl": "https://lh3.googleusercontent.com/a/default-user=s64",
      "userId": "15225206442244274917"
     },
     "user_tz": -60
    },
    "id": "pGAd95jfGKyW"
   },
   "outputs": [],
   "source": [
    "@tf.function\n",
    "def update_step(data):\n",
    "    print(\"Tracing!\")\n",
    "    grp = toGraphsTuple(data)\n",
    "    with tf.GradientTape() as tape:\n",
    "        los = model.loss(grp, data)  #change to loss\n",
    "\n",
    "    gradients = tape.gradient(los, model.trainable_variables)\n",
    "\n",
    "    opt.apply(gradients, model.trainable_variables)\n",
    "    return los"
   ]
  },
  {
   "cell_type": "code",
   "execution_count": 52,
   "outputs": [],
   "source": [
    "tf.config.run_functions_eagerly(True)"
   ],
   "metadata": {
    "collapsed": false,
    "pycharm": {
     "name": "#%%\n"
    }
   }
  },
  {
   "cell_type": "code",
   "execution_count": null,
   "metadata": {
    "colab": {
     "base_uri": "https://localhost:8080/"
    },
    "executionInfo": {
     "elapsed": 30666,
     "status": "ok",
     "timestamp": 1647241207094,
     "user": {
      "displayName": "david horsky",
      "photoUrl": "https://lh3.googleusercontent.com/a/default-user=s64",
      "userId": "15225206442244274917"
     },
     "user_tz": -60
    },
    "id": "-mE7jCletFqn",
    "outputId": "8f1ae11c-f119-428f-a12f-48c746bcf365"
   },
   "outputs": [
    {
     "name": "stdout",
     "output_type": "stream",
     "text": [
      "Tracing!\n"
     ]
    }
   ],
   "source": [
    "update_step(aa);"
   ]
  },
  {
   "cell_type": "code",
   "execution_count": 38,
   "metadata": {
    "executionInfo": {
     "elapsed": 10,
     "status": "ok",
     "timestamp": 1647241207094,
     "user": {
      "displayName": "david horsky",
      "photoUrl": "https://lh3.googleusercontent.com/a/default-user=s64",
      "userId": "15225206442244274917"
     },
     "user_tz": -60
    },
    "id": "SFd7jLBgPnbh"
   },
   "outputs": [],
   "source": [
    "@tf.function\n",
    "def loss(grp, data):\n",
    "    return model.loss(grp, data)\n"
   ]
  },
  {
   "cell_type": "code",
   "execution_count": 39,
   "metadata": {
    "colab": {
     "base_uri": "https://localhost:8080/"
    },
    "executionInfo": {
     "elapsed": 3834,
     "status": "ok",
     "timestamp": 1647241210919,
     "user": {
      "displayName": "david horsky",
      "photoUrl": "https://lh3.googleusercontent.com/a/default-user=s64",
      "userId": "15225206442244274917"
     },
     "user_tz": -60
    },
    "id": "AQEwzgiaLobf",
    "outputId": "d77aa09e-9af7-4fff-a7e1-d87bd827e3aa"
   },
   "outputs": [],
   "source": [
    "if IN_COLAB:\n",
    "    logdir = 'logs/tst/'\n",
    "    writer = tf.summary.create_file_writer(logdir)\n",
    "\n",
    "    # Bracket the function call with\n",
    "    # tf.summary.trace_on() and tf.summary.trace_export().\n",
    "    tf.summary.trace_on(graph=True, profiler=True)\n",
    "    # Call only one tf.function when tracing.\n",
    "    z = loss(dd, d);\n",
    "    with writer.as_default():\n",
    "        tf.summary.trace_export(\n",
    "            name=\"my_func_trace\",\n",
    "            step=0,\n",
    "            profiler_outdir=logdir)"
   ]
  },
  {
   "cell_type": "code",
   "execution_count": 40,
   "metadata": {
    "colab": {
     "base_uri": "https://localhost:8080/"
    },
    "executionInfo": {
     "elapsed": 1433,
     "status": "ok",
     "timestamp": 1647242104238,
     "user": {
      "displayName": "david horsky",
      "photoUrl": "https://lh3.googleusercontent.com/a/default-user=s64",
      "userId": "15225206442244274917"
     },
     "user_tz": -60
    },
    "id": "F4Xnsg7MpzaY",
    "outputId": "8a625d18-4d71-453f-f3ed-40e68a8e5fad"
   },
   "outputs": [],
   "source": [
    "chck_root = \"models/multinet1/\"\n",
    "chck_name = mod\n",
    "\n",
    "chck = tf.train.Checkpoint(module=model)\n",
    "\n",
    "latest = tf.train.latest_checkpoint(chck_root)\n",
    "if latest is not None:\n",
    "    print(\"loading\", latest)\n",
    "    chck.restore(latest)"
   ]
  },
  {
   "cell_type": "code",
   "execution_count": 41,
   "metadata": {
    "executionInfo": {
     "elapsed": 296,
     "status": "ok",
     "timestamp": 1647242106926,
     "user": {
      "displayName": "david horsky",
      "photoUrl": "https://lh3.googleusercontent.com/a/default-user=s64",
      "userId": "15225206442244274917"
     },
     "user_tz": -60
    },
    "id": "JgZu39MbJi_z"
   },
   "outputs": [
    {
     "name": "stdout",
     "output_type": "stream",
     "text": [
      "Acumulating\n"
     ]
    },
    {
     "ename": "InvalidArgumentError",
     "evalue": "In[0] and In[1] has different ndims: [5233,5] vs. [0] [Op:MatMul]",
     "output_type": "error",
     "traceback": [
      "\u001B[1;31m---------------------------------------------------------------------------\u001B[0m",
      "\u001B[1;31mInvalidArgumentError\u001B[0m                      Traceback (most recent call last)",
      "Input \u001B[1;32mIn [41]\u001B[0m, in \u001B[0;36m<module>\u001B[1;34m\u001B[0m\n\u001B[0;32m      4\u001B[0m data \u001B[38;5;241m=\u001B[39m itr\u001B[38;5;241m.\u001B[39mnext()\n\u001B[0;32m      5\u001B[0m grp \u001B[38;5;241m=\u001B[39m toGraphsTuple(data)\n\u001B[1;32m----> 6\u001B[0m \u001B[43mmodel\u001B[49m\u001B[38;5;241;43m.\u001B[39;49m\u001B[43mloss\u001B[49m\u001B[43m(\u001B[49m\u001B[43mgrp\u001B[49m\u001B[43m,\u001B[49m\u001B[43m \u001B[49m\u001B[43mdata\u001B[49m\u001B[43m)\u001B[49m\n",
      "File \u001B[1;32m~\\AppData\\Local\\Programs\\Python\\Python39\\lib\\site-packages\\sonnet\\src\\utils.py:89\u001B[0m, in \u001B[0;36mdecorator.<locals>._decorator.<locals>._decorate_unbound_method\u001B[1;34m(self, *args, **kwargs)\u001B[0m\n\u001B[0;32m     86\u001B[0m \u001B[38;5;129m@functools\u001B[39m\u001B[38;5;241m.\u001B[39mwraps(f)\n\u001B[0;32m     87\u001B[0m \u001B[38;5;28;01mdef\u001B[39;00m \u001B[38;5;21m_decorate_unbound_method\u001B[39m(\u001B[38;5;28mself\u001B[39m, \u001B[38;5;241m*\u001B[39margs, \u001B[38;5;241m*\u001B[39m\u001B[38;5;241m*\u001B[39mkwargs):\n\u001B[0;32m     88\u001B[0m   bound_method \u001B[38;5;241m=\u001B[39m f\u001B[38;5;241m.\u001B[39m\u001B[38;5;21m__get__\u001B[39m(\u001B[38;5;28mself\u001B[39m, \u001B[38;5;28mself\u001B[39m\u001B[38;5;241m.\u001B[39m\u001B[38;5;18m__class__\u001B[39m)  \u001B[38;5;66;03m# pytype: disable=attribute-error\u001B[39;00m\n\u001B[1;32m---> 89\u001B[0m   \u001B[38;5;28;01mreturn\u001B[39;00m \u001B[43mdecorator_fn\u001B[49m\u001B[43m(\u001B[49m\u001B[43mbound_method\u001B[49m\u001B[43m,\u001B[49m\u001B[43m \u001B[49m\u001B[38;5;28;43mself\u001B[39;49m\u001B[43m,\u001B[49m\u001B[43m \u001B[49m\u001B[43margs\u001B[49m\u001B[43m,\u001B[49m\u001B[43m \u001B[49m\u001B[43mkwargs\u001B[49m\u001B[43m)\u001B[49m\n",
      "File \u001B[1;32m~\\AppData\\Local\\Programs\\Python\\Python39\\lib\\site-packages\\sonnet\\src\\base.py:272\u001B[0m, in \u001B[0;36mwrap_with_name_scope\u001B[1;34m(method, instance, args, kwargs)\u001B[0m\n\u001B[0;32m    267\u001B[0m   six\u001B[38;5;241m.\u001B[39mraise_from(exc_value, exc_value_from)\n\u001B[0;32m    269\u001B[0m \u001B[38;5;28;01mwith\u001B[39;00m module_name_scope:\n\u001B[0;32m    270\u001B[0m   \u001B[38;5;66;03m# snt.Module enters the module name scope for all methods. To disable this\u001B[39;00m\n\u001B[0;32m    271\u001B[0m   \u001B[38;5;66;03m# for a particular method annotate it with `@snt.no_name_scope`.\u001B[39;00m\n\u001B[1;32m--> 272\u001B[0m   \u001B[38;5;28;01mreturn\u001B[39;00m method(\u001B[38;5;241m*\u001B[39margs, \u001B[38;5;241m*\u001B[39m\u001B[38;5;241m*\u001B[39mkwargs)\n",
      "File \u001B[1;32m~\\PycharmProjects\\graph_flow_simulation\\EncodeProcessDecodeMultinet.py:78\u001B[0m, in \u001B[0;36mEncodeProcessDecode.loss\u001B[1;34m(self, grp, inputs)\u001B[0m\n\u001B[0;32m     77\u001B[0m \u001B[38;5;28;01mdef\u001B[39;00m \u001B[38;5;21mloss\u001B[39m(\u001B[38;5;28mself\u001B[39m, grp, inputs):\n\u001B[1;32m---> 78\u001B[0m     res \u001B[38;5;241m=\u001B[39m \u001B[38;5;28;43mself\u001B[39;49m\u001B[43m(\u001B[49m\u001B[43mgrp\u001B[49m\u001B[43m,\u001B[49m\u001B[43m \u001B[49m\u001B[43mis_learning\u001B[49m\u001B[38;5;241;43m=\u001B[39;49m\u001B[38;5;28;43;01mTrue\u001B[39;49;00m\u001B[43m)\u001B[49m\n\u001B[0;32m     80\u001B[0m     \u001B[38;5;66;03m# build target velocity change\u001B[39;00m\n\u001B[0;32m     81\u001B[0m     cur_velocity \u001B[38;5;241m=\u001B[39m inputs[\u001B[38;5;124m'\u001B[39m\u001B[38;5;124mvelocity\u001B[39m\u001B[38;5;124m'\u001B[39m]\n",
      "File \u001B[1;32m~\\AppData\\Local\\Programs\\Python\\Python39\\lib\\site-packages\\sonnet\\src\\utils.py:89\u001B[0m, in \u001B[0;36mdecorator.<locals>._decorator.<locals>._decorate_unbound_method\u001B[1;34m(self, *args, **kwargs)\u001B[0m\n\u001B[0;32m     86\u001B[0m \u001B[38;5;129m@functools\u001B[39m\u001B[38;5;241m.\u001B[39mwraps(f)\n\u001B[0;32m     87\u001B[0m \u001B[38;5;28;01mdef\u001B[39;00m \u001B[38;5;21m_decorate_unbound_method\u001B[39m(\u001B[38;5;28mself\u001B[39m, \u001B[38;5;241m*\u001B[39margs, \u001B[38;5;241m*\u001B[39m\u001B[38;5;241m*\u001B[39mkwargs):\n\u001B[0;32m     88\u001B[0m   bound_method \u001B[38;5;241m=\u001B[39m f\u001B[38;5;241m.\u001B[39m\u001B[38;5;21m__get__\u001B[39m(\u001B[38;5;28mself\u001B[39m, \u001B[38;5;28mself\u001B[39m\u001B[38;5;241m.\u001B[39m\u001B[38;5;18m__class__\u001B[39m)  \u001B[38;5;66;03m# pytype: disable=attribute-error\u001B[39;00m\n\u001B[1;32m---> 89\u001B[0m   \u001B[38;5;28;01mreturn\u001B[39;00m \u001B[43mdecorator_fn\u001B[49m\u001B[43m(\u001B[49m\u001B[43mbound_method\u001B[49m\u001B[43m,\u001B[49m\u001B[43m \u001B[49m\u001B[38;5;28;43mself\u001B[39;49m\u001B[43m,\u001B[49m\u001B[43m \u001B[49m\u001B[43margs\u001B[49m\u001B[43m,\u001B[49m\u001B[43m \u001B[49m\u001B[43mkwargs\u001B[49m\u001B[43m)\u001B[49m\n",
      "File \u001B[1;32m~\\AppData\\Local\\Programs\\Python\\Python39\\lib\\site-packages\\sonnet\\src\\base.py:272\u001B[0m, in \u001B[0;36mwrap_with_name_scope\u001B[1;34m(method, instance, args, kwargs)\u001B[0m\n\u001B[0;32m    267\u001B[0m   six\u001B[38;5;241m.\u001B[39mraise_from(exc_value, exc_value_from)\n\u001B[0;32m    269\u001B[0m \u001B[38;5;28;01mwith\u001B[39;00m module_name_scope:\n\u001B[0;32m    270\u001B[0m   \u001B[38;5;66;03m# snt.Module enters the module name scope for all methods. To disable this\u001B[39;00m\n\u001B[0;32m    271\u001B[0m   \u001B[38;5;66;03m# for a particular method annotate it with `@snt.no_name_scope`.\u001B[39;00m\n\u001B[1;32m--> 272\u001B[0m   \u001B[38;5;28;01mreturn\u001B[39;00m method(\u001B[38;5;241m*\u001B[39margs, \u001B[38;5;241m*\u001B[39m\u001B[38;5;241m*\u001B[39mkwargs)\n",
      "File \u001B[1;32m~\\PycharmProjects\\graph_flow_simulation\\EncodeProcessDecodeMultinet.py:67\u001B[0m, in \u001B[0;36mEncodeProcessDecode.__call__\u001B[1;34m(self, grp, is_learning)\u001B[0m\n\u001B[0;32m     65\u001B[0m st \u001B[38;5;241m=\u001B[39m grp\n\u001B[0;32m     66\u001B[0m grp \u001B[38;5;241m=\u001B[39m grp\u001B[38;5;241m.\u001B[39mreplace(nodes\u001B[38;5;241m=\u001B[39m\u001B[38;5;28mself\u001B[39m\u001B[38;5;241m.\u001B[39m_node_norm(grp\u001B[38;5;241m.\u001B[39mnodes, is_learning), edges\u001B[38;5;241m=\u001B[39m\u001B[38;5;28mself\u001B[39m\u001B[38;5;241m.\u001B[39m_edge_norm(grp\u001B[38;5;241m.\u001B[39medges, is_learning))\n\u001B[1;32m---> 67\u001B[0m grp \u001B[38;5;241m=\u001B[39m \u001B[38;5;28;43mself\u001B[39;49m\u001B[38;5;241;43m.\u001B[39;49m\u001B[43m_encode\u001B[49m\u001B[43m(\u001B[49m\u001B[43mgrp\u001B[49m\u001B[43m)\u001B[49m\n\u001B[0;32m     68\u001B[0m \u001B[38;5;28;01mfor\u001B[39;00m i \u001B[38;5;129;01min\u001B[39;00m \u001B[38;5;28mrange\u001B[39m(\u001B[38;5;28mself\u001B[39m\u001B[38;5;241m.\u001B[39msteps):\n\u001B[0;32m     69\u001B[0m     grp \u001B[38;5;241m=\u001B[39m \u001B[38;5;28mself\u001B[39m\u001B[38;5;241m.\u001B[39m_pass_message(grp, i)\n",
      "File \u001B[1;32m~\\AppData\\Local\\Programs\\Python\\Python39\\lib\\site-packages\\sonnet\\src\\utils.py:89\u001B[0m, in \u001B[0;36mdecorator.<locals>._decorator.<locals>._decorate_unbound_method\u001B[1;34m(self, *args, **kwargs)\u001B[0m\n\u001B[0;32m     86\u001B[0m \u001B[38;5;129m@functools\u001B[39m\u001B[38;5;241m.\u001B[39mwraps(f)\n\u001B[0;32m     87\u001B[0m \u001B[38;5;28;01mdef\u001B[39;00m \u001B[38;5;21m_decorate_unbound_method\u001B[39m(\u001B[38;5;28mself\u001B[39m, \u001B[38;5;241m*\u001B[39margs, \u001B[38;5;241m*\u001B[39m\u001B[38;5;241m*\u001B[39mkwargs):\n\u001B[0;32m     88\u001B[0m   bound_method \u001B[38;5;241m=\u001B[39m f\u001B[38;5;241m.\u001B[39m\u001B[38;5;21m__get__\u001B[39m(\u001B[38;5;28mself\u001B[39m, \u001B[38;5;28mself\u001B[39m\u001B[38;5;241m.\u001B[39m\u001B[38;5;18m__class__\u001B[39m)  \u001B[38;5;66;03m# pytype: disable=attribute-error\u001B[39;00m\n\u001B[1;32m---> 89\u001B[0m   \u001B[38;5;28;01mreturn\u001B[39;00m \u001B[43mdecorator_fn\u001B[49m\u001B[43m(\u001B[49m\u001B[43mbound_method\u001B[49m\u001B[43m,\u001B[49m\u001B[43m \u001B[49m\u001B[38;5;28;43mself\u001B[39;49m\u001B[43m,\u001B[49m\u001B[43m \u001B[49m\u001B[43margs\u001B[49m\u001B[43m,\u001B[49m\u001B[43m \u001B[49m\u001B[43mkwargs\u001B[49m\u001B[43m)\u001B[49m\n",
      "File \u001B[1;32m~\\AppData\\Local\\Programs\\Python\\Python39\\lib\\site-packages\\sonnet\\src\\base.py:272\u001B[0m, in \u001B[0;36mwrap_with_name_scope\u001B[1;34m(method, instance, args, kwargs)\u001B[0m\n\u001B[0;32m    267\u001B[0m   six\u001B[38;5;241m.\u001B[39mraise_from(exc_value, exc_value_from)\n\u001B[0;32m    269\u001B[0m \u001B[38;5;28;01mwith\u001B[39;00m module_name_scope:\n\u001B[0;32m    270\u001B[0m   \u001B[38;5;66;03m# snt.Module enters the module name scope for all methods. To disable this\u001B[39;00m\n\u001B[0;32m    271\u001B[0m   \u001B[38;5;66;03m# for a particular method annotate it with `@snt.no_name_scope`.\u001B[39;00m\n\u001B[1;32m--> 272\u001B[0m   \u001B[38;5;28;01mreturn\u001B[39;00m method(\u001B[38;5;241m*\u001B[39margs, \u001B[38;5;241m*\u001B[39m\u001B[38;5;241m*\u001B[39mkwargs)\n",
      "File \u001B[1;32m~\\PycharmProjects\\graph_flow_simulation\\EncodeProcessDecodeMultinet.py:28\u001B[0m, in \u001B[0;36mEncodeProcessDecode._encode\u001B[1;34m(self, grp)\u001B[0m\n\u001B[0;32m     27\u001B[0m \u001B[38;5;28;01mdef\u001B[39;00m \u001B[38;5;21m_encode\u001B[39m(\u001B[38;5;28mself\u001B[39m, grp):\n\u001B[1;32m---> 28\u001B[0m     \u001B[38;5;28;01mreturn\u001B[39;00m grp\u001B[38;5;241m.\u001B[39mreplace(nodes\u001B[38;5;241m=\u001B[39m\u001B[38;5;28;43mself\u001B[39;49m\u001B[38;5;241;43m.\u001B[39;49m\u001B[43m_encode_nodes\u001B[49m\u001B[43m(\u001B[49m\u001B[43mgrp\u001B[49m\u001B[38;5;241;43m.\u001B[39;49m\u001B[43mnodes\u001B[49m\u001B[43m)\u001B[49m, edges\u001B[38;5;241m=\u001B[39m\u001B[38;5;28mself\u001B[39m\u001B[38;5;241m.\u001B[39m_encode_edges(grp\u001B[38;5;241m.\u001B[39medges))\n",
      "File \u001B[1;32m~\\AppData\\Local\\Programs\\Python\\Python39\\lib\\site-packages\\sonnet\\src\\utils.py:89\u001B[0m, in \u001B[0;36mdecorator.<locals>._decorator.<locals>._decorate_unbound_method\u001B[1;34m(self, *args, **kwargs)\u001B[0m\n\u001B[0;32m     86\u001B[0m \u001B[38;5;129m@functools\u001B[39m\u001B[38;5;241m.\u001B[39mwraps(f)\n\u001B[0;32m     87\u001B[0m \u001B[38;5;28;01mdef\u001B[39;00m \u001B[38;5;21m_decorate_unbound_method\u001B[39m(\u001B[38;5;28mself\u001B[39m, \u001B[38;5;241m*\u001B[39margs, \u001B[38;5;241m*\u001B[39m\u001B[38;5;241m*\u001B[39mkwargs):\n\u001B[0;32m     88\u001B[0m   bound_method \u001B[38;5;241m=\u001B[39m f\u001B[38;5;241m.\u001B[39m\u001B[38;5;21m__get__\u001B[39m(\u001B[38;5;28mself\u001B[39m, \u001B[38;5;28mself\u001B[39m\u001B[38;5;241m.\u001B[39m\u001B[38;5;18m__class__\u001B[39m)  \u001B[38;5;66;03m# pytype: disable=attribute-error\u001B[39;00m\n\u001B[1;32m---> 89\u001B[0m   \u001B[38;5;28;01mreturn\u001B[39;00m \u001B[43mdecorator_fn\u001B[49m\u001B[43m(\u001B[49m\u001B[43mbound_method\u001B[49m\u001B[43m,\u001B[49m\u001B[43m \u001B[49m\u001B[38;5;28;43mself\u001B[39;49m\u001B[43m,\u001B[49m\u001B[43m \u001B[49m\u001B[43margs\u001B[49m\u001B[43m,\u001B[49m\u001B[43m \u001B[49m\u001B[43mkwargs\u001B[49m\u001B[43m)\u001B[49m\n",
      "File \u001B[1;32m~\\AppData\\Local\\Programs\\Python\\Python39\\lib\\site-packages\\sonnet\\src\\base.py:272\u001B[0m, in \u001B[0;36mwrap_with_name_scope\u001B[1;34m(method, instance, args, kwargs)\u001B[0m\n\u001B[0;32m    267\u001B[0m   six\u001B[38;5;241m.\u001B[39mraise_from(exc_value, exc_value_from)\n\u001B[0;32m    269\u001B[0m \u001B[38;5;28;01mwith\u001B[39;00m module_name_scope:\n\u001B[0;32m    270\u001B[0m   \u001B[38;5;66;03m# snt.Module enters the module name scope for all methods. To disable this\u001B[39;00m\n\u001B[0;32m    271\u001B[0m   \u001B[38;5;66;03m# for a particular method annotate it with `@snt.no_name_scope`.\u001B[39;00m\n\u001B[1;32m--> 272\u001B[0m   \u001B[38;5;28;01mreturn\u001B[39;00m method(\u001B[38;5;241m*\u001B[39margs, \u001B[38;5;241m*\u001B[39m\u001B[38;5;241m*\u001B[39mkwargs)\n",
      "File \u001B[1;32m~\\AppData\\Local\\Programs\\Python\\Python39\\lib\\site-packages\\sonnet\\src\\sequential.py:72\u001B[0m, in \u001B[0;36mSequential.__call__\u001B[1;34m(self, inputs, *args, **kwargs)\u001B[0m\n\u001B[0;32m     69\u001B[0m \u001B[38;5;28;01mfor\u001B[39;00m i, mod \u001B[38;5;129;01min\u001B[39;00m \u001B[38;5;28menumerate\u001B[39m(\u001B[38;5;28mself\u001B[39m\u001B[38;5;241m.\u001B[39m_layers):\n\u001B[0;32m     70\u001B[0m   \u001B[38;5;28;01mif\u001B[39;00m i \u001B[38;5;241m==\u001B[39m \u001B[38;5;241m0\u001B[39m:\n\u001B[0;32m     71\u001B[0m     \u001B[38;5;66;03m# Pass additional arguments to the first layer.\u001B[39;00m\n\u001B[1;32m---> 72\u001B[0m     outputs \u001B[38;5;241m=\u001B[39m mod(outputs, \u001B[38;5;241m*\u001B[39margs, \u001B[38;5;241m*\u001B[39m\u001B[38;5;241m*\u001B[39mkwargs)\n\u001B[0;32m     73\u001B[0m   \u001B[38;5;28;01melse\u001B[39;00m:\n\u001B[0;32m     74\u001B[0m     outputs \u001B[38;5;241m=\u001B[39m mod(outputs)\n",
      "File \u001B[1;32m~\\AppData\\Local\\Programs\\Python\\Python39\\lib\\site-packages\\sonnet\\src\\utils.py:89\u001B[0m, in \u001B[0;36mdecorator.<locals>._decorator.<locals>._decorate_unbound_method\u001B[1;34m(self, *args, **kwargs)\u001B[0m\n\u001B[0;32m     86\u001B[0m \u001B[38;5;129m@functools\u001B[39m\u001B[38;5;241m.\u001B[39mwraps(f)\n\u001B[0;32m     87\u001B[0m \u001B[38;5;28;01mdef\u001B[39;00m \u001B[38;5;21m_decorate_unbound_method\u001B[39m(\u001B[38;5;28mself\u001B[39m, \u001B[38;5;241m*\u001B[39margs, \u001B[38;5;241m*\u001B[39m\u001B[38;5;241m*\u001B[39mkwargs):\n\u001B[0;32m     88\u001B[0m   bound_method \u001B[38;5;241m=\u001B[39m f\u001B[38;5;241m.\u001B[39m\u001B[38;5;21m__get__\u001B[39m(\u001B[38;5;28mself\u001B[39m, \u001B[38;5;28mself\u001B[39m\u001B[38;5;241m.\u001B[39m\u001B[38;5;18m__class__\u001B[39m)  \u001B[38;5;66;03m# pytype: disable=attribute-error\u001B[39;00m\n\u001B[1;32m---> 89\u001B[0m   \u001B[38;5;28;01mreturn\u001B[39;00m \u001B[43mdecorator_fn\u001B[49m\u001B[43m(\u001B[49m\u001B[43mbound_method\u001B[49m\u001B[43m,\u001B[49m\u001B[43m \u001B[49m\u001B[38;5;28;43mself\u001B[39;49m\u001B[43m,\u001B[49m\u001B[43m \u001B[49m\u001B[43margs\u001B[49m\u001B[43m,\u001B[49m\u001B[43m \u001B[49m\u001B[43mkwargs\u001B[49m\u001B[43m)\u001B[49m\n",
      "File \u001B[1;32m~\\AppData\\Local\\Programs\\Python\\Python39\\lib\\site-packages\\sonnet\\src\\base.py:272\u001B[0m, in \u001B[0;36mwrap_with_name_scope\u001B[1;34m(method, instance, args, kwargs)\u001B[0m\n\u001B[0;32m    267\u001B[0m   six\u001B[38;5;241m.\u001B[39mraise_from(exc_value, exc_value_from)\n\u001B[0;32m    269\u001B[0m \u001B[38;5;28;01mwith\u001B[39;00m module_name_scope:\n\u001B[0;32m    270\u001B[0m   \u001B[38;5;66;03m# snt.Module enters the module name scope for all methods. To disable this\u001B[39;00m\n\u001B[0;32m    271\u001B[0m   \u001B[38;5;66;03m# for a particular method annotate it with `@snt.no_name_scope`.\u001B[39;00m\n\u001B[1;32m--> 272\u001B[0m   \u001B[38;5;28;01mreturn\u001B[39;00m method(\u001B[38;5;241m*\u001B[39margs, \u001B[38;5;241m*\u001B[39m\u001B[38;5;241m*\u001B[39mkwargs)\n",
      "File \u001B[1;32m~\\AppData\\Local\\Programs\\Python\\Python39\\lib\\site-packages\\sonnet\\src\\nets\\mlp.py:102\u001B[0m, in \u001B[0;36mMLP.__call__\u001B[1;34m(self, inputs, is_training)\u001B[0m\n\u001B[0;32m     99\u001B[0m num_layers \u001B[38;5;241m=\u001B[39m \u001B[38;5;28mlen\u001B[39m(\u001B[38;5;28mself\u001B[39m\u001B[38;5;241m.\u001B[39m_layers)\n\u001B[0;32m    101\u001B[0m \u001B[38;5;28;01mfor\u001B[39;00m i, layer \u001B[38;5;129;01min\u001B[39;00m \u001B[38;5;28menumerate\u001B[39m(\u001B[38;5;28mself\u001B[39m\u001B[38;5;241m.\u001B[39m_layers):\n\u001B[1;32m--> 102\u001B[0m   inputs \u001B[38;5;241m=\u001B[39m \u001B[43mlayer\u001B[49m\u001B[43m(\u001B[49m\u001B[43minputs\u001B[49m\u001B[43m)\u001B[49m\n\u001B[0;32m    103\u001B[0m   \u001B[38;5;28;01mif\u001B[39;00m i \u001B[38;5;241m<\u001B[39m (num_layers \u001B[38;5;241m-\u001B[39m \u001B[38;5;241m1\u001B[39m) \u001B[38;5;129;01mor\u001B[39;00m \u001B[38;5;28mself\u001B[39m\u001B[38;5;241m.\u001B[39m_activate_final:\n\u001B[0;32m    104\u001B[0m     \u001B[38;5;66;03m# Only perform dropout if we are activating the output.\u001B[39;00m\n\u001B[0;32m    105\u001B[0m     \u001B[38;5;28;01mif\u001B[39;00m use_dropout \u001B[38;5;129;01mand\u001B[39;00m is_training:\n",
      "File \u001B[1;32m~\\AppData\\Local\\Programs\\Python\\Python39\\lib\\site-packages\\sonnet\\src\\utils.py:89\u001B[0m, in \u001B[0;36mdecorator.<locals>._decorator.<locals>._decorate_unbound_method\u001B[1;34m(self, *args, **kwargs)\u001B[0m\n\u001B[0;32m     86\u001B[0m \u001B[38;5;129m@functools\u001B[39m\u001B[38;5;241m.\u001B[39mwraps(f)\n\u001B[0;32m     87\u001B[0m \u001B[38;5;28;01mdef\u001B[39;00m \u001B[38;5;21m_decorate_unbound_method\u001B[39m(\u001B[38;5;28mself\u001B[39m, \u001B[38;5;241m*\u001B[39margs, \u001B[38;5;241m*\u001B[39m\u001B[38;5;241m*\u001B[39mkwargs):\n\u001B[0;32m     88\u001B[0m   bound_method \u001B[38;5;241m=\u001B[39m f\u001B[38;5;241m.\u001B[39m\u001B[38;5;21m__get__\u001B[39m(\u001B[38;5;28mself\u001B[39m, \u001B[38;5;28mself\u001B[39m\u001B[38;5;241m.\u001B[39m\u001B[38;5;18m__class__\u001B[39m)  \u001B[38;5;66;03m# pytype: disable=attribute-error\u001B[39;00m\n\u001B[1;32m---> 89\u001B[0m   \u001B[38;5;28;01mreturn\u001B[39;00m \u001B[43mdecorator_fn\u001B[49m\u001B[43m(\u001B[49m\u001B[43mbound_method\u001B[49m\u001B[43m,\u001B[49m\u001B[43m \u001B[49m\u001B[38;5;28;43mself\u001B[39;49m\u001B[43m,\u001B[49m\u001B[43m \u001B[49m\u001B[43margs\u001B[49m\u001B[43m,\u001B[49m\u001B[43m \u001B[49m\u001B[43mkwargs\u001B[49m\u001B[43m)\u001B[49m\n",
      "File \u001B[1;32m~\\AppData\\Local\\Programs\\Python\\Python39\\lib\\site-packages\\sonnet\\src\\base.py:272\u001B[0m, in \u001B[0;36mwrap_with_name_scope\u001B[1;34m(method, instance, args, kwargs)\u001B[0m\n\u001B[0;32m    267\u001B[0m   six\u001B[38;5;241m.\u001B[39mraise_from(exc_value, exc_value_from)\n\u001B[0;32m    269\u001B[0m \u001B[38;5;28;01mwith\u001B[39;00m module_name_scope:\n\u001B[0;32m    270\u001B[0m   \u001B[38;5;66;03m# snt.Module enters the module name scope for all methods. To disable this\u001B[39;00m\n\u001B[0;32m    271\u001B[0m   \u001B[38;5;66;03m# for a particular method annotate it with `@snt.no_name_scope`.\u001B[39;00m\n\u001B[1;32m--> 272\u001B[0m   \u001B[38;5;28;01mreturn\u001B[39;00m method(\u001B[38;5;241m*\u001B[39margs, \u001B[38;5;241m*\u001B[39m\u001B[38;5;241m*\u001B[39mkwargs)\n",
      "File \u001B[1;32m~\\AppData\\Local\\Programs\\Python\\Python39\\lib\\site-packages\\sonnet\\src\\linear.py:91\u001B[0m, in \u001B[0;36mLinear.__call__\u001B[1;34m(self, inputs)\u001B[0m\n\u001B[0;32m     88\u001B[0m \u001B[38;5;28;01mdef\u001B[39;00m \u001B[38;5;21m__call__\u001B[39m(\u001B[38;5;28mself\u001B[39m, inputs: tf\u001B[38;5;241m.\u001B[39mTensor) \u001B[38;5;241m-\u001B[39m\u001B[38;5;241m>\u001B[39m tf\u001B[38;5;241m.\u001B[39mTensor:\n\u001B[0;32m     89\u001B[0m   \u001B[38;5;28mself\u001B[39m\u001B[38;5;241m.\u001B[39m_initialize(inputs)\n\u001B[1;32m---> 91\u001B[0m   outputs \u001B[38;5;241m=\u001B[39m \u001B[43mtf\u001B[49m\u001B[38;5;241;43m.\u001B[39;49m\u001B[43mmatmul\u001B[49m\u001B[43m(\u001B[49m\u001B[43minputs\u001B[49m\u001B[43m,\u001B[49m\u001B[43m \u001B[49m\u001B[38;5;28;43mself\u001B[39;49m\u001B[38;5;241;43m.\u001B[39;49m\u001B[43mw\u001B[49m\u001B[43m)\u001B[49m\n\u001B[0;32m     92\u001B[0m   \u001B[38;5;28;01mif\u001B[39;00m \u001B[38;5;28mself\u001B[39m\u001B[38;5;241m.\u001B[39mwith_bias:\n\u001B[0;32m     93\u001B[0m     outputs \u001B[38;5;241m=\u001B[39m tf\u001B[38;5;241m.\u001B[39madd(outputs, \u001B[38;5;28mself\u001B[39m\u001B[38;5;241m.\u001B[39mb)\n",
      "File \u001B[1;32m~\\AppData\\Local\\Programs\\Python\\Python39\\lib\\site-packages\\tensorflow\\python\\util\\traceback_utils.py:153\u001B[0m, in \u001B[0;36mfilter_traceback.<locals>.error_handler\u001B[1;34m(*args, **kwargs)\u001B[0m\n\u001B[0;32m    151\u001B[0m \u001B[38;5;28;01mexcept\u001B[39;00m \u001B[38;5;167;01mException\u001B[39;00m \u001B[38;5;28;01mas\u001B[39;00m e:\n\u001B[0;32m    152\u001B[0m   filtered_tb \u001B[38;5;241m=\u001B[39m _process_traceback_frames(e\u001B[38;5;241m.\u001B[39m__traceback__)\n\u001B[1;32m--> 153\u001B[0m   \u001B[38;5;28;01mraise\u001B[39;00m e\u001B[38;5;241m.\u001B[39mwith_traceback(filtered_tb) \u001B[38;5;28;01mfrom\u001B[39;00m \u001B[38;5;28mNone\u001B[39m\n\u001B[0;32m    154\u001B[0m \u001B[38;5;28;01mfinally\u001B[39;00m:\n\u001B[0;32m    155\u001B[0m   \u001B[38;5;28;01mdel\u001B[39;00m filtered_tb\n",
      "File \u001B[1;32m~\\AppData\\Local\\Programs\\Python\\Python39\\lib\\site-packages\\tensorflow\\python\\framework\\ops.py:7186\u001B[0m, in \u001B[0;36mraise_from_not_ok_status\u001B[1;34m(e, name)\u001B[0m\n\u001B[0;32m   7184\u001B[0m \u001B[38;5;28;01mdef\u001B[39;00m \u001B[38;5;21mraise_from_not_ok_status\u001B[39m(e, name):\n\u001B[0;32m   7185\u001B[0m   e\u001B[38;5;241m.\u001B[39mmessage \u001B[38;5;241m+\u001B[39m\u001B[38;5;241m=\u001B[39m (\u001B[38;5;124m\"\u001B[39m\u001B[38;5;124m name: \u001B[39m\u001B[38;5;124m\"\u001B[39m \u001B[38;5;241m+\u001B[39m name \u001B[38;5;28;01mif\u001B[39;00m name \u001B[38;5;129;01mis\u001B[39;00m \u001B[38;5;129;01mnot\u001B[39;00m \u001B[38;5;28;01mNone\u001B[39;00m \u001B[38;5;28;01melse\u001B[39;00m \u001B[38;5;124m\"\u001B[39m\u001B[38;5;124m\"\u001B[39m)\n\u001B[1;32m-> 7186\u001B[0m   \u001B[38;5;28;01mraise\u001B[39;00m core\u001B[38;5;241m.\u001B[39m_status_to_exception(e) \u001B[38;5;28;01mfrom\u001B[39;00m \u001B[38;5;28mNone\u001B[39m\n",
      "\u001B[1;31mInvalidArgumentError\u001B[0m: In[0] and In[1] has different ndims: [5233,5] vs. [0] [Op:MatMul]"
     ]
    }
   ],
   "source": [
    "if latest is None and not isinstance(model, EncodeProcessDecode):\n",
    "    print(\"Acumulating\")\n",
    "    for i in range(1000):\n",
    "        data = itr.next()\n",
    "        grp = toGraphsTuple(data)\n",
    "        model.loss(grp, data)"
   ]
  },
  {
   "cell_type": "code",
   "execution_count": null,
   "metadata": {
    "executionInfo": {
     "elapsed": 2,
     "status": "ok",
     "timestamp": 1647242107299,
     "user": {
      "displayName": "david horsky",
      "photoUrl": "https://lh3.googleusercontent.com/a/default-user=s64",
      "userId": "15225206442244274917"
     },
     "user_tz": -60
    },
    "id": "zCL_h2riGcON"
   },
   "outputs": [],
   "source": [
    "colab_train = False\n",
    "start = 0\n",
    "sm_print = 500\n",
    "save_itr = 40000\n",
    "if not IN_COLAB or colab_train:\n",
    "    if latest is not None:\n",
    "        start = int(re.findall('\\d+$', latest)[0])\n",
    "    t = time.time()\n",
    "    print(\"training\")\n",
    "    sys.stdout.flush()\n",
    "    for i in range(start, int(1e7)):\n",
    "        a = itr.next()\n",
    "        m = update_step(a)\n",
    "        if i % sm_print == 0:\n",
    "            opt.learning_rate.assign(decayed_learning_rate(i))\n",
    "            print(\"i\", i, \"mse:\", m.numpy())\n",
    "            if i and i % save_itr == 0:\n",
    "                sys.stdout.flush()\n",
    "                chck.save(chck_root + chck_name)\n",
    "    print(time.time() - t)"
   ]
  },
  {
   "cell_type": "code",
   "execution_count": null,
   "metadata": {
    "executionInfo": {
     "elapsed": 2,
     "status": "ok",
     "timestamp": 1647242107701,
     "user": {
      "displayName": "david horsky",
      "photoUrl": "https://lh3.googleusercontent.com/a/default-user=s64",
      "userId": "15225206442244274917"
     },
     "user_tz": -60
    },
    "id": "n6-zse4oZlLr"
   },
   "outputs": [],
   "source": [
    "if \"m\" in locals():\n",
    "    m.numpy()"
   ]
  },
  {
   "cell_type": "markdown",
   "metadata": {
    "id": "2sdIk7J4Gn-Z"
   },
   "source": [
    "## Vizualization"
   ]
  },
  {
   "cell_type": "code",
   "execution_count": null,
   "metadata": {
    "executionInfo": {
     "elapsed": 2129,
     "status": "ok",
     "timestamp": 1647242109828,
     "user": {
      "displayName": "david horsky",
      "photoUrl": "https://lh3.googleusercontent.com/a/default-user=s64",
      "userId": "15225206442244274917"
     },
     "user_tz": -60
    },
    "id": "B7az1IQah3pZ"
   },
   "outputs": [],
   "source": [
    "dt2 = load_dataset(data_path, data_valid)\n",
    "dt2 = add_targets(dt2, [params['field']], add_history=params['history'])\n",
    "qq = iter(dt2).next()\n",
    "qqq = {}\n",
    "for i, j in qq.items():\n",
    "    qqq[i] = j[0]\n",
    "grp_ = toGraphsTuple(qqq)"
   ]
  },
  {
   "cell_type": "code",
   "execution_count": null,
   "metadata": {
    "executionInfo": {
     "elapsed": 6,
     "status": "ok",
     "timestamp": 1647242109828,
     "user": {
      "displayName": "david horsky",
      "photoUrl": "https://lh3.googleusercontent.com/a/default-user=s64",
      "userId": "15225206442244274917"
     },
     "user_tz": -60
    },
    "id": "EewpBxU7HoZI"
   },
   "outputs": [],
   "source": [
    "@tf.function\n",
    "def toGraphsTupleOld(d):\n",
    "    send, recive = triangles_to_edges(d['cells'])\n",
    "    rel_pos = (tf.gather(d['mesh_pos'], send) - tf.gather(d['mesh_pos'], recive))\n",
    "    nodes_unique = tf.unique_with_counts(tf.reshape(d[\"node_type\"], [-1]))\n",
    "    dd = {\n",
    "        #\"nodes\": tf.concat([d[\"velocity\"],d[\"pressure\"],d[\"density\"],tf.cast(d[\"node_type\"],tf.float32),d[\"mesh_pos\"]],1),\n",
    "        \"nodes\": tf.concat([d['velocity'], tf.one_hot(tf.reshape(d[\"node_type\"], [-1]), NodeTypeCnt, dtype=tf.float32)],\n",
    "                           1),  # on change update loss function ^\n",
    "        \"senders\": send,\n",
    "        \"receivers\": recive,\n",
    "        \"edges\": tf.concat([\n",
    "            rel_pos,\n",
    "            tf.norm(rel_pos, axis=-1, keepdims=True)], 1)\n",
    "    }\n",
    "    return utils_tf.data_dicts_to_graphs_tuple([dd])"
   ]
  },
  {
   "cell_type": "code",
   "execution_count": null,
   "metadata": {
    "executionInfo": {
     "elapsed": 6,
     "status": "ok",
     "timestamp": 1647242109828,
     "user": {
      "displayName": "david horsky",
      "photoUrl": "https://lh3.googleusercontent.com/a/default-user=s64",
      "userId": "15225206442244274917"
     },
     "user_tz": -60
    },
    "id": "W6HE1HO-paOC"
   },
   "outputs": [],
   "source": [
    "# fix mistake in data preparation\n",
    "if chck_root == \"models/new\":\n",
    "    grp_ = toGraphsTupleOld(qqq)"
   ]
  },
  {
   "cell_type": "code",
   "execution_count": null,
   "metadata": {
    "executionInfo": {
     "elapsed": 96947,
     "status": "ok",
     "timestamp": 1647242206770,
     "user": {
      "displayName": "david horsky",
      "photoUrl": "https://lh3.googleusercontent.com/a/default-user=s64",
      "userId": "15225206442244274917"
     },
     "user_tz": -60
    },
    "id": "iYsAa0I3E3E4"
   },
   "outputs": [],
   "source": [
    "res = [grp_, ]\n",
    "loss_mask = tf.logical_or(tf.equal(qqq['node_type'][:, 0], NodeType.NORMAL),\n",
    "                          tf.equal(qqq['node_type'][:, 0], NodeType.OUTFLOW))\n",
    "loss_mask = tf.reshape(tf.concat([loss_mask for _ in range(5)], -1), [-1, 5])\n",
    "for i in range(600):\n",
    "    grp2_ = model(grp_, False)\n",
    "    grp_ = grp_.replace(nodes=tf.where(loss_mask, grp2_.nodes, grp_.nodes))\n",
    "    res.append(grp_)"
   ]
  },
  {
   "cell_type": "code",
   "execution_count": null,
   "metadata": {
    "colab": {
     "base_uri": "https://localhost:8080/"
    },
    "executionInfo": {
     "elapsed": 22,
     "status": "ok",
     "timestamp": 1647242206773,
     "user": {
      "displayName": "david horsky",
      "photoUrl": "https://lh3.googleusercontent.com/a/default-user=s64",
      "userId": "15225206442244274917"
     },
     "user_tz": -60
    },
    "id": "yAvHsrlrNR8Y",
    "outputId": "643b53e7-624a-4156-e1d6-a869950a0e85"
   },
   "outputs": [],
   "source": [
    "grp_.nodes.shape, grp2_.nodes.shape, loss_mask.shape"
   ]
  },
  {
   "cell_type": "code",
   "execution_count": null,
   "metadata": {
    "executionInfo": {
     "elapsed": 17,
     "status": "ok",
     "timestamp": 1647242206774,
     "user": {
      "displayName": "david horsky",
      "photoUrl": "https://lh3.googleusercontent.com/a/default-user=s64",
      "userId": "15225206442244274917"
     },
     "user_tz": -60
    },
    "id": "D_x92ZzOSIFR"
   },
   "outputs": [],
   "source": [
    "from matplotlib import pyplot as plt\n",
    "from matplotlib.animation import FuncAnimation\n",
    "from matplotlib import tri as mtri"
   ]
  },
  {
   "cell_type": "code",
   "execution_count": null,
   "metadata": {
    "colab": {
     "base_uri": "https://localhost:8080/"
    },
    "executionInfo": {
     "elapsed": 17,
     "status": "ok",
     "timestamp": 1647242206775,
     "user": {
      "displayName": "david horsky",
      "photoUrl": "https://lh3.googleusercontent.com/a/default-user=s64",
      "userId": "15225206442244274917"
     },
     "user_tz": -60
    },
    "id": "sojXwyPSCjPn",
    "outputId": "625404d5-f3c7-4551-e885-ce1e7ac0d624"
   },
   "outputs": [],
   "source": [
    "res[0]"
   ]
  },
  {
   "cell_type": "code",
   "execution_count": null,
   "metadata": {
    "colab": {
     "base_uri": "https://localhost:8080/",
     "height": 1000,
     "output_embedded_package_id": "1-dlrhT5UQhOUwhdLU4hLeRyeGM_g8U31"
    },
    "id": "xD-mCoFaRV_r",
    "executionInfo": {
     "status": "ok",
     "timestamp": 1647242274542,
     "user_tz": -60,
     "elapsed": 67778,
     "user": {
      "displayName": "david horsky",
      "photoUrl": "https://lh3.googleusercontent.com/a/default-user=s64",
      "userId": "15225206442244274917"
     }
    },
    "outputId": "3989f300-bee4-4d08-b924-407373878c85"
   },
   "outputs": [],
   "source": [
    "fig, ax = plt.subplots(1, 1, figsize=(12, 8))\n",
    "skip = 5\n",
    "num_steps = len(res)\n",
    "num_frames = num_steps // skip\n",
    "# compute bounds\n",
    "bounds = []\n",
    "bb_min, bb_max = tf.reduce_min(qq['velocity'][:, 0]), tf.reduce_max(qq['velocity'][:, 0])\n",
    "\n",
    "\n",
    "def animate(num):\n",
    "    global t\n",
    "    step = (num * skip) % num_steps\n",
    "    traj = (num * skip) // num_steps\n",
    "    ax.cla()\n",
    "    ax.set_xlim(-1, 2)\n",
    "    ax.set_ylim(-1.5, 1.5)\n",
    "    ax.set_autoscale_on(False)\n",
    "    vmin, vmax = bb_min, bb_max\n",
    "    pos = qqq['mesh_pos']\n",
    "    faces = qqq['cells']\n",
    "    velocity = res[step].nodes[..., :2].numpy()\n",
    "    triang = mtri.Triangulation(pos[:, 0], pos[:, 1], faces)\n",
    "    t = ax.tripcolor(triang, velocity[:, 0], vmin=vmin, vmax=vmax)\n",
    "    ax.triplot(triang, 'ko-', ms=0.5, lw=0.3)\n",
    "    ax.set_title('Trajectory %d Step %d' % (traj, step))\n",
    "    return fig,\n",
    "\n",
    "\n",
    "animate(0)\n",
    "plt.colorbar(t)\n",
    "\n",
    "anim = FuncAnimation(fig, animate, frames=num_frames, interval=200)\n",
    "from IPython.display import HTML\n",
    "\n",
    "HTML(anim.to_html5_video())"
   ]
  },
  {
   "cell_type": "code",
   "execution_count": null,
   "metadata": {
    "colab": {
     "base_uri": "https://localhost:8080/",
     "height": 1000
    },
    "id": "xAk5i42t-uik",
    "executionInfo": {
     "status": "ok",
     "timestamp": 1647242331810,
     "user_tz": -60,
     "elapsed": 57287,
     "user": {
      "displayName": "david horsky",
      "photoUrl": "https://lh3.googleusercontent.com/a/default-user=s64",
      "userId": "15225206442244274917"
     }
    },
    "outputId": "5062cd03-e1b8-49f7-e21f-941409a1eb29"
   },
   "outputs": [],
   "source": [
    "fig, ax = plt.subplots(1, 1, figsize=(12, 8))\n",
    "skip = 5\n",
    "num_steps = len(res)\n",
    "num_frames = num_steps // skip\n",
    "# compute bounds\n",
    "bounds = []\n",
    "\n",
    "bb_min, bb_max = tf.reduce_min(qq['velocity'][:, 0]), tf.reduce_max(qq['velocity'][:, 0])\n",
    "\n",
    "\n",
    "def animate(num):\n",
    "    global t\n",
    "    step = (num * skip) % num_steps\n",
    "    traj = (num * skip) // num_steps\n",
    "    ax.cla()\n",
    "    ax.set_xlim(-1, 2)\n",
    "    ax.set_ylim(-1.5, 1.5)\n",
    "    ax.set_autoscale_on(False)\n",
    "    vmin, vmax = bb_min, bb_max\n",
    "    pos = qq['mesh_pos'][0]\n",
    "    faces = qq['cells'][0]\n",
    "    velocity = qq['velocity'][step]\n",
    "    triang = mtri.Triangulation(pos[:, 0], pos[:, 1], faces)\n",
    "    t = ax.tripcolor(triang, velocity[:, 0], vmin=vmin, vmax=vmax)\n",
    "    ax.triplot(triang, 'ko-', ms=0.5, lw=0.3)\n",
    "    ax.set_title('Trajectory %d Step %d' % (traj, step))\n",
    "    return fig,\n",
    "\n",
    "\n",
    "animate(0)\n",
    "plt.colorbar(t)\n",
    "\n",
    "anim = FuncAnimation(fig, animate, frames=num_frames, interval=200)\n",
    "from IPython.display import HTML\n",
    "\n",
    "HTML(anim.to_html5_video())"
   ]
  },
  {
   "cell_type": "code",
   "source": [
    "fig, ax = plt.subplots(1, 1, figsize=(12, 8))\n",
    "skip = 5\n",
    "num_steps = len(res)\n",
    "num_frames = num_steps // skip\n",
    "# compute bounds\n",
    "bounds = []\n",
    "\n",
    "bb_min, bb_max = 0, tf.reduce_max(qq['velocity'][:, 0])\n",
    "\n",
    "\n",
    "def animate(num):\n",
    "    global t\n",
    "    step = (num * skip) % num_steps\n",
    "    traj = (num * skip) // num_steps\n",
    "    ax.cla()\n",
    "    ax.set_xlim(-1, 2)\n",
    "    ax.set_ylim(-1.5, 1.5)\n",
    "    ax.set_autoscale_on(False)\n",
    "    vmin, vmax = bb_min, bb_max\n",
    "    pos = qq['mesh_pos'][0]\n",
    "    faces = qq['cells'][0]\n",
    "    velocity = tf.math.abs(qq['velocity'][step] - res[step].nodes[..., :2])\n",
    "    triang = mtri.Triangulation(pos[:, 0], pos[:, 1], faces)\n",
    "    t = ax.tripcolor(triang, velocity[:, 0], vmin=vmin, vmax=vmax, cmap='Reds')\n",
    "    ax.triplot(triang, 'ko-', ms=0.5, lw=0.3)\n",
    "    ax.set_title('Trajectory %d Step %d' % (traj, step))\n",
    "    return fig,\n",
    "\n",
    "\n",
    "animate(0)\n",
    "plt.colorbar(t)\n",
    "\n",
    "anim = FuncAnimation(fig, animate, frames=num_frames, interval=200)\n",
    "from IPython.display import HTML\n",
    "\n",
    "HTML(anim.to_html5_video())"
   ],
   "metadata": {
    "id": "k_531TOhTPL1"
   },
   "execution_count": null,
   "outputs": []
  },
  {
   "cell_type": "code",
   "execution_count": null,
   "metadata": {
    "colab": {
     "base_uri": "https://localhost:8080/"
    },
    "id": "RUC2kys8BVfb",
    "executionInfo": {
     "status": "ok",
     "timestamp": 1647242331811,
     "user_tz": -60,
     "elapsed": 38,
     "user": {
      "displayName": "david horsky",
      "photoUrl": "https://lh3.googleusercontent.com/a/default-user=s64",
      "userId": "15225206442244274917"
     }
    },
    "outputId": "485c8fb2-2d80-4cf9-add9-5a183452a910"
   },
   "outputs": [],
   "source": [
    "bb_min, bb_max"
   ]
  },
  {
   "cell_type": "code",
   "execution_count": null,
   "metadata": {
    "colab": {
     "base_uri": "https://localhost:8080/"
    },
    "id": "D-1F-HpWKSJK",
    "executionInfo": {
     "status": "ok",
     "timestamp": 1647242331812,
     "user_tz": -60,
     "elapsed": 32,
     "user": {
      "displayName": "david horsky",
      "photoUrl": "https://lh3.googleusercontent.com/a/default-user=s64",
      "userId": "15225206442244274917"
     }
    },
    "outputId": "7fab59e7-2f6b-4916-a527-114dc4cc3aca"
   },
   "outputs": [],
   "source": [
    "model._node_norm._std_with_epsilon(), model._node_norm._mean()"
   ]
  },
  {
   "cell_type": "code",
   "execution_count": null,
   "metadata": {
    "colab": {
     "base_uri": "https://localhost:8080/"
    },
    "id": "kDos9sgYNAWO",
    "executionInfo": {
     "status": "ok",
     "timestamp": 1647242331813,
     "user_tz": -60,
     "elapsed": 26,
     "user": {
      "displayName": "david horsky",
      "photoUrl": "https://lh3.googleusercontent.com/a/default-user=s64",
      "userId": "15225206442244274917"
     }
    },
    "outputId": "c961c79b-6b76-4dfe-bccc-801b9d612e81"
   },
   "outputs": [],
   "source": [
    "qq['target|velocity'].shape, qq['velocity'].shape"
   ]
  },
  {
   "cell_type": "code",
   "execution_count": null,
   "metadata": {
    "colab": {
     "base_uri": "https://localhost:8080/"
    },
    "id": "Te9-5ridMn9J",
    "executionInfo": {
     "status": "ok",
     "timestamp": 1647242331813,
     "user_tz": -60,
     "elapsed": 19,
     "user": {
      "displayName": "david horsky",
      "photoUrl": "https://lh3.googleusercontent.com/a/default-user=s64",
      "userId": "15225206442244274917"
     }
    },
    "outputId": "57c7a906-b6fa-4c16-9ee2-a1fddad819fe"
   },
   "outputs": [],
   "source": [
    "r = tf.reduce_sum((qq['velocity'] - qq['target|velocity']) ** 2)\n",
    "r"
   ]
  },
  {
   "cell_type": "code",
   "execution_count": null,
   "metadata": {
    "id": "Z54kK29oQqSF",
    "executionInfo": {
     "status": "ok",
     "timestamp": 1647242332184,
     "user_tz": -60,
     "elapsed": 383,
     "user": {
      "displayName": "david horsky",
      "photoUrl": "https://lh3.googleusercontent.com/a/default-user=s64",
      "userId": "15225206442244274917"
     }
    }
   },
   "outputs": [],
   "source": [
    "tt = [{i: qq[i][x] for i in qq.keys()} for x in range(599)]"
   ]
  },
  {
   "cell_type": "code",
   "execution_count": null,
   "metadata": {
    "id": "m2Doz88iMIcF",
    "executionInfo": {
     "status": "ok",
     "timestamp": 1647242441326,
     "user_tz": -60,
     "elapsed": 109147,
     "user": {
      "displayName": "david horsky",
      "photoUrl": "https://lh3.googleusercontent.com/a/default-user=s64",
      "userId": "15225206442244274917"
     }
    }
   },
   "outputs": [],
   "source": [
    "lss = []\n",
    "for i in tt:\n",
    "    lss.append(model.loss(toGraphsTuple(i), i))"
   ]
  },
  {
   "cell_type": "code",
   "execution_count": null,
   "metadata": {
    "id": "r-WgXhS0PoJ2",
    "executionInfo": {
     "status": "ok",
     "timestamp": 1647242441326,
     "user_tz": -60,
     "elapsed": 4,
     "user": {
      "displayName": "david horsky",
      "photoUrl": "https://lh3.googleusercontent.com/a/default-user=s64",
      "userId": "15225206442244274917"
     }
    }
   },
   "outputs": [],
   "source": [
    "lss = [x.numpy() for x in lss]"
   ]
  },
  {
   "cell_type": "code",
   "execution_count": null,
   "metadata": {
    "id": "TPMBBA--UGY5",
    "colab": {
     "base_uri": "https://localhost:8080/",
     "height": 282
    },
    "executionInfo": {
     "status": "ok",
     "timestamp": 1647242647271,
     "user_tz": -60,
     "elapsed": 859,
     "user": {
      "displayName": "david horsky",
      "photoUrl": "https://lh3.googleusercontent.com/a/default-user=s64",
      "userId": "15225206442244274917"
     }
    },
    "outputId": "3b4eb4ca-fb87-4457-c96d-a39a503a1821"
   },
   "outputs": [],
   "source": [
    "plt.plot(lss)"
   ]
  },
  {
   "cell_type": "code",
   "execution_count": null,
   "metadata": {
    "id": "4Iw9fT7tSHry",
    "colab": {
     "base_uri": "https://localhost:8080/"
    },
    "executionInfo": {
     "status": "ok",
     "timestamp": 1647242441907,
     "user_tz": -60,
     "elapsed": 10,
     "user": {
      "displayName": "david horsky",
      "photoUrl": "https://lh3.googleusercontent.com/a/default-user=s64",
      "userId": "15225206442244274917"
     }
    },
    "outputId": "b0f75721-630d-4d76-ef7d-324660501d44"
   },
   "outputs": [],
   "source": [
    "1e7 / (1000 * 600)"
   ]
  },
  {
   "cell_type": "code",
   "execution_count": null,
   "metadata": {
    "id": "nO_jH39ETn35",
    "colab": {
     "base_uri": "https://localhost:8080/"
    },
    "executionInfo": {
     "status": "ok",
     "timestamp": 1647242441907,
     "user_tz": -60,
     "elapsed": 6,
     "user": {
      "displayName": "david horsky",
      "photoUrl": "https://lh3.googleusercontent.com/a/default-user=s64",
      "userId": "15225206442244274917"
     }
    },
    "outputId": "743458b3-c6c5-438b-de6b-f3a1c5b46ecd"
   },
   "outputs": [],
   "source": [
    "ee = [x.shape.as_list() for x in model.trainable_variables]\n",
    "sum([(y[0] if len(y) == 1 else y[0] * y[1]) for y in ee])"
   ]
  },
  {
   "cell_type": "code",
   "execution_count": null,
   "metadata": {
    "id": "p1KK9yuhWwXG",
    "executionInfo": {
     "status": "ok",
     "timestamp": 1647242441907,
     "user_tz": -60,
     "elapsed": 5,
     "user": {
      "displayName": "david horsky",
      "photoUrl": "https://lh3.googleusercontent.com/a/default-user=s64",
      "userId": "15225206442244274917"
     }
    }
   },
   "outputs": [],
   "source": [
    ""
   ]
  }
 ],
 "metadata": {
  "accelerator": "GPU",
  "colab": {
   "collapsed_sections": [],
   "name": "graph_lib.ipynb",
   "provenance": []
  },
  "kernelspec": {
   "display_name": "Python 3",
   "name": "python3"
  },
  "language_info": {
   "name": "python"
  }
 },
 "nbformat": 4,
 "nbformat_minor": 0
}