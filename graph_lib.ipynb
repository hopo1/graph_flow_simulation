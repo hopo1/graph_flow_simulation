{
 "cells": [
  {
   "cell_type": "markdown",
   "metadata": {
    "id": "9REjiR7FxLky"
   },
   "source": [
    "## Setup"
   ]
  },
  {
   "cell_type": "code",
   "execution_count": 17,
   "metadata": {
    "id": "9uKD3smEvSec",
    "executionInfo": {
     "status": "ok",
     "timestamp": 1646864300050,
     "user_tz": -60,
     "elapsed": 14,
     "user": {
      "displayName": "david horsky",
      "photoUrl": "https://lh3.googleusercontent.com/a/default-user=s64",
      "userId": "15225206442244274917"
     }
    }
   },
   "outputs": [],
   "source": [
    "import os"
   ]
  },
  {
   "cell_type": "code",
   "source": [
    "try:\n",
    "    import google.colab\n",
    "\n",
    "    IN_COLAB = True\n",
    "except:\n",
    "    IN_COLAB = False\n",
    "print(IN_COLAB)"
   ],
   "metadata": {
    "colab": {
     "base_uri": "https://localhost:8080/"
    },
    "id": "SRn5zviK9mab",
    "executionInfo": {
     "status": "ok",
     "timestamp": 1646864300051,
     "user_tz": -60,
     "elapsed": 13,
     "user": {
      "displayName": "david horsky",
      "photoUrl": "https://lh3.googleusercontent.com/a/default-user=s64",
      "userId": "15225206442244274917"
     }
    },
    "outputId": "af7da655-ac2f-4847-a738-791145f4c096"
   },
   "execution_count": 18,
   "outputs": [
    {
     "name": "stdout",
     "output_type": "stream",
     "text": [
      "False\n"
     ]
    }
   ]
  },
  {
   "cell_type": "code",
   "source": [
    "!pip install graph_nets  dm-sonnet tensorflow_probability"
   ],
   "metadata": {
    "id": "F8Gbla5EAnuT",
    "executionInfo": {
     "status": "ok",
     "timestamp": 1646864308529,
     "user_tz": -60,
     "elapsed": 8178,
     "user": {
      "displayName": "david horsky",
      "photoUrl": "https://lh3.googleusercontent.com/a/default-user=s64",
      "userId": "15225206442244274917"
     }
    },
    "colab": {
     "base_uri": "https://localhost:8080/"
    },
    "outputId": "bbcfcee8-87a9-4ae2-c966-32d5ff4f0e63"
   },
   "execution_count": 19,
   "outputs": [
    {
     "name": "stdout",
     "output_type": "stream",
     "text": [
      "Requirement already satisfied: graph_nets in c:\\users\\david\\appdata\\local\\programs\\python\\python39\\lib\\site-packages (1.1.0)\n",
      "Requirement already satisfied: dm-sonnet in c:\\users\\david\\appdata\\local\\programs\\python\\python39\\lib\\site-packages (2.0.0)\n",
      "Requirement already satisfied: tensorflow_probability in c:\\users\\david\\appdata\\local\\programs\\python\\python39\\lib\\site-packages (0.16.0)\n",
      "Requirement already satisfied: networkx in c:\\users\\david\\appdata\\local\\programs\\python\\python39\\lib\\site-packages (from graph_nets) (2.6.3)\n",
      "Requirement already satisfied: absl-py in c:\\users\\david\\appdata\\local\\programs\\python\\python39\\lib\\site-packages (from graph_nets) (1.0.0)\n",
      "Requirement already satisfied: future in c:\\users\\david\\appdata\\local\\programs\\python\\python39\\lib\\site-packages (from graph_nets) (0.18.2)\n",
      "Requirement already satisfied: dm-tree in c:\\users\\david\\appdata\\local\\programs\\python\\python39\\lib\\site-packages (from graph_nets) (0.1.6)\n",
      "Requirement already satisfied: setuptools in c:\\users\\david\\appdata\\local\\programs\\python\\python39\\lib\\site-packages (from graph_nets) (57.4.0)\n",
      "Requirement already satisfied: six in c:\\users\\david\\appdata\\local\\programs\\python\\python39\\lib\\site-packages (from graph_nets) (1.16.0)\n",
      "Requirement already satisfied: numpy in c:\\users\\david\\appdata\\local\\programs\\python\\python39\\lib\\site-packages (from graph_nets) (1.22.2)\n",
      "Requirement already satisfied: wrapt>=1.11.1 in c:\\users\\david\\appdata\\local\\programs\\python\\python39\\lib\\site-packages (from dm-sonnet) (1.13.3)\n",
      "Requirement already satisfied: tabulate>=0.7.5 in c:\\users\\david\\appdata\\local\\programs\\python\\python39\\lib\\site-packages (from dm-sonnet) (0.8.9)\n",
      "Requirement already satisfied: decorator in c:\\users\\david\\appdata\\local\\programs\\python\\python39\\lib\\site-packages (from tensorflow_probability) (5.1.1)\n",
      "Requirement already satisfied: gast>=0.3.2 in c:\\users\\david\\appdata\\local\\programs\\python\\python39\\lib\\site-packages (from tensorflow_probability) (0.5.3)\n",
      "Requirement already satisfied: cloudpickle>=1.3 in c:\\users\\david\\appdata\\local\\programs\\python\\python39\\lib\\site-packages (from tensorflow_probability) (2.0.0)\n"
     ]
    },
    {
     "name": "stderr",
     "output_type": "stream",
     "text": [
      "WARNING: You are using pip version 21.2.3; however, version 22.0.4 is available.\n",
      "You should consider upgrading via the 'C:\\Users\\david\\AppData\\Local\\Programs\\Python\\Python39\\python.exe -m pip install --upgrade pip' command.\n"
     ]
    }
   ]
  },
  {
   "cell_type": "code",
   "execution_count": 20,
   "metadata": {
    "executionInfo": {
     "elapsed": 25443,
     "status": "ok",
     "timestamp": 1646864333960,
     "user": {
      "displayName": "david horsky",
      "photoUrl": "https://lh3.googleusercontent.com/a/default-user=s64",
      "userId": "15225206442244274917"
     },
     "user_tz": -60
    },
    "id": "dmcb7EBvvoyF",
    "colab": {
     "base_uri": "https://localhost:8080/"
    },
    "outputId": "7dabec0a-82ad-40e2-8243-d10254c54491"
   },
   "outputs": [],
   "source": [
    "if IN_COLAB and 'drive' not in os.listdir(\"/content\"):\n",
    "    from google.colab import drive\n",
    "\n",
    "    drive.mount('/content/drive')"
   ]
  },
  {
   "cell_type": "code",
   "source": [
    "if IN_COLAB:\n",
    "    os.chdir('/content/drive/MyDrive/bakalarka')"
   ],
   "metadata": {
    "id": "kSW2Lvxg86fC",
    "executionInfo": {
     "status": "ok",
     "timestamp": 1646864333961,
     "user_tz": -60,
     "elapsed": 7,
     "user": {
      "displayName": "david horsky",
      "photoUrl": "https://lh3.googleusercontent.com/a/default-user=s64",
      "userId": "15225206442244274917"
     }
    }
   },
   "execution_count": 21,
   "outputs": []
  },
  {
   "cell_type": "code",
   "execution_count": 22,
   "metadata": {
    "id": "VciOHpBLwvLT",
    "executionInfo": {
     "status": "ok",
     "timestamp": 1646864338698,
     "user_tz": -60,
     "elapsed": 4742,
     "user": {
      "displayName": "david horsky",
      "photoUrl": "https://lh3.googleusercontent.com/a/default-user=s64",
      "userId": "15225206442244274917"
     }
    }
   },
   "outputs": [],
   "source": [
    "import tensorflow as tf\n",
    "import matplotlib.pyplot as plt\n",
    "import sonnet as snt\n",
    "import networkx as nx\n",
    "import numpy as np\n",
    "\n",
    "import functools\n",
    "import json\n",
    "import os\n",
    "import enum\n",
    "import collections\n",
    "import time\n",
    "import sys\n",
    "import re\n",
    "\n",
    "from graph_nets import blocks\n",
    "\n",
    "from graph_nets import graphs\n",
    "from graph_nets import modules\n",
    "from graph_nets import utils_np\n",
    "from graph_nets import utils_tf\n"
   ]
  },
  {
   "cell_type": "code",
   "execution_count": 23,
   "metadata": {
    "id": "FaXyDwZGx59F",
    "executionInfo": {
     "status": "ok",
     "timestamp": 1646864338699,
     "user_tz": -60,
     "elapsed": 11,
     "user": {
      "displayName": "david horsky",
      "photoUrl": "https://lh3.googleusercontent.com/a/default-user=s64",
      "userId": "15225206442244274917"
     }
    }
   },
   "outputs": [],
   "source": [
    "params = dict(noise=0.02, gamma=1.0, field='velocity', history=False,\n",
    "              size=2, batch=2)"
   ]
  },
  {
   "cell_type": "code",
   "execution_count": 24,
   "metadata": {
    "id": "_na6wHrgyG8F",
    "executionInfo": {
     "status": "ok",
     "timestamp": 1646864339316,
     "user_tz": -60,
     "elapsed": 627,
     "user": {
      "displayName": "david horsky",
      "photoUrl": "https://lh3.googleusercontent.com/a/default-user=s64",
      "userId": "15225206442244274917"
     }
    }
   },
   "outputs": [],
   "source": [
    "from common import NodeType"
   ]
  },
  {
   "cell_type": "markdown",
   "metadata": {
    "id": "tVLsMSLjxSQz"
   },
   "source": [
    "## Data Loading"
   ]
  },
  {
   "cell_type": "code",
   "execution_count": 25,
   "metadata": {
    "id": "FYCTQTvKxrOv",
    "executionInfo": {
     "status": "ok",
     "timestamp": 1646864339317,
     "user_tz": -60,
     "elapsed": 16,
     "user": {
      "displayName": "david horsky",
      "photoUrl": "https://lh3.googleusercontent.com/a/default-user=s64",
      "userId": "15225206442244274917"
     }
    }
   },
   "outputs": [],
   "source": [
    "data_path = 'data/airfoil'\n",
    "data_train = 'small' if IN_COLAB else 'train'\n",
    "data_valid = 'small' if IN_COLAB else 'valid'\n",
    "data_test = 'small' if IN_COLAB else 'test'"
   ]
  },
  {
   "cell_type": "code",
   "execution_count": 26,
   "metadata": {
    "id": "tTyok3lVxQvs",
    "executionInfo": {
     "status": "ok",
     "timestamp": 1646864339318,
     "user_tz": -60,
     "elapsed": 14,
     "user": {
      "displayName": "david horsky",
      "photoUrl": "https://lh3.googleusercontent.com/a/default-user=s64",
      "userId": "15225206442244274917"
     }
    }
   },
   "outputs": [],
   "source": [
    "# todo add citation\n",
    "def _parse(proto, meta):\n",
    "    \"\"\"Parses a trajectory from tf.Example.\"\"\"\n",
    "    feature_lists = {k: tf.io.VarLenFeature(tf.string)\n",
    "                     for k in meta['field_names']}\n",
    "    features = tf.io.parse_single_example(proto, feature_lists)\n",
    "    out = {}\n",
    "    for key, field in meta['features'].items():\n",
    "        data = tf.io.decode_raw(features[key].values, getattr(tf, field['dtype']))\n",
    "        data = tf.reshape(data, field['shape'])\n",
    "        if field['type'] == 'static':\n",
    "            data = tf.tile(data, [meta['trajectory_length'], 1, 1])\n",
    "        elif field['type'] == 'dynamic_varlen':\n",
    "            length = tf.io.decode_raw(features['length_' + key].values, tf.int32)\n",
    "            length = tf.reshape(length, [-1])\n",
    "            data = tf.RaggedTensor.from_row_lengths(data, row_lengths=length)\n",
    "        elif field['type'] != 'dynamic':\n",
    "            raise ValueError('invalid data format')\n",
    "        out[key] = data\n",
    "    return out"
   ]
  },
  {
   "cell_type": "code",
   "execution_count": 27,
   "metadata": {
    "id": "ZbaDI9QQxdT6",
    "executionInfo": {
     "status": "ok",
     "timestamp": 1646864339319,
     "user_tz": -60,
     "elapsed": 14,
     "user": {
      "displayName": "david horsky",
      "photoUrl": "https://lh3.googleusercontent.com/a/default-user=s64",
      "userId": "15225206442244274917"
     }
    }
   },
   "outputs": [],
   "source": [
    "# todo add citation\n",
    "def load_dataset(path, split):\n",
    "    \"\"\"Load dataset.\"\"\"\n",
    "    with open(os.path.join(path, 'meta.json'), 'r') as fp:\n",
    "        meta = json.loads(fp.read())\n",
    "    ds = tf.data.TFRecordDataset(os.path.join(path, split + '.tfrecord'))\n",
    "    ds = ds.map(functools.partial(_parse, meta=meta), num_parallel_calls=8)\n",
    "    ds = ds.prefetch(1)\n",
    "    return ds"
   ]
  },
  {
   "cell_type": "code",
   "execution_count": 28,
   "metadata": {
    "id": "8bfwNXoAxgDJ",
    "executionInfo": {
     "status": "ok",
     "timestamp": 1646864339319,
     "user_tz": -60,
     "elapsed": 13,
     "user": {
      "displayName": "david horsky",
      "photoUrl": "https://lh3.googleusercontent.com/a/default-user=s64",
      "userId": "15225206442244274917"
     }
    }
   },
   "outputs": [],
   "source": [
    "# todo add citation\n",
    "def split_and_preprocess(ds, noise_field, noise_scale, noise_gamma):\n",
    "    \"\"\"Splits trajectories into frames, and adds training noise.\"\"\"\n",
    "\n",
    "    def add_noise(frame):\n",
    "        noise = tf.random.normal(tf.shape(frame[noise_field]),\n",
    "                                 stddev=noise_scale, dtype=tf.float32)\n",
    "        # don't apply noise to boundary nodes\n",
    "        mask = tf.equal(frame['node_type'], NodeType.NORMAL)\n",
    "        noise = tf.where(mask, noise, tf.zeros_like(noise))\n",
    "        frame[noise_field] += noise\n",
    "        frame['target|' + noise_field] += (1.0 - noise_gamma) * noise\n",
    "        return frame\n",
    "\n",
    "    ds = ds.flat_map(tf.data.Dataset.from_tensor_slices)\n",
    "    ds = ds.map(add_noise, num_parallel_calls=8)\n",
    "    ds = ds.shuffle(10000)\n",
    "    ds = ds.repeat(None)\n",
    "    return ds.prefetch(10)"
   ]
  },
  {
   "cell_type": "code",
   "execution_count": 29,
   "metadata": {
    "id": "qJI-R_UmxiD-",
    "executionInfo": {
     "status": "ok",
     "timestamp": 1646864339320,
     "user_tz": -60,
     "elapsed": 13,
     "user": {
      "displayName": "david horsky",
      "photoUrl": "https://lh3.googleusercontent.com/a/default-user=s64",
      "userId": "15225206442244274917"
     }
    }
   },
   "outputs": [],
   "source": [
    "# todo add citation\n",
    "def add_targets(ds, fields, add_history):\n",
    "    \"\"\"Adds target and optionally history fields to dataframe.\"\"\"\n",
    "\n",
    "    def fn(trajectory):\n",
    "        out = {}\n",
    "        for key, val in trajectory.items():\n",
    "            out[key] = val[1:-1]\n",
    "            if key in fields:\n",
    "                if add_history:\n",
    "                    out['prev|' + key] = val[0:-2]\n",
    "                out['target|' + key] = val[2:]\n",
    "        return out\n",
    "\n",
    "    return ds.map(fn, num_parallel_calls=8)"
   ]
  },
  {
   "cell_type": "code",
   "execution_count": 30,
   "metadata": {
    "id": "OHrQFyOExkBA",
    "executionInfo": {
     "status": "ok",
     "timestamp": 1646864341891,
     "user_tz": -60,
     "elapsed": 2583,
     "user": {
      "displayName": "david horsky",
      "photoUrl": "https://lh3.googleusercontent.com/a/default-user=s64",
      "userId": "15225206442244274917"
     }
    }
   },
   "outputs": [],
   "source": [
    "ds = load_dataset(data_path, data_train)\n",
    "ds = add_targets(ds, [params['field']], add_history=params['history'])"
   ]
  },
  {
   "cell_type": "code",
   "execution_count": 31,
   "metadata": {
    "id": "lExclsuSxm6J",
    "executionInfo": {
     "status": "ok",
     "timestamp": 1646864341892,
     "user_tz": -60,
     "elapsed": 10,
     "user": {
      "displayName": "david horsky",
      "photoUrl": "https://lh3.googleusercontent.com/a/default-user=s64",
      "userId": "15225206442244274917"
     }
    }
   },
   "outputs": [],
   "source": [
    "ds = split_and_preprocess(ds, noise_field=params['field'],\n",
    "                          noise_scale=params['noise'],\n",
    "                          noise_gamma=params['gamma'])"
   ]
  },
  {
   "cell_type": "markdown",
   "metadata": {
    "id": "AXfLv7BAFg02"
   },
   "source": [
    "## Prepare for learning"
   ]
  },
  {
   "cell_type": "code",
   "execution_count": 32,
   "metadata": {
    "id": "C1OvpwV4ymTh",
    "executionInfo": {
     "status": "ok",
     "timestamp": 1646864364337,
     "user_tz": -60,
     "elapsed": 22454,
     "user": {
      "displayName": "david horsky",
      "photoUrl": "https://lh3.googleusercontent.com/a/default-user=s64",
      "userId": "15225206442244274917"
     }
    }
   },
   "outputs": [],
   "source": [
    "itr = iter(ds)\n",
    "d = itr.next()"
   ]
  },
  {
   "cell_type": "code",
   "execution_count": 33,
   "metadata": {
    "id": "GwjYeXtB1Im7",
    "executionInfo": {
     "status": "ok",
     "timestamp": 1646864364338,
     "user_tz": -60,
     "elapsed": 18,
     "user": {
      "displayName": "david horsky",
      "photoUrl": "https://lh3.googleusercontent.com/a/default-user=s64",
      "userId": "15225206442244274917"
     }
    }
   },
   "outputs": [],
   "source": [
    "def triangles_to_edges(faces):\n",
    "    \"\"\"Computes mesh edges from triangles.\"\"\"\n",
    "    # collect edges from triangles\n",
    "    edges = tf.concat([faces[:, 0:2],\n",
    "                       faces[:, 1:3],\n",
    "                       tf.stack([faces[:, 2], faces[:, 0]], axis=1)], axis=0)\n",
    "    # those edges are sometimes duplicated (within the mesh) and sometimes\n",
    "    # single (at the mesh boundary).\n",
    "    # sort & pack edges as single tf.int64\n",
    "    receivers = tf.reduce_min(edges, axis=1)\n",
    "    senders = tf.reduce_max(edges, axis=1)\n",
    "    packed_edges = tf.bitcast(tf.stack([senders, receivers], axis=1), tf.int64)\n",
    "    # remove duplicates and unpack\n",
    "    unique_edges = tf.bitcast(tf.unique(packed_edges)[0], tf.int32)\n",
    "    senders, receivers = tf.unstack(unique_edges, axis=1)\n",
    "    # create two-way connectivity\n",
    "    return (tf.concat([senders, receivers], axis=0),\n",
    "            tf.concat([receivers, senders], axis=0))\n"
   ]
  },
  {
   "cell_type": "code",
   "execution_count": 34,
   "metadata": {
    "id": "Un6sPvfHEmsi",
    "executionInfo": {
     "status": "ok",
     "timestamp": 1646864364338,
     "user_tz": -60,
     "elapsed": 16,
     "user": {
      "displayName": "david horsky",
      "photoUrl": "https://lh3.googleusercontent.com/a/default-user=s64",
      "userId": "15225206442244274917"
     }
    }
   },
   "outputs": [],
   "source": [
    "NodeTypeCnt = tf.unique(tf.reshape(d['node_type'], d['node_type'].shape[:1])).y.shape[0]"
   ]
  },
  {
   "cell_type": "code",
   "execution_count": 35,
   "metadata": {
    "id": "BcNR7mtkyTkF",
    "executionInfo": {
     "status": "ok",
     "timestamp": 1646864747399,
     "user_tz": -60,
     "elapsed": 1501,
     "user": {
      "displayName": "david horsky",
      "photoUrl": "https://lh3.googleusercontent.com/a/default-user=s64",
      "userId": "15225206442244274917"
     }
    }
   },
   "outputs": [],
   "source": [
    "@tf.function\n",
    "def toGraphsTuple(d):\n",
    "    send, recive = triangles_to_edges(d['cells'])\n",
    "    rel_pos = (tf.gather(d['mesh_pos'], send) - tf.gather(d['mesh_pos'], recive))\n",
    "    nodes_unique = tf.unique_with_counts(tf.reshape(d[\"node_type\"], [-1]))\n",
    "    dd = {\n",
    "        #\"nodes\": tf.concat([d[\"velocity\"],d[\"pressure\"],d[\"density\"],tf.cast(d[\"node_type\"],tf.float32),d[\"mesh_pos\"]],1),\n",
    "        \"nodes\": tf.concat([d['velocity'], tf.one_hot(nodes_unique.idx, NodeTypeCnt, dtype=tf.float32)], 1),\n",
    "        # on change update loss function ^\n",
    "        \"senders\": send,\n",
    "        \"receivers\": recive,\n",
    "        \"edges\": tf.concat([\n",
    "            rel_pos,\n",
    "            tf.norm(rel_pos, axis=-1, keepdims=True)], 1)\n",
    "    }\n",
    "    return utils_tf.data_dicts_to_graphs_tuple([dd])"
   ]
  },
  {
   "cell_type": "code",
   "execution_count": 36,
   "metadata": {
    "id": "7eQI58ojIgV9",
    "executionInfo": {
     "status": "ok",
     "timestamp": 1646864749804,
     "user_tz": -60,
     "elapsed": 329,
     "user": {
      "displayName": "david horsky",
      "photoUrl": "https://lh3.googleusercontent.com/a/default-user=s64",
      "userId": "15225206442244274917"
     }
    }
   },
   "outputs": [],
   "source": [
    "dd = toGraphsTuple(d)\n",
    "LINEAR_FEATURES = dd.nodes.shape[1] - NodeTypeCnt"
   ]
  },
  {
   "cell_type": "code",
   "source": [
    "dd"
   ],
   "metadata": {
    "colab": {
     "base_uri": "https://localhost:8080/"
    },
    "id": "P2bzriH6yeV5",
    "executionInfo": {
     "status": "ok",
     "timestamp": 1646864794627,
     "user_tz": -60,
     "elapsed": 328,
     "user": {
      "displayName": "david horsky",
      "photoUrl": "https://lh3.googleusercontent.com/a/default-user=s64",
      "userId": "15225206442244274917"
     }
    },
    "outputId": "e7c2ebea-b9e9-4174-f5be-85c0e531203b"
   },
   "execution_count": 37,
   "outputs": [
    {
     "data": {
      "text/plain": "GraphsTuple(nodes=<tf.Tensor: shape=(5233, 5), dtype=float32, numpy=\narray([[64.53682  ,  7.9429116,  1.       ,  0.       ,  0.       ],\n       [72.39651  , 10.222095 ,  1.       ,  0.       ,  0.       ],\n       [76.517456 , 10.985026 ,  1.       ,  0.       ,  0.       ],\n       ...,\n       [93.28864  , 27.852001 ,  0.       ,  0.       ,  1.       ],\n       [93.04091  , 27.379671 ,  0.       ,  0.       ,  1.       ],\n       [93.110695 , 27.743828 ,  0.       ,  0.       ,  1.       ]],\n      dtype=float32)>, edges=<tf.Tensor: shape=(30898, 3), dtype=float32, numpy=\narray([[ 0.00579996, -0.01206488,  0.01338659],\n       [-0.00720367, -0.01440071,  0.01610196],\n       [-0.00630522,  0.0145334 ,  0.0158422 ],\n       ...,\n       [ 0.30951977,  1.4802246 ,  1.5122392 ],\n       [ 1.0828505 ,  1.8325498 ,  2.1285684 ],\n       [-0.43042946,  1.2830333 ,  1.3533084 ]], dtype=float32)>, receivers=<tf.Tensor: shape=(30898,), dtype=int32, numpy=array([  69,   55,  159, ..., 5061, 5106, 5109])>, senders=<tf.Tensor: shape=(30898,), dtype=int32, numpy=array([ 417,  302,  405, ..., 5029, 5097, 5075])>, globals=None, n_node=<tf.Tensor: shape=(1,), dtype=int32, numpy=array([5233])>, n_edge=<tf.Tensor: shape=(1,), dtype=int32, numpy=array([30898])>)"
     },
     "execution_count": 37,
     "metadata": {},
     "output_type": "execute_result"
    }
   ]
  },
  {
   "cell_type": "code",
   "execution_count": 38,
   "metadata": {
    "id": "WZkwNIuOtHGv",
    "executionInfo": {
     "status": "ok",
     "timestamp": 1646864380994,
     "user_tz": -60,
     "elapsed": 13431,
     "user": {
      "displayName": "david horsky",
      "photoUrl": "https://lh3.googleusercontent.com/a/default-user=s64",
      "userId": "15225206442244274917"
     }
    }
   },
   "outputs": [],
   "source": [
    "aa = itr.next()"
   ]
  },
  {
   "cell_type": "markdown",
   "metadata": {
    "id": "kTXnhOskFwed"
   },
   "source": [
    "## Model and loss function"
   ]
  },
  {
   "cell_type": "code",
   "execution_count": 39,
   "metadata": {
    "id": "50-OmxJmhBlD",
    "executionInfo": {
     "status": "ok",
     "timestamp": 1646864380996,
     "user_tz": -60,
     "elapsed": 10,
     "user": {
      "displayName": "david horsky",
      "photoUrl": "https://lh3.googleusercontent.com/a/default-user=s64",
      "userId": "15225206442244274917"
     }
    }
   },
   "outputs": [],
   "source": [
    "from Normalizer import Normalizer"
   ]
  },
  {
   "cell_type": "code",
   "execution_count": 40,
   "metadata": {
    "id": "FTRpQehszWPd",
    "executionInfo": {
     "status": "ok",
     "timestamp": 1646864381457,
     "user_tz": -60,
     "elapsed": 469,
     "user": {
      "displayName": "david horsky",
      "photoUrl": "https://lh3.googleusercontent.com/a/default-user=s64",
      "userId": "15225206442244274917"
     }
    }
   },
   "outputs": [],
   "source": [
    "from EncodeProcessDecodeBasic import EncodeProcessDecode"
   ]
  },
  {
   "cell_type": "code",
   "execution_count": 41,
   "metadata": {
    "id": "7wzWXTCR0lmC",
    "executionInfo": {
     "status": "ok",
     "timestamp": 1646864382567,
     "user_tz": -60,
     "elapsed": 402,
     "user": {
      "displayName": "david horsky",
      "photoUrl": "https://lh3.googleusercontent.com/a/default-user=s64",
      "userId": "15225206442244274917"
     }
    }
   },
   "outputs": [],
   "source": [
    "from EncodeProcessDecodeNorm import EncodeProcessDecode as EncodeProcessDecodeNorm"
   ]
  },
  {
   "cell_type": "code",
   "source": [
    "from EncodeProcessDecodeAddNorm import EncodeProcessDecode as EncodeProcessDecodeAddNorm"
   ],
   "metadata": {
    "id": "DyJGKk7VwvBm",
    "executionInfo": {
     "status": "ok",
     "timestamp": 1646864503997,
     "user_tz": -60,
     "elapsed": 1097,
     "user": {
      "displayName": "david horsky",
      "photoUrl": "https://lh3.googleusercontent.com/a/default-user=s64",
      "userId": "15225206442244274917"
     }
    }
   },
   "execution_count": 42,
   "outputs": []
  },
  {
   "cell_type": "code",
   "execution_count": 43,
   "outputs": [],
   "source": [
    "from EncodeProcessDecodeNoLib import EncodeProcessDecode as EncodeProcessDecodeNoLib"
   ],
   "metadata": {
    "collapsed": false,
    "pycharm": {
     "name": "#%%\n"
    }
   }
  },
  {
   "cell_type": "code",
   "execution_count": 44,
   "outputs": [],
   "source": [
    "models = {\"basic\": {\"model\": EncodeProcessDecode,\n",
    "                    \"args\": {\"steps\": 15,\n",
    "                             \"learn_features\": 2,\n",
    "                             \"node_net_sizes\": [128] * 2 + [2],\n",
    "                             \"edge_net_sizes\": [128] * 2 + [4]}},\n",
    "          \"small_test\": {\"model\": EncodeProcessDecode,\n",
    "                         \"args\": {\"steps\": 5,\n",
    "                                  \"learn_features\": 2,\n",
    "                                  \"node_net_sizes\": [8] * 2 + [2],\n",
    "                                  \"edge_net_sizes\": [8] * 2 + [4]}},\n",
    "          \"full\": {\"model\": EncodeProcessDecodeNorm,\n",
    "                   \"args\": {\"steps\": 15,\n",
    "                            \"learn_features\": 2,\n",
    "                            \"n_layers\": 2,\n",
    "                            \"lat_size\": 128,\n",
    "                            \"edge_feat_cnt\": 3,\n",
    "                            \"node_feat_cnt\": 5}},\n",
    "          \"no-norm\": {\"model\": EncodeProcessDecodeNorm,\n",
    "                      \"args\": {\"steps\": 15,\n",
    "                               \"learn_features\": 2,\n",
    "                               \"n_layers\": 2,\n",
    "                               \"lat_size\": 128,\n",
    "                               \"edge_feat_cnt\": 3,\n",
    "                               \"node_feat_cnt\": 5,\n",
    "                               \"la_norm\": False}},\n",
    "          \"add\": {\"model\": EncodeProcessDecodeAddNorm,\n",
    "                   \"args\": {\"steps\": 15,\n",
    "                            \"learn_features\": 2,\n",
    "                            \"n_layers\": 2,\n",
    "                            \"lat_size\": 128,\n",
    "                            \"edge_feat_cnt\": 3,\n",
    "                            \"node_feat_cnt\": 5}},\n",
    "          \"no-lib\":{\"model\": EncodeProcessDecodeNoLib,\n",
    "                   \"args\": {\"steps\": 15,\n",
    "                            \"learn_features\": 2,\n",
    "                            \"n_layers\": 2,\n",
    "                            \"lat_size\": 128,\n",
    "                            \"edge_feat_cnt\": 3,\n",
    "                            \"node_feat_cnt\": 5}}}"
   ],
   "metadata": {
    "pycharm": {
     "name": "#%%\n"
    },
    "id": "p-RbOyWA4SAp",
    "executionInfo": {
     "status": "ok",
     "timestamp": 1646864505092,
     "user_tz": -60,
     "elapsed": 4,
     "user": {
      "displayName": "david horsky",
      "photoUrl": "https://lh3.googleusercontent.com/a/default-user=s64",
      "userId": "15225206442244274917"
     }
    }
   }
  },
  {
   "cell_type": "markdown",
   "metadata": {
    "id": "41CWIUw9GQ7m"
   },
   "source": [
    "### Model hyperparameters"
   ]
  },
  {
   "cell_type": "code",
   "execution_count": 45,
   "metadata": {
    "id": "DueyxnKPyCJG",
    "executionInfo": {
     "status": "ok",
     "timestamp": 1646864510223,
     "user_tz": -60,
     "elapsed": 5,
     "user": {
      "displayName": "david horsky",
      "photoUrl": "https://lh3.googleusercontent.com/a/default-user=s64",
      "userId": "15225206442244274917"
     }
    }
   },
   "outputs": [],
   "source": [
    "from AdamModLr import Adam\n",
    "\n",
    "lr = 1e-4\n",
    "# opt = snt.optimizers.Adam(lr)\n",
    "opt = Adam(lr)\n",
    "steps = 15\n",
    "#model = EncodeProcessDecode(steps, LINEAR_FEATURES, [128] * 2, [128] * 2 + [4])\n",
    "mod = \"no-lib\"\n",
    "md = models[mod]\n",
    "model = md[\"model\"](**md[\"args\"])\n",
    "initial_learning_rate = lr\n",
    "decay_rate = 0.1\n",
    "decay_steps = 5e6\n",
    "learning_increase = 1e-6"
   ]
  },
  {
   "cell_type": "markdown",
   "metadata": {
    "id": "-rmqpvEzGWPJ"
   },
   "source": [
    "## Training"
   ]
  },
  {
   "cell_type": "code",
   "execution_count": 46,
   "outputs": [],
   "source": [
    "def decayed_learning_rate(step):\n",
    "    return initial_learning_rate * decay_rate ** (step / decay_steps) + learning_increase"
   ],
   "metadata": {
    "pycharm": {
     "name": "#%%\n"
    },
    "id": "T0T9xCRw4SAq",
    "executionInfo": {
     "status": "ok",
     "timestamp": 1646864512977,
     "user_tz": -60,
     "elapsed": 279,
     "user": {
      "displayName": "david horsky",
      "photoUrl": "https://lh3.googleusercontent.com/a/default-user=s64",
      "userId": "15225206442244274917"
     }
    }
   }
  },
  {
   "cell_type": "code",
   "execution_count": 47,
   "metadata": {
    "id": "pGAd95jfGKyW",
    "executionInfo": {
     "status": "ok",
     "timestamp": 1646864514397,
     "user_tz": -60,
     "elapsed": 2,
     "user": {
      "displayName": "david horsky",
      "photoUrl": "https://lh3.googleusercontent.com/a/default-user=s64",
      "userId": "15225206442244274917"
     }
    }
   },
   "outputs": [],
   "source": [
    "@tf.function\n",
    "def update_step(data):\n",
    "    print(\"Tracing!\")\n",
    "    grp = toGraphsTuple(data)\n",
    "    with tf.GradientTape() as tape:\n",
    "        los = model.loss(grp, data)  #change to loss\n",
    "\n",
    "    gradients = tape.gradient(los, model.trainable_variables)\n",
    "\n",
    "    opt.apply(gradients, model.trainable_variables)\n",
    "    return los"
   ]
  },
  {
   "cell_type": "code",
   "execution_count": 48,
   "metadata": {
    "colab": {
     "base_uri": "https://localhost:8080/",
     "height": 623
    },
    "executionInfo": {
     "elapsed": 1331,
     "status": "error",
     "timestamp": 1646864517804,
     "user": {
      "displayName": "david horsky",
      "photoUrl": "https://lh3.googleusercontent.com/a/default-user=s64",
      "userId": "15225206442244274917"
     },
     "user_tz": -60
    },
    "id": "-mE7jCletFqn",
    "outputId": "aded7ff0-f8e4-49c0-d1f9-29cdadeadb4d"
   },
   "outputs": [
    {
     "name": "stdout",
     "output_type": "stream",
     "text": [
      "Tracing!\n",
      "Tracing!\n"
     ]
    }
   ],
   "source": [
    "update_step(aa);"
   ]
  },
  {
   "cell_type": "code",
   "source": [
    "@tf.function\n",
    "def loss(grp, data):\n",
    "    return model.loss(grp, data)\n"
   ],
   "metadata": {
    "id": "SFd7jLBgPnbh",
    "executionInfo": {
     "status": "aborted",
     "timestamp": 1646864517801,
     "user_tz": -60,
     "elapsed": 11,
     "user": {
      "displayName": "david horsky",
      "photoUrl": "https://lh3.googleusercontent.com/a/default-user=s64",
      "userId": "15225206442244274917"
     }
    }
   },
   "execution_count": 49,
   "outputs": []
  },
  {
   "cell_type": "code",
   "source": [
    "if IN_COLAB:\n",
    "    logdir = 'logs/tst/'\n",
    "    writer = tf.summary.create_file_writer(logdir)\n",
    "\n",
    "    # Bracket the function call with\n",
    "    # tf.summary.trace_on() and tf.summary.trace_export().\n",
    "    tf.summary.trace_on(graph=True, profiler=True)\n",
    "    # Call only one tf.function when tracing.\n",
    "    z = loss(dd, d);\n",
    "    with writer.as_default():\n",
    "        tf.summary.trace_export(\n",
    "            name=\"my_func_trace\",\n",
    "            step=0,\n",
    "            profiler_outdir=logdir)"
   ],
   "metadata": {
    "id": "AQEwzgiaLobf",
    "executionInfo": {
     "status": "aborted",
     "timestamp": 1646864517803,
     "user_tz": -60,
     "elapsed": 13,
     "user": {
      "displayName": "david horsky",
      "photoUrl": "https://lh3.googleusercontent.com/a/default-user=s64",
      "userId": "15225206442244274917"
     }
    }
   },
   "execution_count": 50,
   "outputs": []
  },
  {
   "cell_type": "code",
   "execution_count": 51,
   "metadata": {
    "id": "F4Xnsg7MpzaY",
    "executionInfo": {
     "status": "ok",
     "timestamp": 1646864520923,
     "user_tz": -60,
     "elapsed": 266,
     "user": {
      "displayName": "david horsky",
      "photoUrl": "https://lh3.googleusercontent.com/a/default-user=s64",
      "userId": "15225206442244274917"
     }
    }
   },
   "outputs": [],
   "source": [
    "chck_root = \"models/nolib/\"\n",
    "chck_name = mod\n",
    "\n",
    "chck = tf.train.Checkpoint(module=model)\n",
    "\n",
    "latest = tf.train.latest_checkpoint(chck_root)\n",
    "if latest is not None:\n",
    "    print(\"loading\", latest)\n",
    "    chck.restore(latest)"
   ]
  },
  {
   "cell_type": "code",
   "execution_count": 52,
   "metadata": {
    "id": "JgZu39MbJi_z"
   },
   "outputs": [],
   "source": [
    "if latest is None and (isinstance(model, EncodeProcessDecodeNorm) or isinstance(model,EncodeProcessDecodeAddNorm) ):\n",
    "    print(\"Acumulating\")\n",
    "    for i in range(1000):\n",
    "        data = itr.next()\n",
    "        grp = toGraphsTuple(data)\n",
    "        model.loss(grp, data)"
   ]
  },
  {
   "cell_type": "code",
   "execution_count": 53,
   "metadata": {
    "id": "zCL_h2riGcON"
   },
   "outputs": [
    {
     "ename": "KeyboardInterrupt",
     "evalue": "",
     "output_type": "error",
     "traceback": [
      "\u001B[1;31m---------------------------------------------------------------------------\u001B[0m",
      "\u001B[1;31mKeyboardInterrupt\u001B[0m                         Traceback (most recent call last)",
      "Input \u001B[1;32mIn [53]\u001B[0m, in \u001B[0;36m<module>\u001B[1;34m\u001B[0m\n\u001B[0;32m      9\u001B[0m \u001B[38;5;28;01mfor\u001B[39;00m i \u001B[38;5;129;01min\u001B[39;00m \u001B[38;5;28mrange\u001B[39m(start, \u001B[38;5;28mint\u001B[39m(\u001B[38;5;241m1e7\u001B[39m)):\n\u001B[0;32m     10\u001B[0m     a \u001B[38;5;241m=\u001B[39m itr\u001B[38;5;241m.\u001B[39mnext()\n\u001B[1;32m---> 11\u001B[0m     m \u001B[38;5;241m=\u001B[39m \u001B[43mupdate_step\u001B[49m\u001B[43m(\u001B[49m\u001B[43ma\u001B[49m\u001B[43m)\u001B[49m\n\u001B[0;32m     12\u001B[0m     \u001B[38;5;28;01mif\u001B[39;00m i \u001B[38;5;241m%\u001B[39m sm_print \u001B[38;5;241m==\u001B[39m \u001B[38;5;241m0\u001B[39m:\n\u001B[0;32m     13\u001B[0m         opt\u001B[38;5;241m.\u001B[39mlearning_rate\u001B[38;5;241m.\u001B[39massign(decayed_learning_rate(i))\n",
      "File \u001B[1;32m~\\AppData\\Local\\Programs\\Python\\Python39\\lib\\site-packages\\tensorflow\\python\\util\\traceback_utils.py:150\u001B[0m, in \u001B[0;36mfilter_traceback.<locals>.error_handler\u001B[1;34m(*args, **kwargs)\u001B[0m\n\u001B[0;32m    148\u001B[0m filtered_tb \u001B[38;5;241m=\u001B[39m \u001B[38;5;28;01mNone\u001B[39;00m\n\u001B[0;32m    149\u001B[0m \u001B[38;5;28;01mtry\u001B[39;00m:\n\u001B[1;32m--> 150\u001B[0m   \u001B[38;5;28;01mreturn\u001B[39;00m fn(\u001B[38;5;241m*\u001B[39margs, \u001B[38;5;241m*\u001B[39m\u001B[38;5;241m*\u001B[39mkwargs)\n\u001B[0;32m    151\u001B[0m \u001B[38;5;28;01mexcept\u001B[39;00m \u001B[38;5;167;01mException\u001B[39;00m \u001B[38;5;28;01mas\u001B[39;00m e:\n\u001B[0;32m    152\u001B[0m   filtered_tb \u001B[38;5;241m=\u001B[39m _process_traceback_frames(e\u001B[38;5;241m.\u001B[39m__traceback__)\n",
      "File \u001B[1;32m~\\AppData\\Local\\Programs\\Python\\Python39\\lib\\site-packages\\tensorflow\\python\\eager\\def_function.py:915\u001B[0m, in \u001B[0;36mFunction.__call__\u001B[1;34m(self, *args, **kwds)\u001B[0m\n\u001B[0;32m    912\u001B[0m compiler \u001B[38;5;241m=\u001B[39m \u001B[38;5;124m\"\u001B[39m\u001B[38;5;124mxla\u001B[39m\u001B[38;5;124m\"\u001B[39m \u001B[38;5;28;01mif\u001B[39;00m \u001B[38;5;28mself\u001B[39m\u001B[38;5;241m.\u001B[39m_jit_compile \u001B[38;5;28;01melse\u001B[39;00m \u001B[38;5;124m\"\u001B[39m\u001B[38;5;124mnonXla\u001B[39m\u001B[38;5;124m\"\u001B[39m\n\u001B[0;32m    914\u001B[0m \u001B[38;5;28;01mwith\u001B[39;00m OptionalXlaContext(\u001B[38;5;28mself\u001B[39m\u001B[38;5;241m.\u001B[39m_jit_compile):\n\u001B[1;32m--> 915\u001B[0m   result \u001B[38;5;241m=\u001B[39m \u001B[38;5;28mself\u001B[39m\u001B[38;5;241m.\u001B[39m_call(\u001B[38;5;241m*\u001B[39margs, \u001B[38;5;241m*\u001B[39m\u001B[38;5;241m*\u001B[39mkwds)\n\u001B[0;32m    917\u001B[0m new_tracing_count \u001B[38;5;241m=\u001B[39m \u001B[38;5;28mself\u001B[39m\u001B[38;5;241m.\u001B[39mexperimental_get_tracing_count()\n\u001B[0;32m    918\u001B[0m without_tracing \u001B[38;5;241m=\u001B[39m (tracing_count \u001B[38;5;241m==\u001B[39m new_tracing_count)\n",
      "File \u001B[1;32m~\\AppData\\Local\\Programs\\Python\\Python39\\lib\\site-packages\\tensorflow\\python\\eager\\def_function.py:947\u001B[0m, in \u001B[0;36mFunction._call\u001B[1;34m(self, *args, **kwds)\u001B[0m\n\u001B[0;32m    944\u001B[0m   \u001B[38;5;28mself\u001B[39m\u001B[38;5;241m.\u001B[39m_lock\u001B[38;5;241m.\u001B[39mrelease()\n\u001B[0;32m    945\u001B[0m   \u001B[38;5;66;03m# In this case we have created variables on the first call, so we run the\u001B[39;00m\n\u001B[0;32m    946\u001B[0m   \u001B[38;5;66;03m# defunned version which is guaranteed to never create variables.\u001B[39;00m\n\u001B[1;32m--> 947\u001B[0m   \u001B[38;5;28;01mreturn\u001B[39;00m \u001B[38;5;28mself\u001B[39m\u001B[38;5;241m.\u001B[39m_stateless_fn(\u001B[38;5;241m*\u001B[39margs, \u001B[38;5;241m*\u001B[39m\u001B[38;5;241m*\u001B[39mkwds)  \u001B[38;5;66;03m# pylint: disable=not-callable\u001B[39;00m\n\u001B[0;32m    948\u001B[0m \u001B[38;5;28;01melif\u001B[39;00m \u001B[38;5;28mself\u001B[39m\u001B[38;5;241m.\u001B[39m_stateful_fn \u001B[38;5;129;01mis\u001B[39;00m \u001B[38;5;129;01mnot\u001B[39;00m \u001B[38;5;28;01mNone\u001B[39;00m:\n\u001B[0;32m    949\u001B[0m   \u001B[38;5;66;03m# Release the lock early so that multiple threads can perform the call\u001B[39;00m\n\u001B[0;32m    950\u001B[0m   \u001B[38;5;66;03m# in parallel.\u001B[39;00m\n\u001B[0;32m    951\u001B[0m   \u001B[38;5;28mself\u001B[39m\u001B[38;5;241m.\u001B[39m_lock\u001B[38;5;241m.\u001B[39mrelease()\n",
      "File \u001B[1;32m~\\AppData\\Local\\Programs\\Python\\Python39\\lib\\site-packages\\tensorflow\\python\\eager\\function.py:2956\u001B[0m, in \u001B[0;36mFunction.__call__\u001B[1;34m(self, *args, **kwargs)\u001B[0m\n\u001B[0;32m   2953\u001B[0m \u001B[38;5;28;01mwith\u001B[39;00m \u001B[38;5;28mself\u001B[39m\u001B[38;5;241m.\u001B[39m_lock:\n\u001B[0;32m   2954\u001B[0m   (graph_function,\n\u001B[0;32m   2955\u001B[0m    filtered_flat_args) \u001B[38;5;241m=\u001B[39m \u001B[38;5;28mself\u001B[39m\u001B[38;5;241m.\u001B[39m_maybe_define_function(args, kwargs)\n\u001B[1;32m-> 2956\u001B[0m \u001B[38;5;28;01mreturn\u001B[39;00m \u001B[43mgraph_function\u001B[49m\u001B[38;5;241;43m.\u001B[39;49m\u001B[43m_call_flat\u001B[49m\u001B[43m(\u001B[49m\n\u001B[0;32m   2957\u001B[0m \u001B[43m    \u001B[49m\u001B[43mfiltered_flat_args\u001B[49m\u001B[43m,\u001B[49m\u001B[43m \u001B[49m\u001B[43mcaptured_inputs\u001B[49m\u001B[38;5;241;43m=\u001B[39;49m\u001B[43mgraph_function\u001B[49m\u001B[38;5;241;43m.\u001B[39;49m\u001B[43mcaptured_inputs\u001B[49m\u001B[43m)\u001B[49m\n",
      "File \u001B[1;32m~\\AppData\\Local\\Programs\\Python\\Python39\\lib\\site-packages\\tensorflow\\python\\eager\\function.py:1853\u001B[0m, in \u001B[0;36mConcreteFunction._call_flat\u001B[1;34m(self, args, captured_inputs, cancellation_manager)\u001B[0m\n\u001B[0;32m   1849\u001B[0m possible_gradient_type \u001B[38;5;241m=\u001B[39m gradients_util\u001B[38;5;241m.\u001B[39mPossibleTapeGradientTypes(args)\n\u001B[0;32m   1850\u001B[0m \u001B[38;5;28;01mif\u001B[39;00m (possible_gradient_type \u001B[38;5;241m==\u001B[39m gradients_util\u001B[38;5;241m.\u001B[39mPOSSIBLE_GRADIENT_TYPES_NONE\n\u001B[0;32m   1851\u001B[0m     \u001B[38;5;129;01mand\u001B[39;00m executing_eagerly):\n\u001B[0;32m   1852\u001B[0m   \u001B[38;5;66;03m# No tape is watching; skip to running the function.\u001B[39;00m\n\u001B[1;32m-> 1853\u001B[0m   \u001B[38;5;28;01mreturn\u001B[39;00m \u001B[38;5;28mself\u001B[39m\u001B[38;5;241m.\u001B[39m_build_call_outputs(\u001B[38;5;28;43mself\u001B[39;49m\u001B[38;5;241;43m.\u001B[39;49m\u001B[43m_inference_function\u001B[49m\u001B[38;5;241;43m.\u001B[39;49m\u001B[43mcall\u001B[49m\u001B[43m(\u001B[49m\n\u001B[0;32m   1854\u001B[0m \u001B[43m      \u001B[49m\u001B[43mctx\u001B[49m\u001B[43m,\u001B[49m\u001B[43m \u001B[49m\u001B[43margs\u001B[49m\u001B[43m,\u001B[49m\u001B[43m \u001B[49m\u001B[43mcancellation_manager\u001B[49m\u001B[38;5;241;43m=\u001B[39;49m\u001B[43mcancellation_manager\u001B[49m\u001B[43m)\u001B[49m)\n\u001B[0;32m   1855\u001B[0m forward_backward \u001B[38;5;241m=\u001B[39m \u001B[38;5;28mself\u001B[39m\u001B[38;5;241m.\u001B[39m_select_forward_and_backward_functions(\n\u001B[0;32m   1856\u001B[0m     args,\n\u001B[0;32m   1857\u001B[0m     possible_gradient_type,\n\u001B[0;32m   1858\u001B[0m     executing_eagerly)\n\u001B[0;32m   1859\u001B[0m forward_function, args_with_tangents \u001B[38;5;241m=\u001B[39m forward_backward\u001B[38;5;241m.\u001B[39mforward()\n",
      "File \u001B[1;32m~\\AppData\\Local\\Programs\\Python\\Python39\\lib\\site-packages\\tensorflow\\python\\eager\\function.py:499\u001B[0m, in \u001B[0;36m_EagerDefinedFunction.call\u001B[1;34m(self, ctx, args, cancellation_manager)\u001B[0m\n\u001B[0;32m    497\u001B[0m \u001B[38;5;28;01mwith\u001B[39;00m _InterpolateFunctionError(\u001B[38;5;28mself\u001B[39m):\n\u001B[0;32m    498\u001B[0m   \u001B[38;5;28;01mif\u001B[39;00m cancellation_manager \u001B[38;5;129;01mis\u001B[39;00m \u001B[38;5;28;01mNone\u001B[39;00m:\n\u001B[1;32m--> 499\u001B[0m     outputs \u001B[38;5;241m=\u001B[39m \u001B[43mexecute\u001B[49m\u001B[38;5;241;43m.\u001B[39;49m\u001B[43mexecute\u001B[49m\u001B[43m(\u001B[49m\n\u001B[0;32m    500\u001B[0m \u001B[43m        \u001B[49m\u001B[38;5;28;43mstr\u001B[39;49m\u001B[43m(\u001B[49m\u001B[38;5;28;43mself\u001B[39;49m\u001B[38;5;241;43m.\u001B[39;49m\u001B[43msignature\u001B[49m\u001B[38;5;241;43m.\u001B[39;49m\u001B[43mname\u001B[49m\u001B[43m)\u001B[49m\u001B[43m,\u001B[49m\n\u001B[0;32m    501\u001B[0m \u001B[43m        \u001B[49m\u001B[43mnum_outputs\u001B[49m\u001B[38;5;241;43m=\u001B[39;49m\u001B[38;5;28;43mself\u001B[39;49m\u001B[38;5;241;43m.\u001B[39;49m\u001B[43m_num_outputs\u001B[49m\u001B[43m,\u001B[49m\n\u001B[0;32m    502\u001B[0m \u001B[43m        \u001B[49m\u001B[43minputs\u001B[49m\u001B[38;5;241;43m=\u001B[39;49m\u001B[43margs\u001B[49m\u001B[43m,\u001B[49m\n\u001B[0;32m    503\u001B[0m \u001B[43m        \u001B[49m\u001B[43mattrs\u001B[49m\u001B[38;5;241;43m=\u001B[39;49m\u001B[43mattrs\u001B[49m\u001B[43m,\u001B[49m\n\u001B[0;32m    504\u001B[0m \u001B[43m        \u001B[49m\u001B[43mctx\u001B[49m\u001B[38;5;241;43m=\u001B[39;49m\u001B[43mctx\u001B[49m\u001B[43m)\u001B[49m\n\u001B[0;32m    505\u001B[0m   \u001B[38;5;28;01melse\u001B[39;00m:\n\u001B[0;32m    506\u001B[0m     outputs \u001B[38;5;241m=\u001B[39m execute\u001B[38;5;241m.\u001B[39mexecute_with_cancellation(\n\u001B[0;32m    507\u001B[0m         \u001B[38;5;28mstr\u001B[39m(\u001B[38;5;28mself\u001B[39m\u001B[38;5;241m.\u001B[39msignature\u001B[38;5;241m.\u001B[39mname),\n\u001B[0;32m    508\u001B[0m         num_outputs\u001B[38;5;241m=\u001B[39m\u001B[38;5;28mself\u001B[39m\u001B[38;5;241m.\u001B[39m_num_outputs,\n\u001B[1;32m   (...)\u001B[0m\n\u001B[0;32m    511\u001B[0m         ctx\u001B[38;5;241m=\u001B[39mctx,\n\u001B[0;32m    512\u001B[0m         cancellation_manager\u001B[38;5;241m=\u001B[39mcancellation_manager)\n",
      "File \u001B[1;32m~\\AppData\\Local\\Programs\\Python\\Python39\\lib\\site-packages\\tensorflow\\python\\eager\\execute.py:54\u001B[0m, in \u001B[0;36mquick_execute\u001B[1;34m(op_name, num_outputs, inputs, attrs, ctx, name)\u001B[0m\n\u001B[0;32m     52\u001B[0m \u001B[38;5;28;01mtry\u001B[39;00m:\n\u001B[0;32m     53\u001B[0m   ctx\u001B[38;5;241m.\u001B[39mensure_initialized()\n\u001B[1;32m---> 54\u001B[0m   tensors \u001B[38;5;241m=\u001B[39m \u001B[43mpywrap_tfe\u001B[49m\u001B[38;5;241;43m.\u001B[39;49m\u001B[43mTFE_Py_Execute\u001B[49m\u001B[43m(\u001B[49m\u001B[43mctx\u001B[49m\u001B[38;5;241;43m.\u001B[39;49m\u001B[43m_handle\u001B[49m\u001B[43m,\u001B[49m\u001B[43m \u001B[49m\u001B[43mdevice_name\u001B[49m\u001B[43m,\u001B[49m\u001B[43m \u001B[49m\u001B[43mop_name\u001B[49m\u001B[43m,\u001B[49m\n\u001B[0;32m     55\u001B[0m \u001B[43m                                      \u001B[49m\u001B[43minputs\u001B[49m\u001B[43m,\u001B[49m\u001B[43m \u001B[49m\u001B[43mattrs\u001B[49m\u001B[43m,\u001B[49m\u001B[43m \u001B[49m\u001B[43mnum_outputs\u001B[49m\u001B[43m)\u001B[49m\n\u001B[0;32m     56\u001B[0m \u001B[38;5;28;01mexcept\u001B[39;00m core\u001B[38;5;241m.\u001B[39m_NotOkStatusException \u001B[38;5;28;01mas\u001B[39;00m e:\n\u001B[0;32m     57\u001B[0m   \u001B[38;5;28;01mif\u001B[39;00m name \u001B[38;5;129;01mis\u001B[39;00m \u001B[38;5;129;01mnot\u001B[39;00m \u001B[38;5;28;01mNone\u001B[39;00m:\n",
      "\u001B[1;31mKeyboardInterrupt\u001B[0m: "
     ]
    }
   ],
   "source": [
    "colab_train = False\n",
    "start = 0\n",
    "sm_print = 500\n",
    "save_itr = 40000\n",
    "if not IN_COLAB or colab_train:\n",
    "    if latest is not None:\n",
    "        start = int(re.findall('\\d+$', latest)[0])\n",
    "    t = time.time()\n",
    "    for i in range(start, int(1e7)):\n",
    "        a = itr.next()\n",
    "        m = update_step(a)\n",
    "        if i % sm_print == 0:\n",
    "            opt.learning_rate.assign(decayed_learning_rate(i))\n",
    "            print(\"i\", i, \"mse:\", m.numpy())\n",
    "            if i and i % save_itr == 0:\n",
    "                sys.stdout.flush()\n",
    "                chck.save(chck_root + chck_name)\n",
    "    print(time.time() - t)"
   ]
  },
  {
   "cell_type": "code",
   "execution_count": null,
   "metadata": {
    "id": "n6-zse4oZlLr"
   },
   "outputs": [],
   "source": [
    "if \"m\" in locals():\n",
    "    m.numpy()"
   ]
  },
  {
   "cell_type": "markdown",
   "metadata": {
    "id": "2sdIk7J4Gn-Z"
   },
   "source": [
    "## Vizualization"
   ]
  },
  {
   "cell_type": "code",
   "execution_count": null,
   "metadata": {
    "id": "B7az1IQah3pZ"
   },
   "outputs": [],
   "source": [
    "dt2 = load_dataset(data_path, data_valid)\n",
    "dt2 = add_targets(dt2, [params['field']], add_history=params['history'])\n",
    "qq = iter(dt2).next()\n",
    "qqq = {}\n",
    "for i, j in qq.items():\n",
    "    qqq[i] = j[0]\n",
    "grp_ = toGraphsTuple(qqq)"
   ]
  },
  {
   "cell_type": "code",
   "source": [
    "@tf.function\n",
    "def toGraphsTupleOld(d):\n",
    "    send, recive = triangles_to_edges(d['cells'])\n",
    "    rel_pos = (tf.gather(d['mesh_pos'], send) - tf.gather(d['mesh_pos'], recive))\n",
    "    nodes_unique = tf.unique_with_counts(tf.reshape(d[\"node_type\"], [-1]))\n",
    "    dd = {\n",
    "        #\"nodes\": tf.concat([d[\"velocity\"],d[\"pressure\"],d[\"density\"],tf.cast(d[\"node_type\"],tf.float32),d[\"mesh_pos\"]],1),\n",
    "        \"nodes\": tf.concat([d['velocity'], tf.one_hot(tf.reshape(d[\"node_type\"], [-1]), NodeTypeCnt, dtype=tf.float32)],\n",
    "                           1),  # on change update loss function ^\n",
    "        \"senders\": send,\n",
    "        \"receivers\": recive,\n",
    "        \"edges\": tf.concat([\n",
    "            rel_pos,\n",
    "            tf.norm(rel_pos, axis=-1, keepdims=True)], 1)\n",
    "    }\n",
    "    return utils_tf.data_dicts_to_graphs_tuple([dd])"
   ],
   "metadata": {
    "id": "EewpBxU7HoZI"
   },
   "execution_count": null,
   "outputs": []
  },
  {
   "cell_type": "code",
   "execution_count": null,
   "metadata": {
    "id": "W6HE1HO-paOC"
   },
   "outputs": [],
   "source": [
    "# fix mistake in data preparation\n",
    "if chck_root == \"models/new\":\n",
    "    grp_ = toGraphsTupleOld(qqq)"
   ]
  },
  {
   "cell_type": "code",
   "execution_count": null,
   "metadata": {
    "id": "iYsAa0I3E3E4"
   },
   "outputs": [],
   "source": [
    "res = [grp_, ]\n",
    "loss_mask = tf.logical_or(tf.equal(qqq['node_type'][:, 0], NodeType.NORMAL),\n",
    "                          tf.equal(qqq['node_type'][:, 0], NodeType.OUTFLOW))\n",
    "loss_mask = tf.reshape(tf.concat([loss_mask for _ in range(5)], -1), [-1, 5])\n",
    "for i in range(600):\n",
    "    grp2_ = model(grp_, False)\n",
    "    grp_ = grp_.replace(nodes=tf.where(loss_mask, grp2_.nodes, grp_.nodes))\n",
    "    res.append(grp_)"
   ]
  },
  {
   "cell_type": "code",
   "execution_count": null,
   "metadata": {
    "id": "yAvHsrlrNR8Y",
    "colab": {
     "base_uri": "https://localhost:8080/"
    },
    "executionInfo": {
     "status": "ok",
     "timestamp": 1646860176633,
     "user_tz": -60,
     "elapsed": 6,
     "user": {
      "displayName": "david horsky",
      "photoUrl": "https://lh3.googleusercontent.com/a/default-user=s64",
      "userId": "15225206442244274917"
     }
    },
    "outputId": "74d8b89d-4b9f-4549-a64b-cd749ab6d9e7"
   },
   "outputs": [],
   "source": [
    "grp_.nodes.shape, grp2_.nodes.shape, loss_mask.shape"
   ]
  },
  {
   "cell_type": "code",
   "execution_count": null,
   "metadata": {
    "id": "D_x92ZzOSIFR"
   },
   "outputs": [],
   "source": [
    "from matplotlib import pyplot as plt\n",
    "from matplotlib.animation import FuncAnimation\n",
    "from matplotlib import tri as mtri"
   ]
  },
  {
   "cell_type": "code",
   "execution_count": null,
   "metadata": {
    "id": "sojXwyPSCjPn",
    "colab": {
     "base_uri": "https://localhost:8080/"
    },
    "executionInfo": {
     "status": "ok",
     "timestamp": 1646860177337,
     "user_tz": -60,
     "elapsed": 706,
     "user": {
      "displayName": "david horsky",
      "photoUrl": "https://lh3.googleusercontent.com/a/default-user=s64",
      "userId": "15225206442244274917"
     }
    },
    "outputId": "8a3dfedf-1f27-4fd8-b9a1-4ca231f4f6e7"
   },
   "outputs": [],
   "source": [
    "res[0]"
   ]
  },
  {
   "cell_type": "code",
   "execution_count": null,
   "metadata": {
    "id": "xD-mCoFaRV_r",
    "colab": {
     "base_uri": "https://localhost:8080/",
     "height": 1000
    },
    "executionInfo": {
     "status": "ok",
     "timestamp": 1646860237912,
     "user_tz": -60,
     "elapsed": 60579,
     "user": {
      "displayName": "david horsky",
      "photoUrl": "https://lh3.googleusercontent.com/a/default-user=s64",
      "userId": "15225206442244274917"
     }
    },
    "outputId": "2108e9d1-fc5e-4b4c-e9ad-1902cd96ed24"
   },
   "outputs": [],
   "source": [
    "fig, ax = plt.subplots(1, 1, figsize=(12, 8))\n",
    "skip = 5\n",
    "num_steps = len(res)\n",
    "num_frames = num_steps // skip\n",
    "# compute bounds\n",
    "bounds = []\n",
    "bb_min, bb_max = tf.reduce_min(qq['velocity'][:, 0]), tf.reduce_max(qq['velocity'][:, 0])\n",
    "\n",
    "\n",
    "def animate(num):\n",
    "    global t\n",
    "    step = (num * skip) % num_steps\n",
    "    traj = (num * skip) // num_steps\n",
    "    ax.cla()\n",
    "    ax.set_xlim(-1, 2)\n",
    "    ax.set_ylim(-1.5, 1.5)\n",
    "    ax.set_autoscale_on(False)\n",
    "    vmin, vmax = bb_min, bb_max\n",
    "    pos = qqq['mesh_pos']\n",
    "    faces = qqq['cells']\n",
    "    velocity = res[step].nodes[..., :2].numpy()\n",
    "    triang = mtri.Triangulation(pos[:, 0], pos[:, 1], faces)\n",
    "    t = ax.tripcolor(triang, velocity[:, 0], vmin=vmin, vmax=vmax)\n",
    "    ax.triplot(triang, 'ko-', ms=0.5, lw=0.3)\n",
    "    ax.set_title('Trajectory %d Step %d' % (traj, step))\n",
    "    return fig,\n",
    "\n",
    "\n",
    "animate(0)\n",
    "plt.colorbar(t)\n",
    "\n",
    "anim = FuncAnimation(fig, animate, frames=num_frames, interval=200)\n",
    "from IPython.display import HTML\n",
    "\n",
    "HTML(anim.to_html5_video())"
   ]
  },
  {
   "cell_type": "code",
   "execution_count": null,
   "metadata": {
    "id": "xAk5i42t-uik",
    "colab": {
     "base_uri": "https://localhost:8080/",
     "height": 1000
    },
    "executionInfo": {
     "status": "ok",
     "timestamp": 1646860296362,
     "user_tz": -60,
     "elapsed": 58453,
     "user": {
      "displayName": "david horsky",
      "photoUrl": "https://lh3.googleusercontent.com/a/default-user=s64",
      "userId": "15225206442244274917"
     }
    },
    "outputId": "8aab54df-9337-4ea7-de0b-b5466a0ee685"
   },
   "outputs": [],
   "source": [
    "fig, ax = plt.subplots(1, 1, figsize=(12, 8))\n",
    "skip = 5\n",
    "num_steps = len(res)\n",
    "num_frames = num_steps // skip\n",
    "# compute bounds\n",
    "bounds = []\n",
    "\n",
    "bb_min, bb_max = tf.reduce_min(qq['velocity'][:, 0]), tf.reduce_max(qq['velocity'][:, 0])\n",
    "\n",
    "\n",
    "def animate(num):\n",
    "    global t\n",
    "    step = (num * skip) % num_steps\n",
    "    traj = (num * skip) // num_steps\n",
    "    ax.cla()\n",
    "    ax.set_xlim(-1, 2)\n",
    "    ax.set_ylim(-1.5, 1.5)\n",
    "    ax.set_autoscale_on(False)\n",
    "    vmin, vmax = bb_min, bb_max\n",
    "    pos = qq['mesh_pos'][0]\n",
    "    faces = qq['cells'][0]\n",
    "    velocity = qq['velocity'][step]\n",
    "    triang = mtri.Triangulation(pos[:, 0], pos[:, 1], faces)\n",
    "    t = ax.tripcolor(triang, velocity[:, 0], vmin=vmin, vmax=vmax)\n",
    "    ax.triplot(triang, 'ko-', ms=0.5, lw=0.3)\n",
    "    ax.set_title('Trajectory %d Step %d' % (traj, step))\n",
    "    return fig,\n",
    "\n",
    "\n",
    "animate(0)\n",
    "plt.colorbar(t)\n",
    "\n",
    "anim = FuncAnimation(fig, animate, frames=num_frames, interval=200)\n",
    "from IPython.display import HTML\n",
    "\n",
    "HTML(anim.to_html5_video())"
   ]
  },
  {
   "cell_type": "code",
   "execution_count": null,
   "metadata": {
    "id": "RUC2kys8BVfb",
    "colab": {
     "base_uri": "https://localhost:8080/"
    },
    "executionInfo": {
     "status": "ok",
     "timestamp": 1646860296362,
     "user_tz": -60,
     "elapsed": 14,
     "user": {
      "displayName": "david horsky",
      "photoUrl": "https://lh3.googleusercontent.com/a/default-user=s64",
      "userId": "15225206442244274917"
     }
    },
    "outputId": "77973464-9c62-4065-d52c-552b3a83de88"
   },
   "outputs": [],
   "source": [
    "bb_min, bb_max"
   ]
  },
  {
   "cell_type": "code",
   "source": [
    "model._node_norm._std_with_epsilon(),model._node_norm._mean()"
   ],
   "metadata": {
    "colab": {
     "base_uri": "https://localhost:8080/"
    },
    "id": "D-1F-HpWKSJK",
    "executionInfo": {
     "status": "ok",
     "timestamp": 1646860296362,
     "user_tz": -60,
     "elapsed": 7,
     "user": {
      "displayName": "david horsky",
      "photoUrl": "https://lh3.googleusercontent.com/a/default-user=s64",
      "userId": "15225206442244274917"
     }
    },
    "outputId": "b2372a8d-0d0b-42cf-ec8b-bd330da2908b"
   },
   "execution_count": null,
   "outputs": []
  },
  {
   "cell_type": "code",
   "source": [
    "qq['target|velocity'].shape, qq['velocity'].shape"
   ],
   "metadata": {
    "colab": {
     "base_uri": "https://localhost:8080/"
    },
    "id": "kDos9sgYNAWO",
    "executionInfo": {
     "status": "ok",
     "timestamp": 1646860296363,
     "user_tz": -60,
     "elapsed": 6,
     "user": {
      "displayName": "david horsky",
      "photoUrl": "https://lh3.googleusercontent.com/a/default-user=s64",
      "userId": "15225206442244274917"
     }
    },
    "outputId": "42a256cb-77b0-436e-f2ed-0676de580a42"
   },
   "execution_count": null,
   "outputs": []
  },
  {
   "cell_type": "code",
   "source": [
    "r = tf.reduce_sum((qq['velocity'] - qq['target|velocity'])**2)\n",
    "r"
   ],
   "metadata": {
    "colab": {
     "base_uri": "https://localhost:8080/"
    },
    "id": "Te9-5ridMn9J",
    "executionInfo": {
     "status": "ok",
     "timestamp": 1646860296363,
     "user_tz": -60,
     "elapsed": 5,
     "user": {
      "displayName": "david horsky",
      "photoUrl": "https://lh3.googleusercontent.com/a/default-user=s64",
      "userId": "15225206442244274917"
     }
    },
    "outputId": "4a34e3ab-d9e8-4aa5-d9e5-28880f24c7a8"
   },
   "execution_count": null,
   "outputs": []
  },
  {
   "cell_type": "code",
   "source": [
    "tt = [{i:qq[i][x] for i in qq.keys()} for x in range(599)]"
   ],
   "metadata": {
    "id": "Z54kK29oQqSF"
   },
   "execution_count": null,
   "outputs": []
  },
  {
   "cell_type": "code",
   "source": [
    "lss = []\n",
    "for i in tt:\n",
    "  lss.append(model.loss(toGraphsTuple(i),i))"
   ],
   "metadata": {
    "id": "m2Doz88iMIcF"
   },
   "execution_count": null,
   "outputs": []
  },
  {
   "cell_type": "code",
   "source": [
    "lss = [x.numpy() for x in lss]"
   ],
   "metadata": {
    "id": "r-WgXhS0PoJ2"
   },
   "execution_count": null,
   "outputs": []
  },
  {
   "cell_type": "code",
   "source": [
    "plt.plot(lss[:10])"
   ],
   "metadata": {
    "colab": {
     "base_uri": "https://localhost:8080/"
    },
    "id": "TPMBBA--UGY5",
    "executionInfo": {
     "status": "ok",
     "timestamp": 1646860394103,
     "user_tz": -60,
     "elapsed": 460,
     "user": {
      "displayName": "david horsky",
      "photoUrl": "https://lh3.googleusercontent.com/a/default-user=s64",
      "userId": "15225206442244274917"
     }
    },
    "outputId": "3082f10a-86e0-46a6-c4ca-4bc15f59b2ba"
   },
   "execution_count": null,
   "outputs": []
  },
  {
   "cell_type": "code",
   "source": [
    "1e7/(1000*600)"
   ],
   "metadata": {
    "colab": {
     "base_uri": "https://localhost:8080/"
    },
    "id": "4Iw9fT7tSHry",
    "executionInfo": {
     "status": "ok",
     "timestamp": 1646860394103,
     "user_tz": -60,
     "elapsed": 10,
     "user": {
      "displayName": "david horsky",
      "photoUrl": "https://lh3.googleusercontent.com/a/default-user=s64",
      "userId": "15225206442244274917"
     }
    },
    "outputId": "70587d34-21d5-4fc8-d661-663cf147ab43"
   },
   "execution_count": null,
   "outputs": []
  },
  {
   "cell_type": "code",
   "source": [
    "ee = [x.shape.as_list() for x in model.trainable_variables]\n",
    "sum([(y[0] if len(y) == 1 else y[0]*y[1]) for y in ee])"
   ],
   "metadata": {
    "colab": {
     "base_uri": "https://localhost:8080/"
    },
    "id": "nO_jH39ETn35",
    "executionInfo": {
     "status": "ok",
     "timestamp": 1646860394104,
     "user_tz": -60,
     "elapsed": 8,
     "user": {
      "displayName": "david horsky",
      "photoUrl": "https://lh3.googleusercontent.com/a/default-user=s64",
      "userId": "15225206442244274917"
     }
    },
    "outputId": "15dabda9-e7d7-44be-9606-72e762a993f9"
   },
   "execution_count": null,
   "outputs": []
  },
  {
   "cell_type": "code",
   "source": [
    ""
   ],
   "metadata": {
    "id": "p1KK9yuhWwXG"
   },
   "execution_count": null,
   "outputs": []
  }
 ],
 "metadata": {
  "colab": {
   "collapsed_sections": [],
   "name": "graph_lib.ipynb",
   "provenance": []
  },
  "kernelspec": {
   "display_name": "Python 3",
   "name": "python3"
  },
  "language_info": {
   "name": "python"
  },
  "accelerator": "GPU"
 },
 "nbformat": 4,
 "nbformat_minor": 0
}